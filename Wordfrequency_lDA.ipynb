{
  "nbformat": 4,
  "nbformat_minor": 0,
  "metadata": {
    "colab": {
      "provenance": []
    },
    "kernelspec": {
      "name": "python3",
      "display_name": "Python 3"
    },
    "language_info": {
      "name": "python"
    }
  },
  "cells": [
    {
      "cell_type": "code",
      "source": [
        "!sudo apt-get install -y fonts-nanum  # 한글 폰트설치하기\n",
        "!sudo fc-cache -fv\n",
        "!rm ~/.cache/matplotlib -rf"
      ],
      "metadata": {
        "colab": {
          "base_uri": "https://localhost:8080/"
        },
        "id": "X4R7XKXvR_jW",
        "outputId": "79e7126e-ee9a-44ab-91d4-9e6cc538b64b"
      },
      "execution_count": null,
      "outputs": [
        {
          "output_type": "stream",
          "name": "stderr",
          "text": [
            "/usr/local/lib/python3.10/dist-packages/ipykernel/ipkernel.py:283: DeprecationWarning: `should_run_async` will not call `transform_cell` automatically in the future. Please pass the result to `transformed_cell` argument and any exception that happen during thetransform in `preprocessing_exc_tuple` in IPython 7.17 and above.\n",
            "  and should_run_async(code)\n"
          ]
        },
        {
          "output_type": "stream",
          "name": "stdout",
          "text": [
            "Reading package lists... Done\n",
            "Building dependency tree... Done\n",
            "Reading state information... Done\n",
            "fonts-nanum is already the newest version (20200506-1).\n",
            "0 upgraded, 0 newly installed, 0 to remove and 49 not upgraded.\n",
            "/usr/share/fonts: caching, new cache contents: 0 fonts, 1 dirs\n",
            "/usr/share/fonts/truetype: caching, new cache contents: 0 fonts, 3 dirs\n",
            "/usr/share/fonts/truetype/humor-sans: caching, new cache contents: 1 fonts, 0 dirs\n",
            "/usr/share/fonts/truetype/liberation: caching, new cache contents: 16 fonts, 0 dirs\n",
            "/usr/share/fonts/truetype/nanum: caching, new cache contents: 12 fonts, 0 dirs\n",
            "/usr/local/share/fonts: caching, new cache contents: 0 fonts, 0 dirs\n",
            "/root/.local/share/fonts: skipping, no such directory\n",
            "/root/.fonts: caching, new cache contents: 0 fonts, 0 dirs\n",
            "/usr/share/fonts/truetype: skipping, looped directory detected\n",
            "/usr/share/fonts/truetype/humor-sans: skipping, looped directory detected\n",
            "/usr/share/fonts/truetype/liberation: skipping, looped directory detected\n",
            "/usr/share/fonts/truetype/nanum: skipping, looped directory detected\n",
            "/var/cache/fontconfig: cleaning cache directory\n",
            "/root/.cache/fontconfig: not cleaning non-existent cache directory\n",
            "/root/.fontconfig: not cleaning non-existent cache directory\n",
            "fc-cache: succeeded\n"
          ]
        }
      ]
    },
    {
      "cell_type": "code",
      "execution_count": null,
      "metadata": {
        "colab": {
          "base_uri": "https://localhost:8080/"
        },
        "id": "7QBmjpRhKUCI",
        "outputId": "60dd0e6b-0b12-46b1-fa19-296b049cd4d6"
      },
      "outputs": [
        {
          "output_type": "stream",
          "name": "stderr",
          "text": [
            "/usr/local/lib/python3.10/dist-packages/ipykernel/ipkernel.py:283: DeprecationWarning: `should_run_async` will not call `transform_cell` automatically in the future. Please pass the result to `transformed_cell` argument and any exception that happen during thetransform in `preprocessing_exc_tuple` in IPython 7.17 and above.\n",
            "  and should_run_async(code)\n"
          ]
        },
        {
          "output_type": "stream",
          "name": "stdout",
          "text": [
            "Drive already mounted at /gdrive; to attempt to forcibly remount, call drive.mount(\"/gdrive\", force_remount=True).\n"
          ]
        }
      ],
      "source": [
        "from google.colab import drive\n",
        "drive.mount('/gdrive')"
      ]
    },
    {
      "cell_type": "code",
      "source": [
        "%cd /gdrive/MyDrive/prompt/\n",
        "# 로그의 폴더에 있음"
      ],
      "metadata": {
        "colab": {
          "base_uri": "https://localhost:8080/"
        },
        "id": "8S1ISQMWOtby",
        "outputId": "3652a46b-6863-4bd8-f6a9-6fa1ef65439b"
      },
      "execution_count": null,
      "outputs": [
        {
          "output_type": "stream",
          "name": "stdout",
          "text": [
            "/gdrive/MyDrive/prompt\n"
          ]
        },
        {
          "output_type": "stream",
          "name": "stderr",
          "text": [
            "/usr/local/lib/python3.10/dist-packages/ipykernel/ipkernel.py:283: DeprecationWarning: `should_run_async` will not call `transform_cell` automatically in the future. Please pass the result to `transformed_cell` argument and any exception that happen during thetransform in `preprocessing_exc_tuple` in IPython 7.17 and above.\n",
            "  and should_run_async(code)\n"
          ]
        }
      ]
    },
    {
      "cell_type": "code",
      "source": [
        "# 디렉터리를 살펴볼때\n",
        "!ls"
      ],
      "metadata": {
        "colab": {
          "base_uri": "https://localhost:8080/"
        },
        "id": "cSUQPUbMOv9e",
        "outputId": "b1c4fe25-5c60-4813-9afc-0574bae9b709"
      },
      "execution_count": null,
      "outputs": [
        {
          "output_type": "stream",
          "name": "stdout",
          "text": [
            "log1.xlsx  logone18.ipynb  prompt.xlsx\n"
          ]
        },
        {
          "output_type": "stream",
          "name": "stderr",
          "text": [
            "/usr/local/lib/python3.10/dist-packages/ipykernel/ipkernel.py:283: DeprecationWarning: `should_run_async` will not call `transform_cell` automatically in the future. Please pass the result to `transformed_cell` argument and any exception that happen during thetransform in `preprocessing_exc_tuple` in IPython 7.17 and above.\n",
            "  and should_run_async(code)\n"
          ]
        }
      ]
    },
    {
      "cell_type": "code",
      "source": [
        "import pandas as pd\n",
        "#excel file 불러오기"
      ],
      "metadata": {
        "id": "9knk2gOPO0jS",
        "colab": {
          "base_uri": "https://localhost:8080/"
        },
        "outputId": "b805c286-1a37-412c-8424-00b39b488358"
      },
      "execution_count": null,
      "outputs": [
        {
          "output_type": "stream",
          "name": "stderr",
          "text": [
            "/usr/local/lib/python3.10/dist-packages/ipykernel/ipkernel.py:283: DeprecationWarning: `should_run_async` will not call `transform_cell` automatically in the future. Please pass the result to `transformed_cell` argument and any exception that happen during thetransform in `preprocessing_exc_tuple` in IPython 7.17 and above.\n",
            "  and should_run_async(code)\n"
          ]
        }
      ]
    },
    {
      "cell_type": "code",
      "source": [
        "sheets =pd.read_excel(\"prompt.xlsx\", sheet_name=None)\n",
        "#logone 파일을 불러오기"
      ],
      "metadata": {
        "id": "xWOG8aNiO4So",
        "colab": {
          "base_uri": "https://localhost:8080/"
        },
        "outputId": "3cb6fdeb-4d9d-4bdb-d5ce-1014bf6ebceb"
      },
      "execution_count": null,
      "outputs": [
        {
          "output_type": "stream",
          "name": "stderr",
          "text": [
            "/usr/local/lib/python3.10/dist-packages/ipykernel/ipkernel.py:283: DeprecationWarning: `should_run_async` will not call `transform_cell` automatically in the future. Please pass the result to `transformed_cell` argument and any exception that happen during thetransform in `preprocessing_exc_tuple` in IPython 7.17 and above.\n",
            "  and should_run_async(code)\n"
          ]
        }
      ]
    },
    {
      "cell_type": "code",
      "source": [
        "sheets.keys()\n",
        "#sheet가 어떠한 이름이 있는지를 확인함"
      ],
      "metadata": {
        "colab": {
          "base_uri": "https://localhost:8080/"
        },
        "id": "XwWVyx2XfV9c",
        "outputId": "94a9d1be-fec8-4502-e4e3-a1e815dd8673"
      },
      "execution_count": null,
      "outputs": [
        {
          "output_type": "stream",
          "name": "stderr",
          "text": [
            "/usr/local/lib/python3.10/dist-packages/ipykernel/ipkernel.py:283: DeprecationWarning: `should_run_async` will not call `transform_cell` automatically in the future. Please pass the result to `transformed_cell` argument and any exception that happen during thetransform in `preprocessing_exc_tuple` in IPython 7.17 and above.\n",
            "  and should_run_async(code)\n"
          ]
        },
        {
          "output_type": "execute_result",
          "data": {
            "text/plain": [
              "dict_keys(['log1', 'log2', 'log3', 'log4 '])"
            ]
          },
          "metadata": {},
          "execution_count": 160
        }
      ]
    },
    {
      "cell_type": "code",
      "source": [
        "sheets[\"log1\"]  # sheets.key() 데이터를 모두 볼 수 있음"
      ],
      "metadata": {
        "colab": {
          "base_uri": "https://localhost:8080/",
          "height": 592
        },
        "id": "r4LCn8KhPN3G",
        "outputId": "615ba6f3-051d-4c7f-f845-e15bcf25aa5a",
        "collapsed": true
      },
      "execution_count": null,
      "outputs": [
        {
          "output_type": "stream",
          "name": "stderr",
          "text": [
            "/usr/local/lib/python3.10/dist-packages/ipykernel/ipkernel.py:283: DeprecationWarning: `should_run_async` will not call `transform_cell` automatically in the future. Please pass the result to `transformed_cell` argument and any exception that happen during thetransform in `preprocessing_exc_tuple` in IPython 7.17 and above.\n",
            "  and should_run_async(code)\n"
          ]
        },
        {
          "output_type": "execute_result",
          "data": {
            "text/plain": [
              "    grade   level                           Q1                      Q2  \\\n",
              "0      5.0      2                  식감에 대해 알려줘            음식은 어떤 느낌인가요?   \n",
              "1      3.0      3  이미지를 묘사한다면, 어떤 점들 묘사하면 좋을까?       표현하려면 어떻게 해야 하나요?   \n",
              "2      2.0      2          향에 대해서 어떻게 표현해야할까 ?       맛에 대해 어떻게 생각하시나요?   \n",
              "3      1.0      2                          NaN                     NaN   \n",
              "4      3.0      3           특징은 어떻게 설명할 수 있어?      냄새를 어떻게 묘사할 수 있을까요?   \n",
              "..     ...    ...                          ...                     ...   \n",
              "85     3.0      3                내용은 어떻게 해야하나?           내용은 어떻게 해야하나?   \n",
              "86     5.0      4    맛과 냄새의 차이는 어떻게 묘사해야 하나요?           음식의 묘사는 어떤가요?    \n",
              "87     3.0      4            어떻게 내 글을 전개해야할까?   어떤 방법으로   구조를 만들어야할까?    \n",
              "88     2.0      3                   어떻게 생겼을까?      어떻게 감정에 대해 표현해야할까?    \n",
              "89     3.0      3            질감을 어떻게 묘사해야할 까?       냄새를 어떻게 표현하면 좋을까?    \n",
              "\n",
              "                             Q3  satisfaction  \\\n",
              "0                    맛은 어떤가요?             9.0   \n",
              "1    맛과 재료를 표현할 수 있는 단어는 무엇인가요?           8.0   \n",
              "2        시각적 표현을 어떻게 묘사할 수 있나요?           NaN   \n",
              "3                           NaN           NaN   \n",
              "4                      어떤 맛인가요?           9.0   \n",
              "..                          ...           ...   \n",
              "85                내용은 어떻게 해야하나?           9.0   \n",
              "86             시각적으로 어떻게 표현할까?            9.0   \n",
              "87                     맛은 어떨까?            9.0   \n",
              "88                 먹으면 어떻것 같아?            9.0   \n",
              "89                맛은 어떻게 묘사할까?           10.0   \n",
              "\n",
              "                                              reasons  \n",
              "0                            감각적인 부분을 다양한 표현으로 설명해준다.  \n",
              "1                          자세하게 알려주지만 다소 형식적인 답변만을 했다  \n",
              "2                                                 NaN  \n",
              "3                                                 NaN  \n",
              "4                                   원했던 답변을 상세히 표현하였음  \n",
              "..                                                ...  \n",
              "85                     너무 많은 양의 데이터가 나올 수 있으므로 주의해야겠다  \n",
              "86                                                NaN  \n",
              "87                                   Gpt 사용에 의존하게 된다.  \n",
              "88                            내가 원하는 답변을해 주어서 너무 좋았다.  \n",
              "89  내가 생각했었던 표현은 물론 같은 생각이지만 더 풍부한 내용으로 알려주어서 편리하고...  \n",
              "\n",
              "[90 rows x 7 columns]"
            ],
            "text/html": [
              "\n",
              "  <div id=\"df-4f4daa25-4c11-4a8a-8d4f-d9a1969f51ba\" class=\"colab-df-container\">\n",
              "    <div>\n",
              "<style scoped>\n",
              "    .dataframe tbody tr th:only-of-type {\n",
              "        vertical-align: middle;\n",
              "    }\n",
              "\n",
              "    .dataframe tbody tr th {\n",
              "        vertical-align: top;\n",
              "    }\n",
              "\n",
              "    .dataframe thead th {\n",
              "        text-align: right;\n",
              "    }\n",
              "</style>\n",
              "<table border=\"1\" class=\"dataframe\">\n",
              "  <thead>\n",
              "    <tr style=\"text-align: right;\">\n",
              "      <th></th>\n",
              "      <th>grade</th>\n",
              "      <th>level</th>\n",
              "      <th>Q1</th>\n",
              "      <th>Q2</th>\n",
              "      <th>Q3</th>\n",
              "      <th>satisfaction</th>\n",
              "      <th>reasons</th>\n",
              "    </tr>\n",
              "  </thead>\n",
              "  <tbody>\n",
              "    <tr>\n",
              "      <th>0</th>\n",
              "      <td>5.0</td>\n",
              "      <td>2</td>\n",
              "      <td>식감에 대해 알려줘</td>\n",
              "      <td>음식은 어떤 느낌인가요?</td>\n",
              "      <td>맛은 어떤가요?</td>\n",
              "      <td>9.0</td>\n",
              "      <td>감각적인 부분을 다양한 표현으로 설명해준다.</td>\n",
              "    </tr>\n",
              "    <tr>\n",
              "      <th>1</th>\n",
              "      <td>3.0</td>\n",
              "      <td>3</td>\n",
              "      <td>이미지를 묘사한다면, 어떤 점들 묘사하면 좋을까?</td>\n",
              "      <td>표현하려면 어떻게 해야 하나요?</td>\n",
              "      <td>맛과 재료를 표현할 수 있는 단어는 무엇인가요?</td>\n",
              "      <td>8.0</td>\n",
              "      <td>자세하게 알려주지만 다소 형식적인 답변만을 했다</td>\n",
              "    </tr>\n",
              "    <tr>\n",
              "      <th>2</th>\n",
              "      <td>2.0</td>\n",
              "      <td>2</td>\n",
              "      <td>향에 대해서 어떻게 표현해야할까 ?</td>\n",
              "      <td>맛에 대해 어떻게 생각하시나요?</td>\n",
              "      <td>시각적 표현을 어떻게 묘사할 수 있나요?</td>\n",
              "      <td>NaN</td>\n",
              "      <td>NaN</td>\n",
              "    </tr>\n",
              "    <tr>\n",
              "      <th>3</th>\n",
              "      <td>1.0</td>\n",
              "      <td>2</td>\n",
              "      <td>NaN</td>\n",
              "      <td>NaN</td>\n",
              "      <td>NaN</td>\n",
              "      <td>NaN</td>\n",
              "      <td>NaN</td>\n",
              "    </tr>\n",
              "    <tr>\n",
              "      <th>4</th>\n",
              "      <td>3.0</td>\n",
              "      <td>3</td>\n",
              "      <td>특징은 어떻게 설명할 수 있어?</td>\n",
              "      <td>냄새를 어떻게 묘사할 수 있을까요?</td>\n",
              "      <td>어떤 맛인가요?</td>\n",
              "      <td>9.0</td>\n",
              "      <td>원했던 답변을 상세히 표현하였음</td>\n",
              "    </tr>\n",
              "    <tr>\n",
              "      <th>...</th>\n",
              "      <td>...</td>\n",
              "      <td>...</td>\n",
              "      <td>...</td>\n",
              "      <td>...</td>\n",
              "      <td>...</td>\n",
              "      <td>...</td>\n",
              "      <td>...</td>\n",
              "    </tr>\n",
              "    <tr>\n",
              "      <th>85</th>\n",
              "      <td>3.0</td>\n",
              "      <td>3</td>\n",
              "      <td>내용은 어떻게 해야하나?</td>\n",
              "      <td>내용은 어떻게 해야하나?</td>\n",
              "      <td>내용은 어떻게 해야하나?</td>\n",
              "      <td>9.0</td>\n",
              "      <td>너무 많은 양의 데이터가 나올 수 있으므로 주의해야겠다</td>\n",
              "    </tr>\n",
              "    <tr>\n",
              "      <th>86</th>\n",
              "      <td>5.0</td>\n",
              "      <td>4</td>\n",
              "      <td>맛과 냄새의 차이는 어떻게 묘사해야 하나요?</td>\n",
              "      <td>음식의 묘사는 어떤가요?</td>\n",
              "      <td>시각적으로 어떻게 표현할까?</td>\n",
              "      <td>9.0</td>\n",
              "      <td>NaN</td>\n",
              "    </tr>\n",
              "    <tr>\n",
              "      <th>87</th>\n",
              "      <td>3.0</td>\n",
              "      <td>4</td>\n",
              "      <td>어떻게 내 글을 전개해야할까?</td>\n",
              "      <td>어떤 방법으로   구조를 만들어야할까?</td>\n",
              "      <td>맛은 어떨까?</td>\n",
              "      <td>9.0</td>\n",
              "      <td>Gpt 사용에 의존하게 된다.</td>\n",
              "    </tr>\n",
              "    <tr>\n",
              "      <th>88</th>\n",
              "      <td>2.0</td>\n",
              "      <td>3</td>\n",
              "      <td>어떻게 생겼을까?</td>\n",
              "      <td>어떻게 감정에 대해 표현해야할까?</td>\n",
              "      <td>먹으면 어떻것 같아?</td>\n",
              "      <td>9.0</td>\n",
              "      <td>내가 원하는 답변을해 주어서 너무 좋았다.</td>\n",
              "    </tr>\n",
              "    <tr>\n",
              "      <th>89</th>\n",
              "      <td>3.0</td>\n",
              "      <td>3</td>\n",
              "      <td>질감을 어떻게 묘사해야할 까?</td>\n",
              "      <td>냄새를 어떻게 표현하면 좋을까?</td>\n",
              "      <td>맛은 어떻게 묘사할까?</td>\n",
              "      <td>10.0</td>\n",
              "      <td>내가 생각했었던 표현은 물론 같은 생각이지만 더 풍부한 내용으로 알려주어서 편리하고...</td>\n",
              "    </tr>\n",
              "  </tbody>\n",
              "</table>\n",
              "<p>90 rows × 7 columns</p>\n",
              "</div>\n",
              "    <div class=\"colab-df-buttons\">\n",
              "\n",
              "  <div class=\"colab-df-container\">\n",
              "    <button class=\"colab-df-convert\" onclick=\"convertToInteractive('df-4f4daa25-4c11-4a8a-8d4f-d9a1969f51ba')\"\n",
              "            title=\"Convert this dataframe to an interactive table.\"\n",
              "            style=\"display:none;\">\n",
              "\n",
              "  <svg xmlns=\"http://www.w3.org/2000/svg\" height=\"24px\" viewBox=\"0 -960 960 960\">\n",
              "    <path d=\"M120-120v-720h720v720H120Zm60-500h600v-160H180v160Zm220 220h160v-160H400v160Zm0 220h160v-160H400v160ZM180-400h160v-160H180v160Zm440 0h160v-160H620v160ZM180-180h160v-160H180v160Zm440 0h160v-160H620v160Z\"/>\n",
              "  </svg>\n",
              "    </button>\n",
              "\n",
              "  <style>\n",
              "    .colab-df-container {\n",
              "      display:flex;\n",
              "      gap: 12px;\n",
              "    }\n",
              "\n",
              "    .colab-df-convert {\n",
              "      background-color: #E8F0FE;\n",
              "      border: none;\n",
              "      border-radius: 50%;\n",
              "      cursor: pointer;\n",
              "      display: none;\n",
              "      fill: #1967D2;\n",
              "      height: 32px;\n",
              "      padding: 0 0 0 0;\n",
              "      width: 32px;\n",
              "    }\n",
              "\n",
              "    .colab-df-convert:hover {\n",
              "      background-color: #E2EBFA;\n",
              "      box-shadow: 0px 1px 2px rgba(60, 64, 67, 0.3), 0px 1px 3px 1px rgba(60, 64, 67, 0.15);\n",
              "      fill: #174EA6;\n",
              "    }\n",
              "\n",
              "    .colab-df-buttons div {\n",
              "      margin-bottom: 4px;\n",
              "    }\n",
              "\n",
              "    [theme=dark] .colab-df-convert {\n",
              "      background-color: #3B4455;\n",
              "      fill: #D2E3FC;\n",
              "    }\n",
              "\n",
              "    [theme=dark] .colab-df-convert:hover {\n",
              "      background-color: #434B5C;\n",
              "      box-shadow: 0px 1px 3px 1px rgba(0, 0, 0, 0.15);\n",
              "      filter: drop-shadow(0px 1px 2px rgba(0, 0, 0, 0.3));\n",
              "      fill: #FFFFFF;\n",
              "    }\n",
              "  </style>\n",
              "\n",
              "    <script>\n",
              "      const buttonEl =\n",
              "        document.querySelector('#df-4f4daa25-4c11-4a8a-8d4f-d9a1969f51ba button.colab-df-convert');\n",
              "      buttonEl.style.display =\n",
              "        google.colab.kernel.accessAllowed ? 'block' : 'none';\n",
              "\n",
              "      async function convertToInteractive(key) {\n",
              "        const element = document.querySelector('#df-4f4daa25-4c11-4a8a-8d4f-d9a1969f51ba');\n",
              "        const dataTable =\n",
              "          await google.colab.kernel.invokeFunction('convertToInteractive',\n",
              "                                                    [key], {});\n",
              "        if (!dataTable) return;\n",
              "\n",
              "        const docLinkHtml = 'Like what you see? Visit the ' +\n",
              "          '<a target=\"_blank\" href=https://colab.research.google.com/notebooks/data_table.ipynb>data table notebook</a>'\n",
              "          + ' to learn more about interactive tables.';\n",
              "        element.innerHTML = '';\n",
              "        dataTable['output_type'] = 'display_data';\n",
              "        await google.colab.output.renderOutput(dataTable, element);\n",
              "        const docLink = document.createElement('div');\n",
              "        docLink.innerHTML = docLinkHtml;\n",
              "        element.appendChild(docLink);\n",
              "      }\n",
              "    </script>\n",
              "  </div>\n",
              "\n",
              "\n",
              "<div id=\"df-f3289c1a-de7a-45f1-879b-37dab1d4fda7\">\n",
              "  <button class=\"colab-df-quickchart\" onclick=\"quickchart('df-f3289c1a-de7a-45f1-879b-37dab1d4fda7')\"\n",
              "            title=\"Suggest charts\"\n",
              "            style=\"display:none;\">\n",
              "\n",
              "<svg xmlns=\"http://www.w3.org/2000/svg\" height=\"24px\"viewBox=\"0 0 24 24\"\n",
              "     width=\"24px\">\n",
              "    <g>\n",
              "        <path d=\"M19 3H5c-1.1 0-2 .9-2 2v14c0 1.1.9 2 2 2h14c1.1 0 2-.9 2-2V5c0-1.1-.9-2-2-2zM9 17H7v-7h2v7zm4 0h-2V7h2v10zm4 0h-2v-4h2v4z\"/>\n",
              "    </g>\n",
              "</svg>\n",
              "  </button>\n",
              "\n",
              "<style>\n",
              "  .colab-df-quickchart {\n",
              "      --bg-color: #E8F0FE;\n",
              "      --fill-color: #1967D2;\n",
              "      --hover-bg-color: #E2EBFA;\n",
              "      --hover-fill-color: #174EA6;\n",
              "      --disabled-fill-color: #AAA;\n",
              "      --disabled-bg-color: #DDD;\n",
              "  }\n",
              "\n",
              "  [theme=dark] .colab-df-quickchart {\n",
              "      --bg-color: #3B4455;\n",
              "      --fill-color: #D2E3FC;\n",
              "      --hover-bg-color: #434B5C;\n",
              "      --hover-fill-color: #FFFFFF;\n",
              "      --disabled-bg-color: #3B4455;\n",
              "      --disabled-fill-color: #666;\n",
              "  }\n",
              "\n",
              "  .colab-df-quickchart {\n",
              "    background-color: var(--bg-color);\n",
              "    border: none;\n",
              "    border-radius: 50%;\n",
              "    cursor: pointer;\n",
              "    display: none;\n",
              "    fill: var(--fill-color);\n",
              "    height: 32px;\n",
              "    padding: 0;\n",
              "    width: 32px;\n",
              "  }\n",
              "\n",
              "  .colab-df-quickchart:hover {\n",
              "    background-color: var(--hover-bg-color);\n",
              "    box-shadow: 0 1px 2px rgba(60, 64, 67, 0.3), 0 1px 3px 1px rgba(60, 64, 67, 0.15);\n",
              "    fill: var(--button-hover-fill-color);\n",
              "  }\n",
              "\n",
              "  .colab-df-quickchart-complete:disabled,\n",
              "  .colab-df-quickchart-complete:disabled:hover {\n",
              "    background-color: var(--disabled-bg-color);\n",
              "    fill: var(--disabled-fill-color);\n",
              "    box-shadow: none;\n",
              "  }\n",
              "\n",
              "  .colab-df-spinner {\n",
              "    border: 2px solid var(--fill-color);\n",
              "    border-color: transparent;\n",
              "    border-bottom-color: var(--fill-color);\n",
              "    animation:\n",
              "      spin 1s steps(1) infinite;\n",
              "  }\n",
              "\n",
              "  @keyframes spin {\n",
              "    0% {\n",
              "      border-color: transparent;\n",
              "      border-bottom-color: var(--fill-color);\n",
              "      border-left-color: var(--fill-color);\n",
              "    }\n",
              "    20% {\n",
              "      border-color: transparent;\n",
              "      border-left-color: var(--fill-color);\n",
              "      border-top-color: var(--fill-color);\n",
              "    }\n",
              "    30% {\n",
              "      border-color: transparent;\n",
              "      border-left-color: var(--fill-color);\n",
              "      border-top-color: var(--fill-color);\n",
              "      border-right-color: var(--fill-color);\n",
              "    }\n",
              "    40% {\n",
              "      border-color: transparent;\n",
              "      border-right-color: var(--fill-color);\n",
              "      border-top-color: var(--fill-color);\n",
              "    }\n",
              "    60% {\n",
              "      border-color: transparent;\n",
              "      border-right-color: var(--fill-color);\n",
              "    }\n",
              "    80% {\n",
              "      border-color: transparent;\n",
              "      border-right-color: var(--fill-color);\n",
              "      border-bottom-color: var(--fill-color);\n",
              "    }\n",
              "    90% {\n",
              "      border-color: transparent;\n",
              "      border-bottom-color: var(--fill-color);\n",
              "    }\n",
              "  }\n",
              "</style>\n",
              "\n",
              "  <script>\n",
              "    async function quickchart(key) {\n",
              "      const quickchartButtonEl =\n",
              "        document.querySelector('#' + key + ' button');\n",
              "      quickchartButtonEl.disabled = true;  // To prevent multiple clicks.\n",
              "      quickchartButtonEl.classList.add('colab-df-spinner');\n",
              "      try {\n",
              "        const charts = await google.colab.kernel.invokeFunction(\n",
              "            'suggestCharts', [key], {});\n",
              "      } catch (error) {\n",
              "        console.error('Error during call to suggestCharts:', error);\n",
              "      }\n",
              "      quickchartButtonEl.classList.remove('colab-df-spinner');\n",
              "      quickchartButtonEl.classList.add('colab-df-quickchart-complete');\n",
              "    }\n",
              "    (() => {\n",
              "      let quickchartButtonEl =\n",
              "        document.querySelector('#df-f3289c1a-de7a-45f1-879b-37dab1d4fda7 button');\n",
              "      quickchartButtonEl.style.display =\n",
              "        google.colab.kernel.accessAllowed ? 'block' : 'none';\n",
              "    })();\n",
              "  </script>\n",
              "</div>\n",
              "\n",
              "    </div>\n",
              "  </div>\n"
            ],
            "application/vnd.google.colaboratory.intrinsic+json": {
              "type": "dataframe",
              "summary": "{\n  \"name\": \"sheets[\\\"log1\\\"]  # sheets\",\n  \"rows\": 90,\n  \"fields\": [\n    {\n      \"column\": \"grade \",\n      \"properties\": {\n        \"dtype\": \"number\",\n        \"std\": 1.1063472677831772,\n        \"min\": 1.0,\n        \"max\": 5.0,\n        \"num_unique_values\": 5,\n        \"samples\": [\n          3.0,\n          4.0,\n          2.0\n        ],\n        \"semantic_type\": \"\",\n        \"description\": \"\"\n      }\n    },\n    {\n      \"column\": \"level\",\n      \"properties\": {\n        \"dtype\": \"number\",\n        \"std\": 0,\n        \"min\": 1,\n        \"max\": 5,\n        \"num_unique_values\": 5,\n        \"samples\": [\n          3,\n          5,\n          4\n        ],\n        \"semantic_type\": \"\",\n        \"description\": \"\"\n      }\n    },\n    {\n      \"column\": \"Q1\",\n      \"properties\": {\n        \"dtype\": \"string\",\n        \"num_unique_values\": 76,\n        \"samples\": [\n          \"\\uc0c9\\ub2e4\\ub978 \\ud2b9\\uc9d5\\uc5d0 \\ub300\\ud574\\uc11c \\uc124\\uba85\\ud574\\uc918\",\n          \"\\ub0b4\\uc6a9\\uc740 \\uc5b4\\ub5a8\\uae4c? \",\n          \" \\ud45c\\ud604\\ud558\\ub824\\uba74 \\uc5b4\\ub5bb\\uac8c \\ud574\\uc57c\\ud560\\uae4c?\"\n        ],\n        \"semantic_type\": \"\",\n        \"description\": \"\"\n      }\n    },\n    {\n      \"column\": \"Q2\",\n      \"properties\": {\n        \"dtype\": \"string\",\n        \"num_unique_values\": 59,\n        \"samples\": [\n          \"\\uc74c\\uc2dd\\uc740 \\uc5b4\\ub5a4 \\ub290\\ub08c\\uc778\\uac00\\uc694?\",\n          \" \\ub0c4\\uc0c8\\ub97c  \\ud45c\\ud604\\ud558\\ub824\\uba74 \\uc5b4\\ub5bb\\uac8c \\ud574\\uc57c \\ud558\\ub098\\uc694?\",\n          \"\\ub0c4\\uc0c8\\ub97c \\ud45c\\ud604\\ud558\\ub294 \\ub2e8\\uc5b4\\ub97c \\uc54c\\ub824\\uc918\"\n        ],\n        \"semantic_type\": \"\",\n        \"description\": \"\"\n      }\n    },\n    {\n      \"column\": \"Q3\",\n      \"properties\": {\n        \"dtype\": \"string\",\n        \"num_unique_values\": 52,\n        \"samples\": [\n          \"  \\ub0c4\\uc0c8\\ub97c \\uc5b4\\ub5bb\\uac8c \\ud45c\\ud604\\ud558\\uba74 \\uc88b\\uc744\\uae4c?\",\n          \"\\uc5b4\\ub5a4 \\uac83\\uc774 \\uac00\\uc7a5 \\uc720\\uba85\\ud55c\\uac00? \",\n          \"\\uc0c9\\uae54\\uc740 \\uc5b4\\ub5a4\\uac83 \\uac19\\uc544? \"\n        ],\n        \"semantic_type\": \"\",\n        \"description\": \"\"\n      }\n    },\n    {\n      \"column\": \"satisfaction\",\n      \"properties\": {\n        \"dtype\": \"number\",\n        \"std\": 0.855894723406902,\n        \"min\": 6.0,\n        \"max\": 10.0,\n        \"num_unique_values\": 7,\n        \"samples\": [\n          9.0,\n          8.0,\n          7.0\n        ],\n        \"semantic_type\": \"\",\n        \"description\": \"\"\n      }\n    },\n    {\n      \"column\": \"reasons\",\n      \"properties\": {\n        \"dtype\": \"string\",\n        \"num_unique_values\": 75,\n        \"samples\": [\n          \"\\uc9c8\\ubb38\\uc5d0 \\ub300\\ud574 \\uc815\\ud655\\ud55c \\ub2f5\\uc744 \\uc8fc\\uace0 \\ucd94\\uac00\\uc801\\uc778 \\uc815\\ubcf4\\ub3c4 \\uac19\\uc774 \\uc8fc\\uc5b4\\uc11c \\uc88b\\ub2e4\\uace0 \\uc0dd\\uac01\\ud569\\ub2c8\\ub2e4.\",\n          \"\\ub0b4\\uac00 \\uc9c8\\ubb38\\ud55c \\uac83\\uc5d0 \\ub300\\ud55c \\ub2f5\\ubcc0\\uc744 \\ubcf4\\uae30 \\uc88b\\uac8c \\uc815\\ub9ac\\ud574\\uc11c \\uc54c\\ub824\\uc8fc\\uc5c8\\ub2e4\",\n          \" \\ubaa8\\ub974\\ub294 \\uac83\\uc744 \\ubb3c\\uc5b4\\ubcfc\\ub54c \\uc790\\uc138\\ud558\\uac8c \\uc54c\\ub824\\uc918\\uc11c \\uc815\\ub9d0 \\ub9ce\\uc740 \\ub3c4\\uc6c0\\uc774 \\ub418\\ub294\\uac83 \\uac19\\uc544\\uc11c \\uc88b\\uc740\\uac83 \\uac19\\ub2e4\"\n        ],\n        \"semantic_type\": \"\",\n        \"description\": \"\"\n      }\n    }\n  ]\n}"
            }
          },
          "metadata": {},
          "execution_count": 161
        }
      ]
    },
    {
      "cell_type": "code",
      "source": [
        "# 하나라도 있으면 사용하고 모두 없으면 삭제함. sheet의 이름대로 변경하기\n",
        "sheet = sheets[\"log1\"]  # log2, log3, log4로 변경해서 작성해보기"
      ],
      "metadata": {
        "id": "qgcTQM7IPUom",
        "colab": {
          "base_uri": "https://localhost:8080/"
        },
        "outputId": "6fb625d4-f01c-4775-8708-771e9911afb8"
      },
      "execution_count": null,
      "outputs": [
        {
          "output_type": "stream",
          "name": "stderr",
          "text": [
            "/usr/local/lib/python3.10/dist-packages/ipykernel/ipkernel.py:283: DeprecationWarning: `should_run_async` will not call `transform_cell` automatically in the future. Please pass the result to `transformed_cell` argument and any exception that happen during thetransform in `preprocessing_exc_tuple` in IPython 7.17 and above.\n",
            "  and should_run_async(code)\n"
          ]
        }
      ]
    },
    {
      "cell_type": "code",
      "source": [
        "sheet[['Q1', 'Q2', 'Q3']].isna() #faluse =0 ture = 1\n",
        "#isna는 값이 없으면 false 있으면 true 면 none ,faluse 가 값이 있는것"
      ],
      "metadata": {
        "colab": {
          "base_uri": "https://localhost:8080/",
          "height": 473
        },
        "id": "h7EQvhxMPYOz",
        "outputId": "b33faffd-5e6c-4e16-99ae-5b449c2173e5"
      },
      "execution_count": null,
      "outputs": [
        {
          "output_type": "stream",
          "name": "stderr",
          "text": [
            "/usr/local/lib/python3.10/dist-packages/ipykernel/ipkernel.py:283: DeprecationWarning: `should_run_async` will not call `transform_cell` automatically in the future. Please pass the result to `transformed_cell` argument and any exception that happen during thetransform in `preprocessing_exc_tuple` in IPython 7.17 and above.\n",
            "  and should_run_async(code)\n"
          ]
        },
        {
          "output_type": "execute_result",
          "data": {
            "text/plain": [
              "       Q1     Q2     Q3\n",
              "0   False  False  False\n",
              "1   False  False  False\n",
              "2   False  False  False\n",
              "3    True   True   True\n",
              "4   False  False  False\n",
              "..    ...    ...    ...\n",
              "85  False  False  False\n",
              "86  False  False  False\n",
              "87  False  False  False\n",
              "88  False  False  False\n",
              "89  False  False  False\n",
              "\n",
              "[90 rows x 3 columns]"
            ],
            "text/html": [
              "\n",
              "  <div id=\"df-a184325d-868a-4322-97f0-d3092c0d98ab\" class=\"colab-df-container\">\n",
              "    <div>\n",
              "<style scoped>\n",
              "    .dataframe tbody tr th:only-of-type {\n",
              "        vertical-align: middle;\n",
              "    }\n",
              "\n",
              "    .dataframe tbody tr th {\n",
              "        vertical-align: top;\n",
              "    }\n",
              "\n",
              "    .dataframe thead th {\n",
              "        text-align: right;\n",
              "    }\n",
              "</style>\n",
              "<table border=\"1\" class=\"dataframe\">\n",
              "  <thead>\n",
              "    <tr style=\"text-align: right;\">\n",
              "      <th></th>\n",
              "      <th>Q1</th>\n",
              "      <th>Q2</th>\n",
              "      <th>Q3</th>\n",
              "    </tr>\n",
              "  </thead>\n",
              "  <tbody>\n",
              "    <tr>\n",
              "      <th>0</th>\n",
              "      <td>False</td>\n",
              "      <td>False</td>\n",
              "      <td>False</td>\n",
              "    </tr>\n",
              "    <tr>\n",
              "      <th>1</th>\n",
              "      <td>False</td>\n",
              "      <td>False</td>\n",
              "      <td>False</td>\n",
              "    </tr>\n",
              "    <tr>\n",
              "      <th>2</th>\n",
              "      <td>False</td>\n",
              "      <td>False</td>\n",
              "      <td>False</td>\n",
              "    </tr>\n",
              "    <tr>\n",
              "      <th>3</th>\n",
              "      <td>True</td>\n",
              "      <td>True</td>\n",
              "      <td>True</td>\n",
              "    </tr>\n",
              "    <tr>\n",
              "      <th>4</th>\n",
              "      <td>False</td>\n",
              "      <td>False</td>\n",
              "      <td>False</td>\n",
              "    </tr>\n",
              "    <tr>\n",
              "      <th>...</th>\n",
              "      <td>...</td>\n",
              "      <td>...</td>\n",
              "      <td>...</td>\n",
              "    </tr>\n",
              "    <tr>\n",
              "      <th>85</th>\n",
              "      <td>False</td>\n",
              "      <td>False</td>\n",
              "      <td>False</td>\n",
              "    </tr>\n",
              "    <tr>\n",
              "      <th>86</th>\n",
              "      <td>False</td>\n",
              "      <td>False</td>\n",
              "      <td>False</td>\n",
              "    </tr>\n",
              "    <tr>\n",
              "      <th>87</th>\n",
              "      <td>False</td>\n",
              "      <td>False</td>\n",
              "      <td>False</td>\n",
              "    </tr>\n",
              "    <tr>\n",
              "      <th>88</th>\n",
              "      <td>False</td>\n",
              "      <td>False</td>\n",
              "      <td>False</td>\n",
              "    </tr>\n",
              "    <tr>\n",
              "      <th>89</th>\n",
              "      <td>False</td>\n",
              "      <td>False</td>\n",
              "      <td>False</td>\n",
              "    </tr>\n",
              "  </tbody>\n",
              "</table>\n",
              "<p>90 rows × 3 columns</p>\n",
              "</div>\n",
              "    <div class=\"colab-df-buttons\">\n",
              "\n",
              "  <div class=\"colab-df-container\">\n",
              "    <button class=\"colab-df-convert\" onclick=\"convertToInteractive('df-a184325d-868a-4322-97f0-d3092c0d98ab')\"\n",
              "            title=\"Convert this dataframe to an interactive table.\"\n",
              "            style=\"display:none;\">\n",
              "\n",
              "  <svg xmlns=\"http://www.w3.org/2000/svg\" height=\"24px\" viewBox=\"0 -960 960 960\">\n",
              "    <path d=\"M120-120v-720h720v720H120Zm60-500h600v-160H180v160Zm220 220h160v-160H400v160Zm0 220h160v-160H400v160ZM180-400h160v-160H180v160Zm440 0h160v-160H620v160ZM180-180h160v-160H180v160Zm440 0h160v-160H620v160Z\"/>\n",
              "  </svg>\n",
              "    </button>\n",
              "\n",
              "  <style>\n",
              "    .colab-df-container {\n",
              "      display:flex;\n",
              "      gap: 12px;\n",
              "    }\n",
              "\n",
              "    .colab-df-convert {\n",
              "      background-color: #E8F0FE;\n",
              "      border: none;\n",
              "      border-radius: 50%;\n",
              "      cursor: pointer;\n",
              "      display: none;\n",
              "      fill: #1967D2;\n",
              "      height: 32px;\n",
              "      padding: 0 0 0 0;\n",
              "      width: 32px;\n",
              "    }\n",
              "\n",
              "    .colab-df-convert:hover {\n",
              "      background-color: #E2EBFA;\n",
              "      box-shadow: 0px 1px 2px rgba(60, 64, 67, 0.3), 0px 1px 3px 1px rgba(60, 64, 67, 0.15);\n",
              "      fill: #174EA6;\n",
              "    }\n",
              "\n",
              "    .colab-df-buttons div {\n",
              "      margin-bottom: 4px;\n",
              "    }\n",
              "\n",
              "    [theme=dark] .colab-df-convert {\n",
              "      background-color: #3B4455;\n",
              "      fill: #D2E3FC;\n",
              "    }\n",
              "\n",
              "    [theme=dark] .colab-df-convert:hover {\n",
              "      background-color: #434B5C;\n",
              "      box-shadow: 0px 1px 3px 1px rgba(0, 0, 0, 0.15);\n",
              "      filter: drop-shadow(0px 1px 2px rgba(0, 0, 0, 0.3));\n",
              "      fill: #FFFFFF;\n",
              "    }\n",
              "  </style>\n",
              "\n",
              "    <script>\n",
              "      const buttonEl =\n",
              "        document.querySelector('#df-a184325d-868a-4322-97f0-d3092c0d98ab button.colab-df-convert');\n",
              "      buttonEl.style.display =\n",
              "        google.colab.kernel.accessAllowed ? 'block' : 'none';\n",
              "\n",
              "      async function convertToInteractive(key) {\n",
              "        const element = document.querySelector('#df-a184325d-868a-4322-97f0-d3092c0d98ab');\n",
              "        const dataTable =\n",
              "          await google.colab.kernel.invokeFunction('convertToInteractive',\n",
              "                                                    [key], {});\n",
              "        if (!dataTable) return;\n",
              "\n",
              "        const docLinkHtml = 'Like what you see? Visit the ' +\n",
              "          '<a target=\"_blank\" href=https://colab.research.google.com/notebooks/data_table.ipynb>data table notebook</a>'\n",
              "          + ' to learn more about interactive tables.';\n",
              "        element.innerHTML = '';\n",
              "        dataTable['output_type'] = 'display_data';\n",
              "        await google.colab.output.renderOutput(dataTable, element);\n",
              "        const docLink = document.createElement('div');\n",
              "        docLink.innerHTML = docLinkHtml;\n",
              "        element.appendChild(docLink);\n",
              "      }\n",
              "    </script>\n",
              "  </div>\n",
              "\n",
              "\n",
              "<div id=\"df-699177f8-7148-4560-b8c4-d4872d38b49a\">\n",
              "  <button class=\"colab-df-quickchart\" onclick=\"quickchart('df-699177f8-7148-4560-b8c4-d4872d38b49a')\"\n",
              "            title=\"Suggest charts\"\n",
              "            style=\"display:none;\">\n",
              "\n",
              "<svg xmlns=\"http://www.w3.org/2000/svg\" height=\"24px\"viewBox=\"0 0 24 24\"\n",
              "     width=\"24px\">\n",
              "    <g>\n",
              "        <path d=\"M19 3H5c-1.1 0-2 .9-2 2v14c0 1.1.9 2 2 2h14c1.1 0 2-.9 2-2V5c0-1.1-.9-2-2-2zM9 17H7v-7h2v7zm4 0h-2V7h2v10zm4 0h-2v-4h2v4z\"/>\n",
              "    </g>\n",
              "</svg>\n",
              "  </button>\n",
              "\n",
              "<style>\n",
              "  .colab-df-quickchart {\n",
              "      --bg-color: #E8F0FE;\n",
              "      --fill-color: #1967D2;\n",
              "      --hover-bg-color: #E2EBFA;\n",
              "      --hover-fill-color: #174EA6;\n",
              "      --disabled-fill-color: #AAA;\n",
              "      --disabled-bg-color: #DDD;\n",
              "  }\n",
              "\n",
              "  [theme=dark] .colab-df-quickchart {\n",
              "      --bg-color: #3B4455;\n",
              "      --fill-color: #D2E3FC;\n",
              "      --hover-bg-color: #434B5C;\n",
              "      --hover-fill-color: #FFFFFF;\n",
              "      --disabled-bg-color: #3B4455;\n",
              "      --disabled-fill-color: #666;\n",
              "  }\n",
              "\n",
              "  .colab-df-quickchart {\n",
              "    background-color: var(--bg-color);\n",
              "    border: none;\n",
              "    border-radius: 50%;\n",
              "    cursor: pointer;\n",
              "    display: none;\n",
              "    fill: var(--fill-color);\n",
              "    height: 32px;\n",
              "    padding: 0;\n",
              "    width: 32px;\n",
              "  }\n",
              "\n",
              "  .colab-df-quickchart:hover {\n",
              "    background-color: var(--hover-bg-color);\n",
              "    box-shadow: 0 1px 2px rgba(60, 64, 67, 0.3), 0 1px 3px 1px rgba(60, 64, 67, 0.15);\n",
              "    fill: var(--button-hover-fill-color);\n",
              "  }\n",
              "\n",
              "  .colab-df-quickchart-complete:disabled,\n",
              "  .colab-df-quickchart-complete:disabled:hover {\n",
              "    background-color: var(--disabled-bg-color);\n",
              "    fill: var(--disabled-fill-color);\n",
              "    box-shadow: none;\n",
              "  }\n",
              "\n",
              "  .colab-df-spinner {\n",
              "    border: 2px solid var(--fill-color);\n",
              "    border-color: transparent;\n",
              "    border-bottom-color: var(--fill-color);\n",
              "    animation:\n",
              "      spin 1s steps(1) infinite;\n",
              "  }\n",
              "\n",
              "  @keyframes spin {\n",
              "    0% {\n",
              "      border-color: transparent;\n",
              "      border-bottom-color: var(--fill-color);\n",
              "      border-left-color: var(--fill-color);\n",
              "    }\n",
              "    20% {\n",
              "      border-color: transparent;\n",
              "      border-left-color: var(--fill-color);\n",
              "      border-top-color: var(--fill-color);\n",
              "    }\n",
              "    30% {\n",
              "      border-color: transparent;\n",
              "      border-left-color: var(--fill-color);\n",
              "      border-top-color: var(--fill-color);\n",
              "      border-right-color: var(--fill-color);\n",
              "    }\n",
              "    40% {\n",
              "      border-color: transparent;\n",
              "      border-right-color: var(--fill-color);\n",
              "      border-top-color: var(--fill-color);\n",
              "    }\n",
              "    60% {\n",
              "      border-color: transparent;\n",
              "      border-right-color: var(--fill-color);\n",
              "    }\n",
              "    80% {\n",
              "      border-color: transparent;\n",
              "      border-right-color: var(--fill-color);\n",
              "      border-bottom-color: var(--fill-color);\n",
              "    }\n",
              "    90% {\n",
              "      border-color: transparent;\n",
              "      border-bottom-color: var(--fill-color);\n",
              "    }\n",
              "  }\n",
              "</style>\n",
              "\n",
              "  <script>\n",
              "    async function quickchart(key) {\n",
              "      const quickchartButtonEl =\n",
              "        document.querySelector('#' + key + ' button');\n",
              "      quickchartButtonEl.disabled = true;  // To prevent multiple clicks.\n",
              "      quickchartButtonEl.classList.add('colab-df-spinner');\n",
              "      try {\n",
              "        const charts = await google.colab.kernel.invokeFunction(\n",
              "            'suggestCharts', [key], {});\n",
              "      } catch (error) {\n",
              "        console.error('Error during call to suggestCharts:', error);\n",
              "      }\n",
              "      quickchartButtonEl.classList.remove('colab-df-spinner');\n",
              "      quickchartButtonEl.classList.add('colab-df-quickchart-complete');\n",
              "    }\n",
              "    (() => {\n",
              "      let quickchartButtonEl =\n",
              "        document.querySelector('#df-699177f8-7148-4560-b8c4-d4872d38b49a button');\n",
              "      quickchartButtonEl.style.display =\n",
              "        google.colab.kernel.accessAllowed ? 'block' : 'none';\n",
              "    })();\n",
              "  </script>\n",
              "</div>\n",
              "\n",
              "    </div>\n",
              "  </div>\n"
            ],
            "application/vnd.google.colaboratory.intrinsic+json": {
              "type": "dataframe",
              "summary": "{\n  \"name\": \"#isna\\ub294 \\uac12\\uc774 \\uc5c6\\uc73c\\uba74 false \\uc788\\uc73c\\uba74 true \\uba74 none ,faluse \\uac00 \\uac12\\uc774 \\uc788\\ub294\\uac83\",\n  \"rows\": 90,\n  \"fields\": [\n    {\n      \"column\": \"Q1\",\n      \"properties\": {\n        \"dtype\": \"boolean\",\n        \"num_unique_values\": 2,\n        \"samples\": [\n          true,\n          false\n        ],\n        \"semantic_type\": \"\",\n        \"description\": \"\"\n      }\n    },\n    {\n      \"column\": \"Q2\",\n      \"properties\": {\n        \"dtype\": \"boolean\",\n        \"num_unique_values\": 2,\n        \"samples\": [\n          true,\n          false\n        ],\n        \"semantic_type\": \"\",\n        \"description\": \"\"\n      }\n    },\n    {\n      \"column\": \"Q3\",\n      \"properties\": {\n        \"dtype\": \"boolean\",\n        \"num_unique_values\": 2,\n        \"samples\": [\n          true,\n          false\n        ],\n        \"semantic_type\": \"\",\n        \"description\": \"\"\n      }\n    }\n  ]\n}"
            }
          },
          "metadata": {},
          "execution_count": 163
        }
      ]
    },
    {
      "cell_type": "code",
      "source": [
        "remove_target = sheet[['Q1', 'Q2', 'Q3']].isna().sum(axis=1)\n",
        "# false는 숫자로 0 이니까 하나라도 있으면 살려두고 모두 없으면 지우기, true가 1이니까\n",
        "remains = sheet[remove_target != 3]\n",
        "# 합이 3이 아닌 것은 지우겠다\n",
        "remains[['Q1', 'Q2', 'Q3']] = remains[['Q1', 'Q2', 'Q3']].fillna(\"\")\n",
        "# null 값을 공백으로 바꿔준다. 문자열이 아니라 소수점 값임\n",
        "remains[\"reasons\"] = remains[\"reasons\"].fillna(\"\")\n",
        "# fillan (nan를 없애줌, 공백을 )"
      ],
      "metadata": {
        "id": "O7Art9tAPenP",
        "colab": {
          "base_uri": "https://localhost:8080/"
        },
        "outputId": "d0b21f3b-0bd0-419c-e5af-ab855088618e"
      },
      "execution_count": null,
      "outputs": [
        {
          "output_type": "stream",
          "name": "stderr",
          "text": [
            "/usr/local/lib/python3.10/dist-packages/ipykernel/ipkernel.py:283: DeprecationWarning: `should_run_async` will not call `transform_cell` automatically in the future. Please pass the result to `transformed_cell` argument and any exception that happen during thetransform in `preprocessing_exc_tuple` in IPython 7.17 and above.\n",
            "  and should_run_async(code)\n",
            "<ipython-input-164-26b7a8e14ab4>:5: SettingWithCopyWarning: \n",
            "A value is trying to be set on a copy of a slice from a DataFrame.\n",
            "Try using .loc[row_indexer,col_indexer] = value instead\n",
            "\n",
            "See the caveats in the documentation: https://pandas.pydata.org/pandas-docs/stable/user_guide/indexing.html#returning-a-view-versus-a-copy\n",
            "  remains[['Q1', 'Q2', 'Q3']] = remains[['Q1', 'Q2', 'Q3']].fillna(\"\")\n",
            "<ipython-input-164-26b7a8e14ab4>:7: SettingWithCopyWarning: \n",
            "A value is trying to be set on a copy of a slice from a DataFrame.\n",
            "Try using .loc[row_indexer,col_indexer] = value instead\n",
            "\n",
            "See the caveats in the documentation: https://pandas.pydata.org/pandas-docs/stable/user_guide/indexing.html#returning-a-view-versus-a-copy\n",
            "  remains[\"reasons\"] = remains[\"reasons\"].fillna(\"\")\n"
          ]
        }
      ]
    },
    {
      "cell_type": "code",
      "source": [
        "remains"
      ],
      "metadata": {
        "colab": {
          "base_uri": "https://localhost:8080/",
          "height": 592
        },
        "id": "Iy-EMUX7iO4v",
        "outputId": "ec565221-d486-41de-fb82-58a90162b5eb"
      },
      "execution_count": null,
      "outputs": [
        {
          "output_type": "stream",
          "name": "stderr",
          "text": [
            "/usr/local/lib/python3.10/dist-packages/ipykernel/ipkernel.py:283: DeprecationWarning: `should_run_async` will not call `transform_cell` automatically in the future. Please pass the result to `transformed_cell` argument and any exception that happen during thetransform in `preprocessing_exc_tuple` in IPython 7.17 and above.\n",
            "  and should_run_async(code)\n"
          ]
        },
        {
          "output_type": "execute_result",
          "data": {
            "text/plain": [
              "    grade   level                           Q1                      Q2  \\\n",
              "0      5.0      2                  식감에 대해 알려줘            음식은 어떤 느낌인가요?   \n",
              "1      3.0      3  이미지를 묘사한다면, 어떤 점들 묘사하면 좋을까?       표현하려면 어떻게 해야 하나요?   \n",
              "2      2.0      2          향에 대해서 어떻게 표현해야할까 ?       맛에 대해 어떻게 생각하시나요?   \n",
              "4      3.0      3           특징은 어떻게 설명할 수 있어?      냄새를 어떻게 묘사할 수 있을까요?   \n",
              "5      2.0      4             색다른 특징에 대해서 설명해줘               어떤 느낌인가요?   \n",
              "..     ...    ...                          ...                     ...   \n",
              "85     3.0      3                내용은 어떻게 해야하나?           내용은 어떻게 해야하나?   \n",
              "86     5.0      4    맛과 냄새의 차이는 어떻게 묘사해야 하나요?           음식의 묘사는 어떤가요?    \n",
              "87     3.0      4            어떻게 내 글을 전개해야할까?   어떤 방법으로   구조를 만들어야할까?    \n",
              "88     2.0      3                   어떻게 생겼을까?      어떻게 감정에 대해 표현해야할까?    \n",
              "89     3.0      3            질감을 어떻게 묘사해야할 까?       냄새를 어떻게 표현하면 좋을까?    \n",
              "\n",
              "                             Q3  satisfaction  \\\n",
              "0                    맛은 어떤가요?             9.0   \n",
              "1    맛과 재료를 표현할 수 있는 단어는 무엇인가요?           8.0   \n",
              "2        시각적 표현을 어떻게 묘사할 수 있나요?           NaN   \n",
              "4                      어떤 맛인가요?           9.0   \n",
              "5                    맛은 어떤가요?             NaN   \n",
              "..                          ...           ...   \n",
              "85                내용은 어떻게 해야하나?           9.0   \n",
              "86             시각적으로 어떻게 표현할까?            9.0   \n",
              "87                     맛은 어떨까?            9.0   \n",
              "88                 먹으면 어떻것 같아?            9.0   \n",
              "89                맛은 어떻게 묘사할까?           10.0   \n",
              "\n",
              "                                              reasons  \n",
              "0                            감각적인 부분을 다양한 표현으로 설명해준다.  \n",
              "1                          자세하게 알려주지만 다소 형식적인 답변만을 했다  \n",
              "2                                                      \n",
              "4                                   원했던 답변을 상세히 표현하였음  \n",
              "5                                                      \n",
              "..                                                ...  \n",
              "85                     너무 많은 양의 데이터가 나올 수 있으므로 주의해야겠다  \n",
              "86                                                     \n",
              "87                                   Gpt 사용에 의존하게 된다.  \n",
              "88                            내가 원하는 답변을해 주어서 너무 좋았다.  \n",
              "89  내가 생각했었던 표현은 물론 같은 생각이지만 더 풍부한 내용으로 알려주어서 편리하고...  \n",
              "\n",
              "[87 rows x 7 columns]"
            ],
            "text/html": [
              "\n",
              "  <div id=\"df-2015219a-84cd-40be-9196-c1a6a27c7659\" class=\"colab-df-container\">\n",
              "    <div>\n",
              "<style scoped>\n",
              "    .dataframe tbody tr th:only-of-type {\n",
              "        vertical-align: middle;\n",
              "    }\n",
              "\n",
              "    .dataframe tbody tr th {\n",
              "        vertical-align: top;\n",
              "    }\n",
              "\n",
              "    .dataframe thead th {\n",
              "        text-align: right;\n",
              "    }\n",
              "</style>\n",
              "<table border=\"1\" class=\"dataframe\">\n",
              "  <thead>\n",
              "    <tr style=\"text-align: right;\">\n",
              "      <th></th>\n",
              "      <th>grade</th>\n",
              "      <th>level</th>\n",
              "      <th>Q1</th>\n",
              "      <th>Q2</th>\n",
              "      <th>Q3</th>\n",
              "      <th>satisfaction</th>\n",
              "      <th>reasons</th>\n",
              "    </tr>\n",
              "  </thead>\n",
              "  <tbody>\n",
              "    <tr>\n",
              "      <th>0</th>\n",
              "      <td>5.0</td>\n",
              "      <td>2</td>\n",
              "      <td>식감에 대해 알려줘</td>\n",
              "      <td>음식은 어떤 느낌인가요?</td>\n",
              "      <td>맛은 어떤가요?</td>\n",
              "      <td>9.0</td>\n",
              "      <td>감각적인 부분을 다양한 표현으로 설명해준다.</td>\n",
              "    </tr>\n",
              "    <tr>\n",
              "      <th>1</th>\n",
              "      <td>3.0</td>\n",
              "      <td>3</td>\n",
              "      <td>이미지를 묘사한다면, 어떤 점들 묘사하면 좋을까?</td>\n",
              "      <td>표현하려면 어떻게 해야 하나요?</td>\n",
              "      <td>맛과 재료를 표현할 수 있는 단어는 무엇인가요?</td>\n",
              "      <td>8.0</td>\n",
              "      <td>자세하게 알려주지만 다소 형식적인 답변만을 했다</td>\n",
              "    </tr>\n",
              "    <tr>\n",
              "      <th>2</th>\n",
              "      <td>2.0</td>\n",
              "      <td>2</td>\n",
              "      <td>향에 대해서 어떻게 표현해야할까 ?</td>\n",
              "      <td>맛에 대해 어떻게 생각하시나요?</td>\n",
              "      <td>시각적 표현을 어떻게 묘사할 수 있나요?</td>\n",
              "      <td>NaN</td>\n",
              "      <td></td>\n",
              "    </tr>\n",
              "    <tr>\n",
              "      <th>4</th>\n",
              "      <td>3.0</td>\n",
              "      <td>3</td>\n",
              "      <td>특징은 어떻게 설명할 수 있어?</td>\n",
              "      <td>냄새를 어떻게 묘사할 수 있을까요?</td>\n",
              "      <td>어떤 맛인가요?</td>\n",
              "      <td>9.0</td>\n",
              "      <td>원했던 답변을 상세히 표현하였음</td>\n",
              "    </tr>\n",
              "    <tr>\n",
              "      <th>5</th>\n",
              "      <td>2.0</td>\n",
              "      <td>4</td>\n",
              "      <td>색다른 특징에 대해서 설명해줘</td>\n",
              "      <td>어떤 느낌인가요?</td>\n",
              "      <td>맛은 어떤가요?</td>\n",
              "      <td>NaN</td>\n",
              "      <td></td>\n",
              "    </tr>\n",
              "    <tr>\n",
              "      <th>...</th>\n",
              "      <td>...</td>\n",
              "      <td>...</td>\n",
              "      <td>...</td>\n",
              "      <td>...</td>\n",
              "      <td>...</td>\n",
              "      <td>...</td>\n",
              "      <td>...</td>\n",
              "    </tr>\n",
              "    <tr>\n",
              "      <th>85</th>\n",
              "      <td>3.0</td>\n",
              "      <td>3</td>\n",
              "      <td>내용은 어떻게 해야하나?</td>\n",
              "      <td>내용은 어떻게 해야하나?</td>\n",
              "      <td>내용은 어떻게 해야하나?</td>\n",
              "      <td>9.0</td>\n",
              "      <td>너무 많은 양의 데이터가 나올 수 있으므로 주의해야겠다</td>\n",
              "    </tr>\n",
              "    <tr>\n",
              "      <th>86</th>\n",
              "      <td>5.0</td>\n",
              "      <td>4</td>\n",
              "      <td>맛과 냄새의 차이는 어떻게 묘사해야 하나요?</td>\n",
              "      <td>음식의 묘사는 어떤가요?</td>\n",
              "      <td>시각적으로 어떻게 표현할까?</td>\n",
              "      <td>9.0</td>\n",
              "      <td></td>\n",
              "    </tr>\n",
              "    <tr>\n",
              "      <th>87</th>\n",
              "      <td>3.0</td>\n",
              "      <td>4</td>\n",
              "      <td>어떻게 내 글을 전개해야할까?</td>\n",
              "      <td>어떤 방법으로   구조를 만들어야할까?</td>\n",
              "      <td>맛은 어떨까?</td>\n",
              "      <td>9.0</td>\n",
              "      <td>Gpt 사용에 의존하게 된다.</td>\n",
              "    </tr>\n",
              "    <tr>\n",
              "      <th>88</th>\n",
              "      <td>2.0</td>\n",
              "      <td>3</td>\n",
              "      <td>어떻게 생겼을까?</td>\n",
              "      <td>어떻게 감정에 대해 표현해야할까?</td>\n",
              "      <td>먹으면 어떻것 같아?</td>\n",
              "      <td>9.0</td>\n",
              "      <td>내가 원하는 답변을해 주어서 너무 좋았다.</td>\n",
              "    </tr>\n",
              "    <tr>\n",
              "      <th>89</th>\n",
              "      <td>3.0</td>\n",
              "      <td>3</td>\n",
              "      <td>질감을 어떻게 묘사해야할 까?</td>\n",
              "      <td>냄새를 어떻게 표현하면 좋을까?</td>\n",
              "      <td>맛은 어떻게 묘사할까?</td>\n",
              "      <td>10.0</td>\n",
              "      <td>내가 생각했었던 표현은 물론 같은 생각이지만 더 풍부한 내용으로 알려주어서 편리하고...</td>\n",
              "    </tr>\n",
              "  </tbody>\n",
              "</table>\n",
              "<p>87 rows × 7 columns</p>\n",
              "</div>\n",
              "    <div class=\"colab-df-buttons\">\n",
              "\n",
              "  <div class=\"colab-df-container\">\n",
              "    <button class=\"colab-df-convert\" onclick=\"convertToInteractive('df-2015219a-84cd-40be-9196-c1a6a27c7659')\"\n",
              "            title=\"Convert this dataframe to an interactive table.\"\n",
              "            style=\"display:none;\">\n",
              "\n",
              "  <svg xmlns=\"http://www.w3.org/2000/svg\" height=\"24px\" viewBox=\"0 -960 960 960\">\n",
              "    <path d=\"M120-120v-720h720v720H120Zm60-500h600v-160H180v160Zm220 220h160v-160H400v160Zm0 220h160v-160H400v160ZM180-400h160v-160H180v160Zm440 0h160v-160H620v160ZM180-180h160v-160H180v160Zm440 0h160v-160H620v160Z\"/>\n",
              "  </svg>\n",
              "    </button>\n",
              "\n",
              "  <style>\n",
              "    .colab-df-container {\n",
              "      display:flex;\n",
              "      gap: 12px;\n",
              "    }\n",
              "\n",
              "    .colab-df-convert {\n",
              "      background-color: #E8F0FE;\n",
              "      border: none;\n",
              "      border-radius: 50%;\n",
              "      cursor: pointer;\n",
              "      display: none;\n",
              "      fill: #1967D2;\n",
              "      height: 32px;\n",
              "      padding: 0 0 0 0;\n",
              "      width: 32px;\n",
              "    }\n",
              "\n",
              "    .colab-df-convert:hover {\n",
              "      background-color: #E2EBFA;\n",
              "      box-shadow: 0px 1px 2px rgba(60, 64, 67, 0.3), 0px 1px 3px 1px rgba(60, 64, 67, 0.15);\n",
              "      fill: #174EA6;\n",
              "    }\n",
              "\n",
              "    .colab-df-buttons div {\n",
              "      margin-bottom: 4px;\n",
              "    }\n",
              "\n",
              "    [theme=dark] .colab-df-convert {\n",
              "      background-color: #3B4455;\n",
              "      fill: #D2E3FC;\n",
              "    }\n",
              "\n",
              "    [theme=dark] .colab-df-convert:hover {\n",
              "      background-color: #434B5C;\n",
              "      box-shadow: 0px 1px 3px 1px rgba(0, 0, 0, 0.15);\n",
              "      filter: drop-shadow(0px 1px 2px rgba(0, 0, 0, 0.3));\n",
              "      fill: #FFFFFF;\n",
              "    }\n",
              "  </style>\n",
              "\n",
              "    <script>\n",
              "      const buttonEl =\n",
              "        document.querySelector('#df-2015219a-84cd-40be-9196-c1a6a27c7659 button.colab-df-convert');\n",
              "      buttonEl.style.display =\n",
              "        google.colab.kernel.accessAllowed ? 'block' : 'none';\n",
              "\n",
              "      async function convertToInteractive(key) {\n",
              "        const element = document.querySelector('#df-2015219a-84cd-40be-9196-c1a6a27c7659');\n",
              "        const dataTable =\n",
              "          await google.colab.kernel.invokeFunction('convertToInteractive',\n",
              "                                                    [key], {});\n",
              "        if (!dataTable) return;\n",
              "\n",
              "        const docLinkHtml = 'Like what you see? Visit the ' +\n",
              "          '<a target=\"_blank\" href=https://colab.research.google.com/notebooks/data_table.ipynb>data table notebook</a>'\n",
              "          + ' to learn more about interactive tables.';\n",
              "        element.innerHTML = '';\n",
              "        dataTable['output_type'] = 'display_data';\n",
              "        await google.colab.output.renderOutput(dataTable, element);\n",
              "        const docLink = document.createElement('div');\n",
              "        docLink.innerHTML = docLinkHtml;\n",
              "        element.appendChild(docLink);\n",
              "      }\n",
              "    </script>\n",
              "  </div>\n",
              "\n",
              "\n",
              "<div id=\"df-b92a6f63-3aa7-418d-bfe4-f5705bd68fcf\">\n",
              "  <button class=\"colab-df-quickchart\" onclick=\"quickchart('df-b92a6f63-3aa7-418d-bfe4-f5705bd68fcf')\"\n",
              "            title=\"Suggest charts\"\n",
              "            style=\"display:none;\">\n",
              "\n",
              "<svg xmlns=\"http://www.w3.org/2000/svg\" height=\"24px\"viewBox=\"0 0 24 24\"\n",
              "     width=\"24px\">\n",
              "    <g>\n",
              "        <path d=\"M19 3H5c-1.1 0-2 .9-2 2v14c0 1.1.9 2 2 2h14c1.1 0 2-.9 2-2V5c0-1.1-.9-2-2-2zM9 17H7v-7h2v7zm4 0h-2V7h2v10zm4 0h-2v-4h2v4z\"/>\n",
              "    </g>\n",
              "</svg>\n",
              "  </button>\n",
              "\n",
              "<style>\n",
              "  .colab-df-quickchart {\n",
              "      --bg-color: #E8F0FE;\n",
              "      --fill-color: #1967D2;\n",
              "      --hover-bg-color: #E2EBFA;\n",
              "      --hover-fill-color: #174EA6;\n",
              "      --disabled-fill-color: #AAA;\n",
              "      --disabled-bg-color: #DDD;\n",
              "  }\n",
              "\n",
              "  [theme=dark] .colab-df-quickchart {\n",
              "      --bg-color: #3B4455;\n",
              "      --fill-color: #D2E3FC;\n",
              "      --hover-bg-color: #434B5C;\n",
              "      --hover-fill-color: #FFFFFF;\n",
              "      --disabled-bg-color: #3B4455;\n",
              "      --disabled-fill-color: #666;\n",
              "  }\n",
              "\n",
              "  .colab-df-quickchart {\n",
              "    background-color: var(--bg-color);\n",
              "    border: none;\n",
              "    border-radius: 50%;\n",
              "    cursor: pointer;\n",
              "    display: none;\n",
              "    fill: var(--fill-color);\n",
              "    height: 32px;\n",
              "    padding: 0;\n",
              "    width: 32px;\n",
              "  }\n",
              "\n",
              "  .colab-df-quickchart:hover {\n",
              "    background-color: var(--hover-bg-color);\n",
              "    box-shadow: 0 1px 2px rgba(60, 64, 67, 0.3), 0 1px 3px 1px rgba(60, 64, 67, 0.15);\n",
              "    fill: var(--button-hover-fill-color);\n",
              "  }\n",
              "\n",
              "  .colab-df-quickchart-complete:disabled,\n",
              "  .colab-df-quickchart-complete:disabled:hover {\n",
              "    background-color: var(--disabled-bg-color);\n",
              "    fill: var(--disabled-fill-color);\n",
              "    box-shadow: none;\n",
              "  }\n",
              "\n",
              "  .colab-df-spinner {\n",
              "    border: 2px solid var(--fill-color);\n",
              "    border-color: transparent;\n",
              "    border-bottom-color: var(--fill-color);\n",
              "    animation:\n",
              "      spin 1s steps(1) infinite;\n",
              "  }\n",
              "\n",
              "  @keyframes spin {\n",
              "    0% {\n",
              "      border-color: transparent;\n",
              "      border-bottom-color: var(--fill-color);\n",
              "      border-left-color: var(--fill-color);\n",
              "    }\n",
              "    20% {\n",
              "      border-color: transparent;\n",
              "      border-left-color: var(--fill-color);\n",
              "      border-top-color: var(--fill-color);\n",
              "    }\n",
              "    30% {\n",
              "      border-color: transparent;\n",
              "      border-left-color: var(--fill-color);\n",
              "      border-top-color: var(--fill-color);\n",
              "      border-right-color: var(--fill-color);\n",
              "    }\n",
              "    40% {\n",
              "      border-color: transparent;\n",
              "      border-right-color: var(--fill-color);\n",
              "      border-top-color: var(--fill-color);\n",
              "    }\n",
              "    60% {\n",
              "      border-color: transparent;\n",
              "      border-right-color: var(--fill-color);\n",
              "    }\n",
              "    80% {\n",
              "      border-color: transparent;\n",
              "      border-right-color: var(--fill-color);\n",
              "      border-bottom-color: var(--fill-color);\n",
              "    }\n",
              "    90% {\n",
              "      border-color: transparent;\n",
              "      border-bottom-color: var(--fill-color);\n",
              "    }\n",
              "  }\n",
              "</style>\n",
              "\n",
              "  <script>\n",
              "    async function quickchart(key) {\n",
              "      const quickchartButtonEl =\n",
              "        document.querySelector('#' + key + ' button');\n",
              "      quickchartButtonEl.disabled = true;  // To prevent multiple clicks.\n",
              "      quickchartButtonEl.classList.add('colab-df-spinner');\n",
              "      try {\n",
              "        const charts = await google.colab.kernel.invokeFunction(\n",
              "            'suggestCharts', [key], {});\n",
              "      } catch (error) {\n",
              "        console.error('Error during call to suggestCharts:', error);\n",
              "      }\n",
              "      quickchartButtonEl.classList.remove('colab-df-spinner');\n",
              "      quickchartButtonEl.classList.add('colab-df-quickchart-complete');\n",
              "    }\n",
              "    (() => {\n",
              "      let quickchartButtonEl =\n",
              "        document.querySelector('#df-b92a6f63-3aa7-418d-bfe4-f5705bd68fcf button');\n",
              "      quickchartButtonEl.style.display =\n",
              "        google.colab.kernel.accessAllowed ? 'block' : 'none';\n",
              "    })();\n",
              "  </script>\n",
              "</div>\n",
              "\n",
              "  <div id=\"id_f2c6466d-53ca-47ea-ac75-dff8750d8d4e\">\n",
              "    <style>\n",
              "      .colab-df-generate {\n",
              "        background-color: #E8F0FE;\n",
              "        border: none;\n",
              "        border-radius: 50%;\n",
              "        cursor: pointer;\n",
              "        display: none;\n",
              "        fill: #1967D2;\n",
              "        height: 32px;\n",
              "        padding: 0 0 0 0;\n",
              "        width: 32px;\n",
              "      }\n",
              "\n",
              "      .colab-df-generate:hover {\n",
              "        background-color: #E2EBFA;\n",
              "        box-shadow: 0px 1px 2px rgba(60, 64, 67, 0.3), 0px 1px 3px 1px rgba(60, 64, 67, 0.15);\n",
              "        fill: #174EA6;\n",
              "      }\n",
              "\n",
              "      [theme=dark] .colab-df-generate {\n",
              "        background-color: #3B4455;\n",
              "        fill: #D2E3FC;\n",
              "      }\n",
              "\n",
              "      [theme=dark] .colab-df-generate:hover {\n",
              "        background-color: #434B5C;\n",
              "        box-shadow: 0px 1px 3px 1px rgba(0, 0, 0, 0.15);\n",
              "        filter: drop-shadow(0px 1px 2px rgba(0, 0, 0, 0.3));\n",
              "        fill: #FFFFFF;\n",
              "      }\n",
              "    </style>\n",
              "    <button class=\"colab-df-generate\" onclick=\"generateWithVariable('remains')\"\n",
              "            title=\"Generate code using this dataframe.\"\n",
              "            style=\"display:none;\">\n",
              "\n",
              "  <svg xmlns=\"http://www.w3.org/2000/svg\" height=\"24px\"viewBox=\"0 0 24 24\"\n",
              "       width=\"24px\">\n",
              "    <path d=\"M7,19H8.4L18.45,9,17,7.55,7,17.6ZM5,21V16.75L18.45,3.32a2,2,0,0,1,2.83,0l1.4,1.43a1.91,1.91,0,0,1,.58,1.4,1.91,1.91,0,0,1-.58,1.4L9.25,21ZM18.45,9,17,7.55Zm-12,3A5.31,5.31,0,0,0,4.9,8.1,5.31,5.31,0,0,0,1,6.5,5.31,5.31,0,0,0,4.9,4.9,5.31,5.31,0,0,0,6.5,1,5.31,5.31,0,0,0,8.1,4.9,5.31,5.31,0,0,0,12,6.5,5.46,5.46,0,0,0,6.5,12Z\"/>\n",
              "  </svg>\n",
              "    </button>\n",
              "    <script>\n",
              "      (() => {\n",
              "      const buttonEl =\n",
              "        document.querySelector('#id_f2c6466d-53ca-47ea-ac75-dff8750d8d4e button.colab-df-generate');\n",
              "      buttonEl.style.display =\n",
              "        google.colab.kernel.accessAllowed ? 'block' : 'none';\n",
              "\n",
              "      buttonEl.onclick = () => {\n",
              "        google.colab.notebook.generateWithVariable('remains');\n",
              "      }\n",
              "      })();\n",
              "    </script>\n",
              "  </div>\n",
              "\n",
              "    </div>\n",
              "  </div>\n"
            ],
            "application/vnd.google.colaboratory.intrinsic+json": {
              "type": "dataframe",
              "variable_name": "remains",
              "summary": "{\n  \"name\": \"remains\",\n  \"rows\": 87,\n  \"fields\": [\n    {\n      \"column\": \"grade \",\n      \"properties\": {\n        \"dtype\": \"number\",\n        \"std\": 1.0913461479135877,\n        \"min\": 1.0,\n        \"max\": 5.0,\n        \"num_unique_values\": 5,\n        \"samples\": [\n          3.0,\n          1.0,\n          2.0\n        ],\n        \"semantic_type\": \"\",\n        \"description\": \"\"\n      }\n    },\n    {\n      \"column\": \"level\",\n      \"properties\": {\n        \"dtype\": \"number\",\n        \"std\": 0,\n        \"min\": 1,\n        \"max\": 5,\n        \"num_unique_values\": 5,\n        \"samples\": [\n          3,\n          5,\n          4\n        ],\n        \"semantic_type\": \"\",\n        \"description\": \"\"\n      }\n    },\n    {\n      \"column\": \"Q1\",\n      \"properties\": {\n        \"dtype\": \"string\",\n        \"num_unique_values\": 77,\n        \"samples\": [\n          \"\\uc0c9\\ub2e4\\ub978 \\ud2b9\\uc9d5\\uc5d0 \\ub300\\ud574\\uc11c \\uc124\\uba85\\ud574\\uc918\",\n          \" \\ub0c4\\uc0c8\\ub97c \\uc5b4\\ub5bb\\uac8c \\ud45c\\ud604\\ud558\\uba74 \\uc88b\\uc744\\uae4c?\",\n          \"\\ub9db\\uc744 \\ud45c\\ud604\\ud558\\uace0 \\uc2f6\\uc744 \\ub54c \\uc5b4\\ub5a4 \\uc601\\uc5b4 \\ud45c\\ud604\\uc744 \\uc4f8 \\uc218 \\uc788\\uc744\\uae4c?\"\n        ],\n        \"semantic_type\": \"\",\n        \"description\": \"\"\n      }\n    },\n    {\n      \"column\": \"Q2\",\n      \"properties\": {\n        \"dtype\": \"string\",\n        \"num_unique_values\": 59,\n        \"samples\": [\n          \"\\uc74c\\uc2dd\\uc740 \\uc5b4\\ub5a4 \\ub290\\ub08c\\uc778\\uac00\\uc694?\",\n          \" \\ub0c4\\uc0c8\\ub97c  \\ud45c\\ud604\\ud558\\ub824\\uba74 \\uc5b4\\ub5bb\\uac8c \\ud574\\uc57c \\ud558\\ub098\\uc694?\",\n          \"\\ub0c4\\uc0c8\\ub97c \\ud45c\\ud604\\ud558\\ub294 \\ub2e8\\uc5b4\\ub97c \\uc54c\\ub824\\uc918\"\n        ],\n        \"semantic_type\": \"\",\n        \"description\": \"\"\n      }\n    },\n    {\n      \"column\": \"Q3\",\n      \"properties\": {\n        \"dtype\": \"string\",\n        \"num_unique_values\": 52,\n        \"samples\": [\n          \"  \\ub0c4\\uc0c8\\ub97c \\uc5b4\\ub5bb\\uac8c \\ud45c\\ud604\\ud558\\uba74 \\uc88b\\uc744\\uae4c?\",\n          \"\\uc5b4\\ub5a4 \\uac83\\uc774 \\uac00\\uc7a5 \\uc720\\uba85\\ud55c\\uac00? \",\n          \"\\uc0c9\\uae54\\uc740 \\uc5b4\\ub5a4\\uac83 \\uac19\\uc544? \"\n        ],\n        \"semantic_type\": \"\",\n        \"description\": \"\"\n      }\n    },\n    {\n      \"column\": \"satisfaction\",\n      \"properties\": {\n        \"dtype\": \"number\",\n        \"std\": 0.8609205599393684,\n        \"min\": 6.0,\n        \"max\": 10.0,\n        \"num_unique_values\": 7,\n        \"samples\": [\n          9.0,\n          8.0,\n          7.0\n        ],\n        \"semantic_type\": \"\",\n        \"description\": \"\"\n      }\n    },\n    {\n      \"column\": \"reasons\",\n      \"properties\": {\n        \"dtype\": \"string\",\n        \"num_unique_values\": 75,\n        \"samples\": [\n          \"\\ub0b4\\uac00 \\uc0dd\\uac01\\ud558\\uc9c0 \\ubabb\\ud588\\ub358 \\ub2f5\\ubcc0\\ub4e4\\uc744 \\ud574\\uc90c\",\n          \"\\ub0b4\\uac00 \\uc9c8\\ubb38\\ud55c \\uac83\\uc5d0 \\ub300\\ud55c \\ub2f5\\ubcc0\\uc744 \\ubcf4\\uae30 \\uc88b\\uac8c \\uc815\\ub9ac\\ud574\\uc11c \\uc54c\\ub824\\uc8fc\\uc5c8\\ub2e4\",\n          \" \\ub0b4\\uac00 \\ubb3c\\uc5b4\\ubcf8 \\uac83\\uc5d0\\ub294 \\ub300\\ub2f5\\ud574\\uc918\\uc11c \\uc88b\\uc73c\\ub098 \\uac04\\ub2e8\\ud558\\uac1c \\uc54c\\ub824\\uc904 \\uc218 \\uc788\\ub294\\uac83\\uc744 \\ub108\\ubb34 \\uae38\\uac8c \\uc124\\uba85\\ud574\\uc90c\"\n        ],\n        \"semantic_type\": \"\",\n        \"description\": \"\"\n      }\n    }\n  ]\n}"
            }
          },
          "metadata": {},
          "execution_count": 165
        }
      ]
    },
    {
      "cell_type": "code",
      "source": [
        "# 구글 번역하기 없앰\n",
        "#!pip install tenacity"
      ],
      "metadata": {
        "colab": {
          "base_uri": "https://localhost:8080/"
        },
        "id": "osVCAabhPhUg",
        "outputId": "25cedc42-9044-4217-d28e-603871683c9a"
      },
      "execution_count": null,
      "outputs": [
        {
          "output_type": "stream",
          "name": "stderr",
          "text": [
            "/usr/local/lib/python3.10/dist-packages/ipykernel/ipkernel.py:283: DeprecationWarning: `should_run_async` will not call `transform_cell` automatically in the future. Please pass the result to `transformed_cell` argument and any exception that happen during thetransform in `preprocessing_exc_tuple` in IPython 7.17 and above.\n",
            "  and should_run_async(code)\n"
          ]
        }
      ]
    },
    {
      "cell_type": "code",
      "source": [
        "#번역필요시에는 실행하기\n",
        "import requests\n",
        "from typing import Optional\n",
        "from tenacity import retry, stop_after_attempt, wait_random_exponential\n",
        "\n",
        "REST = \"https://translate.googleapis.com/translate_a/single?hl=ko&dt=t&client=gtx&ie=utf-8\"\n",
        "\n",
        "\n",
        "@retry(stop=stop_after_attempt(3), wait=wait_random_exponential(multiplier=1, min=4, max=10))\n",
        "def translateWithGoogleAPI(text: str, sl: str = 'ko', hl: str = 'ko', tl: str = 'en') -> Optional[str]:\n",
        "    with requests.get(REST, params={\"q\": text, \"sl\": sl, \"hl\": hl, \"tl\": tl}) as req:\n",
        "        result = req.json()[0][0][0]\n",
        "    return result"
      ],
      "metadata": {
        "id": "8xCOXq0rPvvD",
        "colab": {
          "base_uri": "https://localhost:8080/"
        },
        "outputId": "ab31fd71-cc9c-44e6-abd9-ce16a3ebab14"
      },
      "execution_count": null,
      "outputs": [
        {
          "output_type": "stream",
          "name": "stderr",
          "text": [
            "/usr/local/lib/python3.10/dist-packages/ipykernel/ipkernel.py:283: DeprecationWarning: `should_run_async` will not call `transform_cell` automatically in the future. Please pass the result to `transformed_cell` argument and any exception that happen during thetransform in `preprocessing_exc_tuple` in IPython 7.17 and above.\n",
            "  and should_run_async(code)\n"
          ]
        }
      ]
    },
    {
      "cell_type": "code",
      "source": [
        "# 번역실행하기\n",
        "import re\n",
        "from tqdm import tqdm\n",
        "\n",
        "\n",
        "target_column = ['Q1', 'Q2', 'Q3', \"reasons\"]\n",
        "\n",
        "ko_remains = {}\n",
        "for column in tqdm(target_column, desc=\"Iter columns...\"):\n",
        "    outputs = []\n",
        "    for sentence in tqdm(remains[column], desc=\"Iter sentences...\"):\n",
        "        outputs.append(translateWithGoogleAPI(sentence, sl=\"en\", hl=\"en\", tl=\"ko\")) # 영어를 한글로 번역\n",
        "        # outputs.append(translateWithGoogleAPI(sentence, sl=\"en\", hl=\"en\", tl=\"ko\")) 한글을 영어로 번역\n",
        "    ko_remains[column] = outputs"
      ],
      "metadata": {
        "colab": {
          "base_uri": "https://localhost:8080/",
          "height": 999
        },
        "id": "yhp4KVSkPotU",
        "outputId": "1f8ab642-0a33-49e0-9efc-601d653cfefa"
      },
      "execution_count": null,
      "outputs": [
        {
          "output_type": "stream",
          "name": "stderr",
          "text": [
            "/usr/local/lib/python3.10/dist-packages/ipykernel/ipkernel.py:283: DeprecationWarning: `should_run_async` will not call `transform_cell` automatically in the future. Please pass the result to `transformed_cell` argument and any exception that happen during thetransform in `preprocessing_exc_tuple` in IPython 7.17 and above.\n",
            "  and should_run_async(code)\n",
            "Iter columns...:   0%|          | 0/4 [00:00<?, ?it/s]\n",
            "Iter sentences...:   0%|          | 0/87 [00:00<?, ?it/s]\u001b[A\n",
            "Iter sentences...:   5%|▍         | 4/87 [00:00<00:02, 33.81it/s]\u001b[A\n",
            "Iter sentences...:   9%|▉         | 8/87 [00:00<00:02, 33.18it/s]\u001b[A\n",
            "Iter sentences...:  14%|█▍        | 12/87 [00:00<00:02, 32.59it/s]\u001b[A\n",
            "Iter sentences...:  18%|█▊        | 16/87 [00:00<00:02, 31.64it/s]\u001b[A\n",
            "Iter sentences...:  23%|██▎       | 20/87 [00:00<00:02, 31.87it/s]\u001b[A\n",
            "Iter sentences...:  28%|██▊       | 24/87 [00:00<00:02, 30.95it/s]\u001b[A\n",
            "Iter sentences...:  32%|███▏      | 28/87 [00:00<00:01, 31.10it/s]\u001b[A\n",
            "Iter sentences...:  37%|███▋      | 32/87 [00:01<00:01, 31.03it/s]\u001b[A\n",
            "Iter sentences...:  41%|████▏     | 36/87 [00:01<00:01, 30.72it/s]\u001b[A\n",
            "Iter sentences...:  46%|████▌     | 40/87 [00:01<00:01, 30.61it/s]\u001b[A\n",
            "Iter sentences...:  51%|█████     | 44/87 [00:01<00:01, 30.90it/s]\u001b[A\n",
            "Iter sentences...:  55%|█████▌    | 48/87 [00:01<00:01, 30.89it/s]\u001b[A\n",
            "Iter sentences...:  60%|█████▉    | 52/87 [00:01<00:01, 31.07it/s]\u001b[A\n",
            "Iter sentences...:  64%|██████▍   | 56/87 [00:01<00:00, 31.75it/s]\u001b[A\n",
            "Iter sentences...:  69%|██████▉   | 60/87 [00:01<00:00, 31.25it/s]\u001b[A\n",
            "Iter sentences...:  74%|███████▎  | 64/87 [00:02<00:00, 30.50it/s]\u001b[A\n",
            "Iter sentences...:  78%|███████▊  | 68/87 [00:02<00:00, 31.08it/s]\u001b[A\n",
            "Iter sentences...:  83%|████████▎ | 72/87 [00:02<00:00, 31.03it/s]\u001b[A\n",
            "Iter sentences...:  87%|████████▋ | 76/87 [00:02<00:00, 30.81it/s]\u001b[A\n",
            "Iter sentences...:  92%|█████████▏| 80/87 [00:02<00:00, 31.06it/s]\u001b[A\n",
            "Iter sentences...:  97%|█████████▋| 84/87 [00:02<00:00, 29.17it/s]\u001b[A\n",
            "Iter sentences...: 100%|██████████| 87/87 [00:02<00:00, 30.66it/s]\n",
            "Iter columns...:  25%|██▌       | 1/4 [00:02<00:08,  2.85s/it]\n",
            "Iter sentences...:   0%|          | 0/87 [00:00<?, ?it/s]\u001b[A\n",
            "Iter sentences...:   5%|▍         | 4/87 [00:00<00:02, 35.25it/s]\u001b[A\n",
            "Iter sentences...:   9%|▉         | 8/87 [00:00<00:02, 32.59it/s]\u001b[A\n",
            "Iter sentences...:  14%|█▍        | 12/87 [00:00<00:02, 32.40it/s]\u001b[A\n",
            "Iter sentences...:  18%|█▊        | 16/87 [00:00<00:02, 32.21it/s]\u001b[A\n",
            "Iter sentences...:  23%|██▎       | 20/87 [00:00<00:02, 29.46it/s]\u001b[A\n",
            "Iter sentences...:  28%|██▊       | 24/87 [00:00<00:02, 30.07it/s]\u001b[A\n",
            "Iter sentences...:  32%|███▏      | 28/87 [00:00<00:01, 30.85it/s]\u001b[A\n",
            "Iter sentences...:  38%|███▊      | 33/87 [00:01<00:01, 30.34it/s]\n",
            "Iter columns...:  25%|██▌       | 1/4 [00:03<00:11,  3.95s/it]\n"
          ]
        },
        {
          "output_type": "error",
          "ename": "KeyboardInterrupt",
          "evalue": "",
          "traceback": [
            "\u001b[0;31m---------------------------------------------------------------------------\u001b[0m",
            "\u001b[0;31mKeyboardInterrupt\u001b[0m                         Traceback (most recent call last)",
            "\u001b[0;32m<ipython-input-169-5ce775f0fc10>\u001b[0m in \u001b[0;36m<cell line: 9>\u001b[0;34m()\u001b[0m\n\u001b[1;32m     10\u001b[0m     \u001b[0moutputs\u001b[0m \u001b[0;34m=\u001b[0m \u001b[0;34m[\u001b[0m\u001b[0;34m]\u001b[0m\u001b[0;34m\u001b[0m\u001b[0;34m\u001b[0m\u001b[0m\n\u001b[1;32m     11\u001b[0m     \u001b[0;32mfor\u001b[0m \u001b[0msentence\u001b[0m \u001b[0;32min\u001b[0m \u001b[0mtqdm\u001b[0m\u001b[0;34m(\u001b[0m\u001b[0mremains\u001b[0m\u001b[0;34m[\u001b[0m\u001b[0mcolumn\u001b[0m\u001b[0;34m]\u001b[0m\u001b[0;34m,\u001b[0m \u001b[0mdesc\u001b[0m\u001b[0;34m=\u001b[0m\u001b[0;34m\"Iter sentences...\"\u001b[0m\u001b[0;34m)\u001b[0m\u001b[0;34m:\u001b[0m\u001b[0;34m\u001b[0m\u001b[0;34m\u001b[0m\u001b[0m\n\u001b[0;32m---> 12\u001b[0;31m         \u001b[0moutputs\u001b[0m\u001b[0;34m.\u001b[0m\u001b[0mappend\u001b[0m\u001b[0;34m(\u001b[0m\u001b[0mtranslateWithGoogleAPI\u001b[0m\u001b[0;34m(\u001b[0m\u001b[0msentence\u001b[0m\u001b[0;34m,\u001b[0m \u001b[0msl\u001b[0m\u001b[0;34m=\u001b[0m\u001b[0;34m\"en\"\u001b[0m\u001b[0;34m,\u001b[0m \u001b[0mhl\u001b[0m\u001b[0;34m=\u001b[0m\u001b[0;34m\"en\"\u001b[0m\u001b[0;34m,\u001b[0m \u001b[0mtl\u001b[0m\u001b[0;34m=\u001b[0m\u001b[0;34m\"ko\"\u001b[0m\u001b[0;34m)\u001b[0m\u001b[0;34m)\u001b[0m \u001b[0;31m# 영어를 한글로 번역\u001b[0m\u001b[0;34m\u001b[0m\u001b[0;34m\u001b[0m\u001b[0m\n\u001b[0m\u001b[1;32m     13\u001b[0m         \u001b[0;31m# outputs.append(translateWithGoogleAPI(sentence, sl=\"en\", hl=\"en\", tl=\"ko\")) 한글을 영어로 번역\u001b[0m\u001b[0;34m\u001b[0m\u001b[0;34m\u001b[0m\u001b[0m\n\u001b[1;32m     14\u001b[0m     \u001b[0mko_remains\u001b[0m\u001b[0;34m[\u001b[0m\u001b[0mcolumn\u001b[0m\u001b[0;34m]\u001b[0m \u001b[0;34m=\u001b[0m \u001b[0moutputs\u001b[0m\u001b[0;34m\u001b[0m\u001b[0;34m\u001b[0m\u001b[0m\n",
            "\u001b[0;32m/usr/local/lib/python3.10/dist-packages/tenacity/__init__.py\u001b[0m in \u001b[0;36mwrapped_f\u001b[0;34m(*args, **kw)\u001b[0m\n\u001b[1;32m    334\u001b[0m             \u001b[0mcopy\u001b[0m \u001b[0;34m=\u001b[0m \u001b[0mself\u001b[0m\u001b[0;34m.\u001b[0m\u001b[0mcopy\u001b[0m\u001b[0;34m(\u001b[0m\u001b[0;34m)\u001b[0m\u001b[0;34m\u001b[0m\u001b[0;34m\u001b[0m\u001b[0m\n\u001b[1;32m    335\u001b[0m             \u001b[0mwrapped_f\u001b[0m\u001b[0;34m.\u001b[0m\u001b[0mstatistics\u001b[0m \u001b[0;34m=\u001b[0m \u001b[0mcopy\u001b[0m\u001b[0;34m.\u001b[0m\u001b[0mstatistics\u001b[0m  \u001b[0;31m# type: ignore[attr-defined]\u001b[0m\u001b[0;34m\u001b[0m\u001b[0;34m\u001b[0m\u001b[0m\n\u001b[0;32m--> 336\u001b[0;31m             \u001b[0;32mreturn\u001b[0m \u001b[0mcopy\u001b[0m\u001b[0;34m(\u001b[0m\u001b[0mf\u001b[0m\u001b[0;34m,\u001b[0m \u001b[0;34m*\u001b[0m\u001b[0margs\u001b[0m\u001b[0;34m,\u001b[0m \u001b[0;34m**\u001b[0m\u001b[0mkw\u001b[0m\u001b[0;34m)\u001b[0m\u001b[0;34m\u001b[0m\u001b[0;34m\u001b[0m\u001b[0m\n\u001b[0m\u001b[1;32m    337\u001b[0m \u001b[0;34m\u001b[0m\u001b[0m\n\u001b[1;32m    338\u001b[0m         \u001b[0;32mdef\u001b[0m \u001b[0mretry_with\u001b[0m\u001b[0;34m(\u001b[0m\u001b[0;34m*\u001b[0m\u001b[0margs\u001b[0m\u001b[0;34m:\u001b[0m \u001b[0mt\u001b[0m\u001b[0;34m.\u001b[0m\u001b[0mAny\u001b[0m\u001b[0;34m,\u001b[0m \u001b[0;34m**\u001b[0m\u001b[0mkwargs\u001b[0m\u001b[0;34m:\u001b[0m \u001b[0mt\u001b[0m\u001b[0;34m.\u001b[0m\u001b[0mAny\u001b[0m\u001b[0;34m)\u001b[0m \u001b[0;34m->\u001b[0m \u001b[0mWrappedFn\u001b[0m\u001b[0;34m:\u001b[0m\u001b[0;34m\u001b[0m\u001b[0;34m\u001b[0m\u001b[0m\n",
            "\u001b[0;32m/usr/local/lib/python3.10/dist-packages/tenacity/__init__.py\u001b[0m in \u001b[0;36m__call__\u001b[0;34m(self, fn, *args, **kwargs)\u001b[0m\n\u001b[1;32m    473\u001b[0m         \u001b[0mretry_state\u001b[0m \u001b[0;34m=\u001b[0m \u001b[0mRetryCallState\u001b[0m\u001b[0;34m(\u001b[0m\u001b[0mretry_object\u001b[0m\u001b[0;34m=\u001b[0m\u001b[0mself\u001b[0m\u001b[0;34m,\u001b[0m \u001b[0mfn\u001b[0m\u001b[0;34m=\u001b[0m\u001b[0mfn\u001b[0m\u001b[0;34m,\u001b[0m \u001b[0margs\u001b[0m\u001b[0;34m=\u001b[0m\u001b[0margs\u001b[0m\u001b[0;34m,\u001b[0m \u001b[0mkwargs\u001b[0m\u001b[0;34m=\u001b[0m\u001b[0mkwargs\u001b[0m\u001b[0;34m)\u001b[0m\u001b[0;34m\u001b[0m\u001b[0;34m\u001b[0m\u001b[0m\n\u001b[1;32m    474\u001b[0m         \u001b[0;32mwhile\u001b[0m \u001b[0;32mTrue\u001b[0m\u001b[0;34m:\u001b[0m\u001b[0;34m\u001b[0m\u001b[0;34m\u001b[0m\u001b[0m\n\u001b[0;32m--> 475\u001b[0;31m             \u001b[0mdo\u001b[0m \u001b[0;34m=\u001b[0m \u001b[0mself\u001b[0m\u001b[0;34m.\u001b[0m\u001b[0miter\u001b[0m\u001b[0;34m(\u001b[0m\u001b[0mretry_state\u001b[0m\u001b[0;34m=\u001b[0m\u001b[0mretry_state\u001b[0m\u001b[0;34m)\u001b[0m\u001b[0;34m\u001b[0m\u001b[0;34m\u001b[0m\u001b[0m\n\u001b[0m\u001b[1;32m    476\u001b[0m             \u001b[0;32mif\u001b[0m \u001b[0misinstance\u001b[0m\u001b[0;34m(\u001b[0m\u001b[0mdo\u001b[0m\u001b[0;34m,\u001b[0m \u001b[0mDoAttempt\u001b[0m\u001b[0;34m)\u001b[0m\u001b[0;34m:\u001b[0m\u001b[0;34m\u001b[0m\u001b[0;34m\u001b[0m\u001b[0m\n\u001b[1;32m    477\u001b[0m                 \u001b[0;32mtry\u001b[0m\u001b[0;34m:\u001b[0m\u001b[0;34m\u001b[0m\u001b[0;34m\u001b[0m\u001b[0m\n",
            "\u001b[0;32m/usr/local/lib/python3.10/dist-packages/tenacity/__init__.py\u001b[0m in \u001b[0;36miter\u001b[0;34m(self, retry_state)\u001b[0m\n\u001b[1;32m    374\u001b[0m         \u001b[0mresult\u001b[0m \u001b[0;34m=\u001b[0m \u001b[0;32mNone\u001b[0m\u001b[0;34m\u001b[0m\u001b[0;34m\u001b[0m\u001b[0m\n\u001b[1;32m    375\u001b[0m         \u001b[0;32mfor\u001b[0m \u001b[0maction\u001b[0m \u001b[0;32min\u001b[0m \u001b[0mself\u001b[0m\u001b[0;34m.\u001b[0m\u001b[0miter_state\u001b[0m\u001b[0;34m.\u001b[0m\u001b[0mactions\u001b[0m\u001b[0;34m:\u001b[0m\u001b[0;34m\u001b[0m\u001b[0;34m\u001b[0m\u001b[0m\n\u001b[0;32m--> 376\u001b[0;31m             \u001b[0mresult\u001b[0m \u001b[0;34m=\u001b[0m \u001b[0maction\u001b[0m\u001b[0;34m(\u001b[0m\u001b[0mretry_state\u001b[0m\u001b[0;34m)\u001b[0m\u001b[0;34m\u001b[0m\u001b[0;34m\u001b[0m\u001b[0m\n\u001b[0m\u001b[1;32m    377\u001b[0m         \u001b[0;32mreturn\u001b[0m \u001b[0mresult\u001b[0m\u001b[0;34m\u001b[0m\u001b[0;34m\u001b[0m\u001b[0m\n\u001b[1;32m    378\u001b[0m \u001b[0;34m\u001b[0m\u001b[0m\n",
            "\u001b[0;32m/usr/local/lib/python3.10/dist-packages/tenacity/__init__.py\u001b[0m in \u001b[0;36m<lambda>\u001b[0;34m(rs)\u001b[0m\n\u001b[1;32m    396\u001b[0m     \u001b[0;32mdef\u001b[0m \u001b[0m_post_retry_check_actions\u001b[0m\u001b[0;34m(\u001b[0m\u001b[0mself\u001b[0m\u001b[0;34m,\u001b[0m \u001b[0mretry_state\u001b[0m\u001b[0;34m:\u001b[0m \u001b[0;34m\"RetryCallState\"\u001b[0m\u001b[0;34m)\u001b[0m \u001b[0;34m->\u001b[0m \u001b[0;32mNone\u001b[0m\u001b[0;34m:\u001b[0m\u001b[0;34m\u001b[0m\u001b[0;34m\u001b[0m\u001b[0m\n\u001b[1;32m    397\u001b[0m         \u001b[0;32mif\u001b[0m \u001b[0;32mnot\u001b[0m \u001b[0;34m(\u001b[0m\u001b[0mself\u001b[0m\u001b[0;34m.\u001b[0m\u001b[0miter_state\u001b[0m\u001b[0;34m.\u001b[0m\u001b[0mis_explicit_retry\u001b[0m \u001b[0;32mor\u001b[0m \u001b[0mself\u001b[0m\u001b[0;34m.\u001b[0m\u001b[0miter_state\u001b[0m\u001b[0;34m.\u001b[0m\u001b[0mretry_run_result\u001b[0m\u001b[0;34m)\u001b[0m\u001b[0;34m:\u001b[0m\u001b[0;34m\u001b[0m\u001b[0;34m\u001b[0m\u001b[0m\n\u001b[0;32m--> 398\u001b[0;31m             \u001b[0mself\u001b[0m\u001b[0;34m.\u001b[0m\u001b[0m_add_action_func\u001b[0m\u001b[0;34m(\u001b[0m\u001b[0;32mlambda\u001b[0m \u001b[0mrs\u001b[0m\u001b[0;34m:\u001b[0m \u001b[0mrs\u001b[0m\u001b[0;34m.\u001b[0m\u001b[0moutcome\u001b[0m\u001b[0;34m.\u001b[0m\u001b[0mresult\u001b[0m\u001b[0;34m(\u001b[0m\u001b[0;34m)\u001b[0m\u001b[0;34m)\u001b[0m\u001b[0;34m\u001b[0m\u001b[0;34m\u001b[0m\u001b[0m\n\u001b[0m\u001b[1;32m    399\u001b[0m             \u001b[0;32mreturn\u001b[0m\u001b[0;34m\u001b[0m\u001b[0;34m\u001b[0m\u001b[0m\n\u001b[1;32m    400\u001b[0m \u001b[0;34m\u001b[0m\u001b[0m\n",
            "\u001b[0;32m/usr/lib/python3.10/concurrent/futures/_base.py\u001b[0m in \u001b[0;36mresult\u001b[0;34m(self, timeout)\u001b[0m\n\u001b[1;32m    449\u001b[0m                     \u001b[0;32mraise\u001b[0m \u001b[0mCancelledError\u001b[0m\u001b[0;34m(\u001b[0m\u001b[0;34m)\u001b[0m\u001b[0;34m\u001b[0m\u001b[0;34m\u001b[0m\u001b[0m\n\u001b[1;32m    450\u001b[0m                 \u001b[0;32melif\u001b[0m \u001b[0mself\u001b[0m\u001b[0;34m.\u001b[0m\u001b[0m_state\u001b[0m \u001b[0;34m==\u001b[0m \u001b[0mFINISHED\u001b[0m\u001b[0;34m:\u001b[0m\u001b[0;34m\u001b[0m\u001b[0;34m\u001b[0m\u001b[0m\n\u001b[0;32m--> 451\u001b[0;31m                     \u001b[0;32mreturn\u001b[0m \u001b[0mself\u001b[0m\u001b[0;34m.\u001b[0m\u001b[0m__get_result\u001b[0m\u001b[0;34m(\u001b[0m\u001b[0;34m)\u001b[0m\u001b[0;34m\u001b[0m\u001b[0;34m\u001b[0m\u001b[0m\n\u001b[0m\u001b[1;32m    452\u001b[0m \u001b[0;34m\u001b[0m\u001b[0m\n\u001b[1;32m    453\u001b[0m                 \u001b[0mself\u001b[0m\u001b[0;34m.\u001b[0m\u001b[0m_condition\u001b[0m\u001b[0;34m.\u001b[0m\u001b[0mwait\u001b[0m\u001b[0;34m(\u001b[0m\u001b[0mtimeout\u001b[0m\u001b[0;34m)\u001b[0m\u001b[0;34m\u001b[0m\u001b[0;34m\u001b[0m\u001b[0m\n",
            "\u001b[0;32m/usr/lib/python3.10/concurrent/futures/_base.py\u001b[0m in \u001b[0;36m__get_result\u001b[0;34m(self)\u001b[0m\n\u001b[1;32m    401\u001b[0m         \u001b[0;32mif\u001b[0m \u001b[0mself\u001b[0m\u001b[0;34m.\u001b[0m\u001b[0m_exception\u001b[0m\u001b[0;34m:\u001b[0m\u001b[0;34m\u001b[0m\u001b[0;34m\u001b[0m\u001b[0m\n\u001b[1;32m    402\u001b[0m             \u001b[0;32mtry\u001b[0m\u001b[0;34m:\u001b[0m\u001b[0;34m\u001b[0m\u001b[0;34m\u001b[0m\u001b[0m\n\u001b[0;32m--> 403\u001b[0;31m                 \u001b[0;32mraise\u001b[0m \u001b[0mself\u001b[0m\u001b[0;34m.\u001b[0m\u001b[0m_exception\u001b[0m\u001b[0;34m\u001b[0m\u001b[0;34m\u001b[0m\u001b[0m\n\u001b[0m\u001b[1;32m    404\u001b[0m             \u001b[0;32mfinally\u001b[0m\u001b[0;34m:\u001b[0m\u001b[0;34m\u001b[0m\u001b[0;34m\u001b[0m\u001b[0m\n\u001b[1;32m    405\u001b[0m                 \u001b[0;31m# Break a reference cycle with the exception in self._exception\u001b[0m\u001b[0;34m\u001b[0m\u001b[0;34m\u001b[0m\u001b[0m\n",
            "\u001b[0;32m/usr/local/lib/python3.10/dist-packages/tenacity/__init__.py\u001b[0m in \u001b[0;36m__call__\u001b[0;34m(self, fn, *args, **kwargs)\u001b[0m\n\u001b[1;32m    476\u001b[0m             \u001b[0;32mif\u001b[0m \u001b[0misinstance\u001b[0m\u001b[0;34m(\u001b[0m\u001b[0mdo\u001b[0m\u001b[0;34m,\u001b[0m \u001b[0mDoAttempt\u001b[0m\u001b[0;34m)\u001b[0m\u001b[0;34m:\u001b[0m\u001b[0;34m\u001b[0m\u001b[0;34m\u001b[0m\u001b[0m\n\u001b[1;32m    477\u001b[0m                 \u001b[0;32mtry\u001b[0m\u001b[0;34m:\u001b[0m\u001b[0;34m\u001b[0m\u001b[0;34m\u001b[0m\u001b[0m\n\u001b[0;32m--> 478\u001b[0;31m                     \u001b[0mresult\u001b[0m \u001b[0;34m=\u001b[0m \u001b[0mfn\u001b[0m\u001b[0;34m(\u001b[0m\u001b[0;34m*\u001b[0m\u001b[0margs\u001b[0m\u001b[0;34m,\u001b[0m \u001b[0;34m**\u001b[0m\u001b[0mkwargs\u001b[0m\u001b[0;34m)\u001b[0m\u001b[0;34m\u001b[0m\u001b[0;34m\u001b[0m\u001b[0m\n\u001b[0m\u001b[1;32m    479\u001b[0m                 \u001b[0;32mexcept\u001b[0m \u001b[0mBaseException\u001b[0m\u001b[0;34m:\u001b[0m  \u001b[0;31m# noqa: B902\u001b[0m\u001b[0;34m\u001b[0m\u001b[0;34m\u001b[0m\u001b[0m\n\u001b[1;32m    480\u001b[0m                     \u001b[0mretry_state\u001b[0m\u001b[0;34m.\u001b[0m\u001b[0mset_exception\u001b[0m\u001b[0;34m(\u001b[0m\u001b[0msys\u001b[0m\u001b[0;34m.\u001b[0m\u001b[0mexc_info\u001b[0m\u001b[0;34m(\u001b[0m\u001b[0;34m)\u001b[0m\u001b[0;34m)\u001b[0m  \u001b[0;31m# type: ignore[arg-type]\u001b[0m\u001b[0;34m\u001b[0m\u001b[0;34m\u001b[0m\u001b[0m\n",
            "\u001b[0;32m<ipython-input-167-737b74d7f474>\u001b[0m in \u001b[0;36mtranslateWithGoogleAPI\u001b[0;34m(text, sl, hl, tl)\u001b[0m\n\u001b[1;32m      9\u001b[0m \u001b[0;34m@\u001b[0m\u001b[0mretry\u001b[0m\u001b[0;34m(\u001b[0m\u001b[0mstop\u001b[0m\u001b[0;34m=\u001b[0m\u001b[0mstop_after_attempt\u001b[0m\u001b[0;34m(\u001b[0m\u001b[0;36m3\u001b[0m\u001b[0;34m)\u001b[0m\u001b[0;34m,\u001b[0m \u001b[0mwait\u001b[0m\u001b[0;34m=\u001b[0m\u001b[0mwait_random_exponential\u001b[0m\u001b[0;34m(\u001b[0m\u001b[0mmultiplier\u001b[0m\u001b[0;34m=\u001b[0m\u001b[0;36m1\u001b[0m\u001b[0;34m,\u001b[0m \u001b[0mmin\u001b[0m\u001b[0;34m=\u001b[0m\u001b[0;36m4\u001b[0m\u001b[0;34m,\u001b[0m \u001b[0mmax\u001b[0m\u001b[0;34m=\u001b[0m\u001b[0;36m10\u001b[0m\u001b[0;34m)\u001b[0m\u001b[0;34m)\u001b[0m\u001b[0;34m\u001b[0m\u001b[0;34m\u001b[0m\u001b[0m\n\u001b[1;32m     10\u001b[0m \u001b[0;32mdef\u001b[0m \u001b[0mtranslateWithGoogleAPI\u001b[0m\u001b[0;34m(\u001b[0m\u001b[0mtext\u001b[0m\u001b[0;34m:\u001b[0m \u001b[0mstr\u001b[0m\u001b[0;34m,\u001b[0m \u001b[0msl\u001b[0m\u001b[0;34m:\u001b[0m \u001b[0mstr\u001b[0m \u001b[0;34m=\u001b[0m \u001b[0;34m'ko'\u001b[0m\u001b[0;34m,\u001b[0m \u001b[0mhl\u001b[0m\u001b[0;34m:\u001b[0m \u001b[0mstr\u001b[0m \u001b[0;34m=\u001b[0m \u001b[0;34m'ko'\u001b[0m\u001b[0;34m,\u001b[0m \u001b[0mtl\u001b[0m\u001b[0;34m:\u001b[0m \u001b[0mstr\u001b[0m \u001b[0;34m=\u001b[0m \u001b[0;34m'en'\u001b[0m\u001b[0;34m)\u001b[0m \u001b[0;34m->\u001b[0m \u001b[0mOptional\u001b[0m\u001b[0;34m[\u001b[0m\u001b[0mstr\u001b[0m\u001b[0;34m]\u001b[0m\u001b[0;34m:\u001b[0m\u001b[0;34m\u001b[0m\u001b[0;34m\u001b[0m\u001b[0m\n\u001b[0;32m---> 11\u001b[0;31m     \u001b[0;32mwith\u001b[0m \u001b[0mrequests\u001b[0m\u001b[0;34m.\u001b[0m\u001b[0mget\u001b[0m\u001b[0;34m(\u001b[0m\u001b[0mREST\u001b[0m\u001b[0;34m,\u001b[0m \u001b[0mparams\u001b[0m\u001b[0;34m=\u001b[0m\u001b[0;34m{\u001b[0m\u001b[0;34m\"q\"\u001b[0m\u001b[0;34m:\u001b[0m \u001b[0mtext\u001b[0m\u001b[0;34m,\u001b[0m \u001b[0;34m\"sl\"\u001b[0m\u001b[0;34m:\u001b[0m \u001b[0msl\u001b[0m\u001b[0;34m,\u001b[0m \u001b[0;34m\"hl\"\u001b[0m\u001b[0;34m:\u001b[0m \u001b[0mhl\u001b[0m\u001b[0;34m,\u001b[0m \u001b[0;34m\"tl\"\u001b[0m\u001b[0;34m:\u001b[0m \u001b[0mtl\u001b[0m\u001b[0;34m}\u001b[0m\u001b[0;34m)\u001b[0m \u001b[0;32mas\u001b[0m \u001b[0mreq\u001b[0m\u001b[0;34m:\u001b[0m\u001b[0;34m\u001b[0m\u001b[0;34m\u001b[0m\u001b[0m\n\u001b[0m\u001b[1;32m     12\u001b[0m         \u001b[0mresult\u001b[0m \u001b[0;34m=\u001b[0m \u001b[0mreq\u001b[0m\u001b[0;34m.\u001b[0m\u001b[0mjson\u001b[0m\u001b[0;34m(\u001b[0m\u001b[0;34m)\u001b[0m\u001b[0;34m[\u001b[0m\u001b[0;36m0\u001b[0m\u001b[0;34m]\u001b[0m\u001b[0;34m[\u001b[0m\u001b[0;36m0\u001b[0m\u001b[0;34m]\u001b[0m\u001b[0;34m[\u001b[0m\u001b[0;36m0\u001b[0m\u001b[0;34m]\u001b[0m\u001b[0;34m\u001b[0m\u001b[0;34m\u001b[0m\u001b[0m\n\u001b[1;32m     13\u001b[0m     \u001b[0;32mreturn\u001b[0m \u001b[0mresult\u001b[0m\u001b[0;34m\u001b[0m\u001b[0;34m\u001b[0m\u001b[0m\n",
            "\u001b[0;32m/usr/local/lib/python3.10/dist-packages/requests/api.py\u001b[0m in \u001b[0;36mget\u001b[0;34m(url, params, **kwargs)\u001b[0m\n\u001b[1;32m     71\u001b[0m     \"\"\"\n\u001b[1;32m     72\u001b[0m \u001b[0;34m\u001b[0m\u001b[0m\n\u001b[0;32m---> 73\u001b[0;31m     \u001b[0;32mreturn\u001b[0m \u001b[0mrequest\u001b[0m\u001b[0;34m(\u001b[0m\u001b[0;34m\"get\"\u001b[0m\u001b[0;34m,\u001b[0m \u001b[0murl\u001b[0m\u001b[0;34m,\u001b[0m \u001b[0mparams\u001b[0m\u001b[0;34m=\u001b[0m\u001b[0mparams\u001b[0m\u001b[0;34m,\u001b[0m \u001b[0;34m**\u001b[0m\u001b[0mkwargs\u001b[0m\u001b[0;34m)\u001b[0m\u001b[0;34m\u001b[0m\u001b[0;34m\u001b[0m\u001b[0m\n\u001b[0m\u001b[1;32m     74\u001b[0m \u001b[0;34m\u001b[0m\u001b[0m\n\u001b[1;32m     75\u001b[0m \u001b[0;34m\u001b[0m\u001b[0m\n",
            "\u001b[0;32m/usr/local/lib/python3.10/dist-packages/requests/api.py\u001b[0m in \u001b[0;36mrequest\u001b[0;34m(method, url, **kwargs)\u001b[0m\n\u001b[1;32m     57\u001b[0m     \u001b[0;31m# cases, and look like a memory leak in others.\u001b[0m\u001b[0;34m\u001b[0m\u001b[0;34m\u001b[0m\u001b[0m\n\u001b[1;32m     58\u001b[0m     \u001b[0;32mwith\u001b[0m \u001b[0msessions\u001b[0m\u001b[0;34m.\u001b[0m\u001b[0mSession\u001b[0m\u001b[0;34m(\u001b[0m\u001b[0;34m)\u001b[0m \u001b[0;32mas\u001b[0m \u001b[0msession\u001b[0m\u001b[0;34m:\u001b[0m\u001b[0;34m\u001b[0m\u001b[0;34m\u001b[0m\u001b[0m\n\u001b[0;32m---> 59\u001b[0;31m         \u001b[0;32mreturn\u001b[0m \u001b[0msession\u001b[0m\u001b[0;34m.\u001b[0m\u001b[0mrequest\u001b[0m\u001b[0;34m(\u001b[0m\u001b[0mmethod\u001b[0m\u001b[0;34m=\u001b[0m\u001b[0mmethod\u001b[0m\u001b[0;34m,\u001b[0m \u001b[0murl\u001b[0m\u001b[0;34m=\u001b[0m\u001b[0murl\u001b[0m\u001b[0;34m,\u001b[0m \u001b[0;34m**\u001b[0m\u001b[0mkwargs\u001b[0m\u001b[0;34m)\u001b[0m\u001b[0;34m\u001b[0m\u001b[0;34m\u001b[0m\u001b[0m\n\u001b[0m\u001b[1;32m     60\u001b[0m \u001b[0;34m\u001b[0m\u001b[0m\n\u001b[1;32m     61\u001b[0m \u001b[0;34m\u001b[0m\u001b[0m\n",
            "\u001b[0;32m/usr/local/lib/python3.10/dist-packages/requests/sessions.py\u001b[0m in \u001b[0;36mrequest\u001b[0;34m(self, method, url, params, data, headers, cookies, files, auth, timeout, allow_redirects, proxies, hooks, stream, verify, cert, json)\u001b[0m\n\u001b[1;32m    587\u001b[0m         }\n\u001b[1;32m    588\u001b[0m         \u001b[0msend_kwargs\u001b[0m\u001b[0;34m.\u001b[0m\u001b[0mupdate\u001b[0m\u001b[0;34m(\u001b[0m\u001b[0msettings\u001b[0m\u001b[0;34m)\u001b[0m\u001b[0;34m\u001b[0m\u001b[0;34m\u001b[0m\u001b[0m\n\u001b[0;32m--> 589\u001b[0;31m         \u001b[0mresp\u001b[0m \u001b[0;34m=\u001b[0m \u001b[0mself\u001b[0m\u001b[0;34m.\u001b[0m\u001b[0msend\u001b[0m\u001b[0;34m(\u001b[0m\u001b[0mprep\u001b[0m\u001b[0;34m,\u001b[0m \u001b[0;34m**\u001b[0m\u001b[0msend_kwargs\u001b[0m\u001b[0;34m)\u001b[0m\u001b[0;34m\u001b[0m\u001b[0;34m\u001b[0m\u001b[0m\n\u001b[0m\u001b[1;32m    590\u001b[0m \u001b[0;34m\u001b[0m\u001b[0m\n\u001b[1;32m    591\u001b[0m         \u001b[0;32mreturn\u001b[0m \u001b[0mresp\u001b[0m\u001b[0;34m\u001b[0m\u001b[0;34m\u001b[0m\u001b[0m\n",
            "\u001b[0;32m/usr/local/lib/python3.10/dist-packages/requests/sessions.py\u001b[0m in \u001b[0;36msend\u001b[0;34m(self, request, **kwargs)\u001b[0m\n\u001b[1;32m    701\u001b[0m \u001b[0;34m\u001b[0m\u001b[0m\n\u001b[1;32m    702\u001b[0m         \u001b[0;31m# Send the request\u001b[0m\u001b[0;34m\u001b[0m\u001b[0;34m\u001b[0m\u001b[0m\n\u001b[0;32m--> 703\u001b[0;31m         \u001b[0mr\u001b[0m \u001b[0;34m=\u001b[0m \u001b[0madapter\u001b[0m\u001b[0;34m.\u001b[0m\u001b[0msend\u001b[0m\u001b[0;34m(\u001b[0m\u001b[0mrequest\u001b[0m\u001b[0;34m,\u001b[0m \u001b[0;34m**\u001b[0m\u001b[0mkwargs\u001b[0m\u001b[0;34m)\u001b[0m\u001b[0;34m\u001b[0m\u001b[0;34m\u001b[0m\u001b[0m\n\u001b[0m\u001b[1;32m    704\u001b[0m \u001b[0;34m\u001b[0m\u001b[0m\n\u001b[1;32m    705\u001b[0m         \u001b[0;31m# Total elapsed time of the request (approximately)\u001b[0m\u001b[0;34m\u001b[0m\u001b[0;34m\u001b[0m\u001b[0m\n",
            "\u001b[0;32m/usr/local/lib/python3.10/dist-packages/requests/adapters.py\u001b[0m in \u001b[0;36msend\u001b[0;34m(self, request, stream, timeout, verify, cert, proxies)\u001b[0m\n\u001b[1;32m    665\u001b[0m \u001b[0;34m\u001b[0m\u001b[0m\n\u001b[1;32m    666\u001b[0m         \u001b[0;32mtry\u001b[0m\u001b[0;34m:\u001b[0m\u001b[0;34m\u001b[0m\u001b[0;34m\u001b[0m\u001b[0m\n\u001b[0;32m--> 667\u001b[0;31m             resp = conn.urlopen(\n\u001b[0m\u001b[1;32m    668\u001b[0m                 \u001b[0mmethod\u001b[0m\u001b[0;34m=\u001b[0m\u001b[0mrequest\u001b[0m\u001b[0;34m.\u001b[0m\u001b[0mmethod\u001b[0m\u001b[0;34m,\u001b[0m\u001b[0;34m\u001b[0m\u001b[0;34m\u001b[0m\u001b[0m\n\u001b[1;32m    669\u001b[0m                 \u001b[0murl\u001b[0m\u001b[0;34m=\u001b[0m\u001b[0murl\u001b[0m\u001b[0;34m,\u001b[0m\u001b[0;34m\u001b[0m\u001b[0;34m\u001b[0m\u001b[0m\n",
            "\u001b[0;32m/usr/local/lib/python3.10/dist-packages/urllib3/connectionpool.py\u001b[0m in \u001b[0;36murlopen\u001b[0;34m(self, method, url, body, headers, retries, redirect, assert_same_host, timeout, pool_timeout, release_conn, chunked, body_pos, preload_content, decode_content, **response_kw)\u001b[0m\n\u001b[1;32m    787\u001b[0m \u001b[0;34m\u001b[0m\u001b[0m\n\u001b[1;32m    788\u001b[0m             \u001b[0;31m# Make the request on the HTTPConnection object\u001b[0m\u001b[0;34m\u001b[0m\u001b[0;34m\u001b[0m\u001b[0m\n\u001b[0;32m--> 789\u001b[0;31m             response = self._make_request(\n\u001b[0m\u001b[1;32m    790\u001b[0m                 \u001b[0mconn\u001b[0m\u001b[0;34m,\u001b[0m\u001b[0;34m\u001b[0m\u001b[0;34m\u001b[0m\u001b[0m\n\u001b[1;32m    791\u001b[0m                 \u001b[0mmethod\u001b[0m\u001b[0;34m,\u001b[0m\u001b[0;34m\u001b[0m\u001b[0;34m\u001b[0m\u001b[0m\n",
            "\u001b[0;32m/usr/local/lib/python3.10/dist-packages/urllib3/connectionpool.py\u001b[0m in \u001b[0;36m_make_request\u001b[0;34m(self, conn, method, url, body, headers, retries, timeout, chunked, response_conn, preload_content, decode_content, enforce_content_length)\u001b[0m\n\u001b[1;32m    534\u001b[0m         \u001b[0;31m# Receive the response from the server\u001b[0m\u001b[0;34m\u001b[0m\u001b[0;34m\u001b[0m\u001b[0m\n\u001b[1;32m    535\u001b[0m         \u001b[0;32mtry\u001b[0m\u001b[0;34m:\u001b[0m\u001b[0;34m\u001b[0m\u001b[0;34m\u001b[0m\u001b[0m\n\u001b[0;32m--> 536\u001b[0;31m             \u001b[0mresponse\u001b[0m \u001b[0;34m=\u001b[0m \u001b[0mconn\u001b[0m\u001b[0;34m.\u001b[0m\u001b[0mgetresponse\u001b[0m\u001b[0;34m(\u001b[0m\u001b[0;34m)\u001b[0m\u001b[0;34m\u001b[0m\u001b[0;34m\u001b[0m\u001b[0m\n\u001b[0m\u001b[1;32m    537\u001b[0m         \u001b[0;32mexcept\u001b[0m \u001b[0;34m(\u001b[0m\u001b[0mBaseSSLError\u001b[0m\u001b[0;34m,\u001b[0m \u001b[0mOSError\u001b[0m\u001b[0;34m)\u001b[0m \u001b[0;32mas\u001b[0m \u001b[0me\u001b[0m\u001b[0;34m:\u001b[0m\u001b[0;34m\u001b[0m\u001b[0;34m\u001b[0m\u001b[0m\n\u001b[1;32m    538\u001b[0m             \u001b[0mself\u001b[0m\u001b[0;34m.\u001b[0m\u001b[0m_raise_timeout\u001b[0m\u001b[0;34m(\u001b[0m\u001b[0merr\u001b[0m\u001b[0;34m=\u001b[0m\u001b[0me\u001b[0m\u001b[0;34m,\u001b[0m \u001b[0murl\u001b[0m\u001b[0;34m=\u001b[0m\u001b[0murl\u001b[0m\u001b[0;34m,\u001b[0m \u001b[0mtimeout_value\u001b[0m\u001b[0;34m=\u001b[0m\u001b[0mread_timeout\u001b[0m\u001b[0;34m)\u001b[0m\u001b[0;34m\u001b[0m\u001b[0;34m\u001b[0m\u001b[0m\n",
            "\u001b[0;32m/usr/local/lib/python3.10/dist-packages/urllib3/connection.py\u001b[0m in \u001b[0;36mgetresponse\u001b[0;34m(self)\u001b[0m\n\u001b[1;32m    505\u001b[0m \u001b[0;34m\u001b[0m\u001b[0m\n\u001b[1;32m    506\u001b[0m         \u001b[0;31m# Get the response from http.client.HTTPConnection\u001b[0m\u001b[0;34m\u001b[0m\u001b[0;34m\u001b[0m\u001b[0m\n\u001b[0;32m--> 507\u001b[0;31m         \u001b[0mhttplib_response\u001b[0m \u001b[0;34m=\u001b[0m \u001b[0msuper\u001b[0m\u001b[0;34m(\u001b[0m\u001b[0;34m)\u001b[0m\u001b[0;34m.\u001b[0m\u001b[0mgetresponse\u001b[0m\u001b[0;34m(\u001b[0m\u001b[0;34m)\u001b[0m\u001b[0;34m\u001b[0m\u001b[0;34m\u001b[0m\u001b[0m\n\u001b[0m\u001b[1;32m    508\u001b[0m \u001b[0;34m\u001b[0m\u001b[0m\n\u001b[1;32m    509\u001b[0m         \u001b[0;32mtry\u001b[0m\u001b[0;34m:\u001b[0m\u001b[0;34m\u001b[0m\u001b[0;34m\u001b[0m\u001b[0m\n",
            "\u001b[0;32m/usr/lib/python3.10/http/client.py\u001b[0m in \u001b[0;36mgetresponse\u001b[0;34m(self)\u001b[0m\n\u001b[1;32m   1373\u001b[0m         \u001b[0;32mtry\u001b[0m\u001b[0;34m:\u001b[0m\u001b[0;34m\u001b[0m\u001b[0;34m\u001b[0m\u001b[0m\n\u001b[1;32m   1374\u001b[0m             \u001b[0;32mtry\u001b[0m\u001b[0;34m:\u001b[0m\u001b[0;34m\u001b[0m\u001b[0;34m\u001b[0m\u001b[0m\n\u001b[0;32m-> 1375\u001b[0;31m                 \u001b[0mresponse\u001b[0m\u001b[0;34m.\u001b[0m\u001b[0mbegin\u001b[0m\u001b[0;34m(\u001b[0m\u001b[0;34m)\u001b[0m\u001b[0;34m\u001b[0m\u001b[0;34m\u001b[0m\u001b[0m\n\u001b[0m\u001b[1;32m   1376\u001b[0m             \u001b[0;32mexcept\u001b[0m \u001b[0mConnectionError\u001b[0m\u001b[0;34m:\u001b[0m\u001b[0;34m\u001b[0m\u001b[0;34m\u001b[0m\u001b[0m\n\u001b[1;32m   1377\u001b[0m                 \u001b[0mself\u001b[0m\u001b[0;34m.\u001b[0m\u001b[0mclose\u001b[0m\u001b[0;34m(\u001b[0m\u001b[0;34m)\u001b[0m\u001b[0;34m\u001b[0m\u001b[0;34m\u001b[0m\u001b[0m\n",
            "\u001b[0;32m/usr/lib/python3.10/http/client.py\u001b[0m in \u001b[0;36mbegin\u001b[0;34m(self)\u001b[0m\n\u001b[1;32m    316\u001b[0m         \u001b[0;31m# read until we get a non-100 response\u001b[0m\u001b[0;34m\u001b[0m\u001b[0;34m\u001b[0m\u001b[0m\n\u001b[1;32m    317\u001b[0m         \u001b[0;32mwhile\u001b[0m \u001b[0;32mTrue\u001b[0m\u001b[0;34m:\u001b[0m\u001b[0;34m\u001b[0m\u001b[0;34m\u001b[0m\u001b[0m\n\u001b[0;32m--> 318\u001b[0;31m             \u001b[0mversion\u001b[0m\u001b[0;34m,\u001b[0m \u001b[0mstatus\u001b[0m\u001b[0;34m,\u001b[0m \u001b[0mreason\u001b[0m \u001b[0;34m=\u001b[0m \u001b[0mself\u001b[0m\u001b[0;34m.\u001b[0m\u001b[0m_read_status\u001b[0m\u001b[0;34m(\u001b[0m\u001b[0;34m)\u001b[0m\u001b[0;34m\u001b[0m\u001b[0;34m\u001b[0m\u001b[0m\n\u001b[0m\u001b[1;32m    319\u001b[0m             \u001b[0;32mif\u001b[0m \u001b[0mstatus\u001b[0m \u001b[0;34m!=\u001b[0m \u001b[0mCONTINUE\u001b[0m\u001b[0;34m:\u001b[0m\u001b[0;34m\u001b[0m\u001b[0;34m\u001b[0m\u001b[0m\n\u001b[1;32m    320\u001b[0m                 \u001b[0;32mbreak\u001b[0m\u001b[0;34m\u001b[0m\u001b[0;34m\u001b[0m\u001b[0m\n",
            "\u001b[0;32m/usr/lib/python3.10/http/client.py\u001b[0m in \u001b[0;36m_read_status\u001b[0;34m(self)\u001b[0m\n\u001b[1;32m    277\u001b[0m \u001b[0;34m\u001b[0m\u001b[0m\n\u001b[1;32m    278\u001b[0m     \u001b[0;32mdef\u001b[0m \u001b[0m_read_status\u001b[0m\u001b[0;34m(\u001b[0m\u001b[0mself\u001b[0m\u001b[0;34m)\u001b[0m\u001b[0;34m:\u001b[0m\u001b[0;34m\u001b[0m\u001b[0;34m\u001b[0m\u001b[0m\n\u001b[0;32m--> 279\u001b[0;31m         \u001b[0mline\u001b[0m \u001b[0;34m=\u001b[0m \u001b[0mstr\u001b[0m\u001b[0;34m(\u001b[0m\u001b[0mself\u001b[0m\u001b[0;34m.\u001b[0m\u001b[0mfp\u001b[0m\u001b[0;34m.\u001b[0m\u001b[0mreadline\u001b[0m\u001b[0;34m(\u001b[0m\u001b[0m_MAXLINE\u001b[0m \u001b[0;34m+\u001b[0m \u001b[0;36m1\u001b[0m\u001b[0;34m)\u001b[0m\u001b[0;34m,\u001b[0m \u001b[0;34m\"iso-8859-1\"\u001b[0m\u001b[0;34m)\u001b[0m\u001b[0;34m\u001b[0m\u001b[0;34m\u001b[0m\u001b[0m\n\u001b[0m\u001b[1;32m    280\u001b[0m         \u001b[0;32mif\u001b[0m \u001b[0mlen\u001b[0m\u001b[0;34m(\u001b[0m\u001b[0mline\u001b[0m\u001b[0;34m)\u001b[0m \u001b[0;34m>\u001b[0m \u001b[0m_MAXLINE\u001b[0m\u001b[0;34m:\u001b[0m\u001b[0;34m\u001b[0m\u001b[0;34m\u001b[0m\u001b[0m\n\u001b[1;32m    281\u001b[0m             \u001b[0;32mraise\u001b[0m \u001b[0mLineTooLong\u001b[0m\u001b[0;34m(\u001b[0m\u001b[0;34m\"status line\"\u001b[0m\u001b[0;34m)\u001b[0m\u001b[0;34m\u001b[0m\u001b[0;34m\u001b[0m\u001b[0m\n",
            "\u001b[0;32m/usr/lib/python3.10/socket.py\u001b[0m in \u001b[0;36mreadinto\u001b[0;34m(self, b)\u001b[0m\n\u001b[1;32m    703\u001b[0m         \u001b[0;32mwhile\u001b[0m \u001b[0;32mTrue\u001b[0m\u001b[0;34m:\u001b[0m\u001b[0;34m\u001b[0m\u001b[0;34m\u001b[0m\u001b[0m\n\u001b[1;32m    704\u001b[0m             \u001b[0;32mtry\u001b[0m\u001b[0;34m:\u001b[0m\u001b[0;34m\u001b[0m\u001b[0;34m\u001b[0m\u001b[0m\n\u001b[0;32m--> 705\u001b[0;31m                 \u001b[0;32mreturn\u001b[0m \u001b[0mself\u001b[0m\u001b[0;34m.\u001b[0m\u001b[0m_sock\u001b[0m\u001b[0;34m.\u001b[0m\u001b[0mrecv_into\u001b[0m\u001b[0;34m(\u001b[0m\u001b[0mb\u001b[0m\u001b[0;34m)\u001b[0m\u001b[0;34m\u001b[0m\u001b[0;34m\u001b[0m\u001b[0m\n\u001b[0m\u001b[1;32m    706\u001b[0m             \u001b[0;32mexcept\u001b[0m \u001b[0mtimeout\u001b[0m\u001b[0;34m:\u001b[0m\u001b[0;34m\u001b[0m\u001b[0;34m\u001b[0m\u001b[0m\n\u001b[1;32m    707\u001b[0m                 \u001b[0mself\u001b[0m\u001b[0;34m.\u001b[0m\u001b[0m_timeout_occurred\u001b[0m \u001b[0;34m=\u001b[0m \u001b[0;32mTrue\u001b[0m\u001b[0;34m\u001b[0m\u001b[0;34m\u001b[0m\u001b[0m\n",
            "\u001b[0;32m/usr/lib/python3.10/ssl.py\u001b[0m in \u001b[0;36mrecv_into\u001b[0;34m(self, buffer, nbytes, flags)\u001b[0m\n\u001b[1;32m   1301\u001b[0m                   \u001b[0;34m\"non-zero flags not allowed in calls to recv_into() on %s\"\u001b[0m \u001b[0;34m%\u001b[0m\u001b[0;34m\u001b[0m\u001b[0;34m\u001b[0m\u001b[0m\n\u001b[1;32m   1302\u001b[0m                   self.__class__)\n\u001b[0;32m-> 1303\u001b[0;31m             \u001b[0;32mreturn\u001b[0m \u001b[0mself\u001b[0m\u001b[0;34m.\u001b[0m\u001b[0mread\u001b[0m\u001b[0;34m(\u001b[0m\u001b[0mnbytes\u001b[0m\u001b[0;34m,\u001b[0m \u001b[0mbuffer\u001b[0m\u001b[0;34m)\u001b[0m\u001b[0;34m\u001b[0m\u001b[0;34m\u001b[0m\u001b[0m\n\u001b[0m\u001b[1;32m   1304\u001b[0m         \u001b[0;32melse\u001b[0m\u001b[0;34m:\u001b[0m\u001b[0;34m\u001b[0m\u001b[0;34m\u001b[0m\u001b[0m\n\u001b[1;32m   1305\u001b[0m             \u001b[0;32mreturn\u001b[0m \u001b[0msuper\u001b[0m\u001b[0;34m(\u001b[0m\u001b[0;34m)\u001b[0m\u001b[0;34m.\u001b[0m\u001b[0mrecv_into\u001b[0m\u001b[0;34m(\u001b[0m\u001b[0mbuffer\u001b[0m\u001b[0;34m,\u001b[0m \u001b[0mnbytes\u001b[0m\u001b[0;34m,\u001b[0m \u001b[0mflags\u001b[0m\u001b[0;34m)\u001b[0m\u001b[0;34m\u001b[0m\u001b[0;34m\u001b[0m\u001b[0m\n",
            "\u001b[0;32m/usr/lib/python3.10/ssl.py\u001b[0m in \u001b[0;36mread\u001b[0;34m(self, len, buffer)\u001b[0m\n\u001b[1;32m   1157\u001b[0m         \u001b[0;32mtry\u001b[0m\u001b[0;34m:\u001b[0m\u001b[0;34m\u001b[0m\u001b[0;34m\u001b[0m\u001b[0m\n\u001b[1;32m   1158\u001b[0m             \u001b[0;32mif\u001b[0m \u001b[0mbuffer\u001b[0m \u001b[0;32mis\u001b[0m \u001b[0;32mnot\u001b[0m \u001b[0;32mNone\u001b[0m\u001b[0;34m:\u001b[0m\u001b[0;34m\u001b[0m\u001b[0;34m\u001b[0m\u001b[0m\n\u001b[0;32m-> 1159\u001b[0;31m                 \u001b[0;32mreturn\u001b[0m \u001b[0mself\u001b[0m\u001b[0;34m.\u001b[0m\u001b[0m_sslobj\u001b[0m\u001b[0;34m.\u001b[0m\u001b[0mread\u001b[0m\u001b[0;34m(\u001b[0m\u001b[0mlen\u001b[0m\u001b[0;34m,\u001b[0m \u001b[0mbuffer\u001b[0m\u001b[0;34m)\u001b[0m\u001b[0;34m\u001b[0m\u001b[0;34m\u001b[0m\u001b[0m\n\u001b[0m\u001b[1;32m   1160\u001b[0m             \u001b[0;32melse\u001b[0m\u001b[0;34m:\u001b[0m\u001b[0;34m\u001b[0m\u001b[0;34m\u001b[0m\u001b[0m\n\u001b[1;32m   1161\u001b[0m                 \u001b[0;32mreturn\u001b[0m \u001b[0mself\u001b[0m\u001b[0;34m.\u001b[0m\u001b[0m_sslobj\u001b[0m\u001b[0;34m.\u001b[0m\u001b[0mread\u001b[0m\u001b[0;34m(\u001b[0m\u001b[0mlen\u001b[0m\u001b[0;34m)\u001b[0m\u001b[0;34m\u001b[0m\u001b[0;34m\u001b[0m\u001b[0m\n",
            "\u001b[0;31mKeyboardInterrupt\u001b[0m: "
          ]
        }
      ]
    },
    {
      "cell_type": "code",
      "source": [
        "#ko_remains = pd.DataFrame(ko_remains)\n",
        "#번역할떄"
      ],
      "metadata": {
        "id": "8nOIH4TrQyQm",
        "colab": {
          "base_uri": "https://localhost:8080/"
        },
        "outputId": "40557b0b-44ec-45a6-f8ff-6ceb93512088"
      },
      "execution_count": null,
      "outputs": [
        {
          "output_type": "stream",
          "name": "stderr",
          "text": [
            "/usr/local/lib/python3.10/dist-packages/ipykernel/ipkernel.py:283: DeprecationWarning: `should_run_async` will not call `transform_cell` automatically in the future. Please pass the result to `transformed_cell` argument and any exception that happen during thetransform in `preprocessing_exc_tuple` in IPython 7.17 and above.\n",
            "  and should_run_async(code)\n"
          ]
        }
      ]
    },
    {
      "cell_type": "code",
      "source": [
        "#형태소 분석하기\n",
        "!pip install konlpy"
      ],
      "metadata": {
        "colab": {
          "base_uri": "https://localhost:8080/"
        },
        "id": "aVAopgiGQ2BT",
        "outputId": "4d32cb64-22f9-411a-8c8c-793696c933d5"
      },
      "execution_count": null,
      "outputs": [
        {
          "output_type": "stream",
          "name": "stderr",
          "text": [
            "/usr/local/lib/python3.10/dist-packages/ipykernel/ipkernel.py:283: DeprecationWarning: `should_run_async` will not call `transform_cell` automatically in the future. Please pass the result to `transformed_cell` argument and any exception that happen during thetransform in `preprocessing_exc_tuple` in IPython 7.17 and above.\n",
            "  and should_run_async(code)\n"
          ]
        },
        {
          "output_type": "stream",
          "name": "stdout",
          "text": [
            "Requirement already satisfied: konlpy in /usr/local/lib/python3.10/dist-packages (0.6.0)\n",
            "Requirement already satisfied: JPype1>=0.7.0 in /usr/local/lib/python3.10/dist-packages (from konlpy) (1.5.1)\n",
            "Requirement already satisfied: lxml>=4.1.0 in /usr/local/lib/python3.10/dist-packages (from konlpy) (5.3.0)\n",
            "Requirement already satisfied: numpy>=1.6 in /usr/local/lib/python3.10/dist-packages (from konlpy) (1.26.4)\n",
            "Requirement already satisfied: packaging in /usr/local/lib/python3.10/dist-packages (from JPype1>=0.7.0->konlpy) (24.2)\n"
          ]
        }
      ]
    },
    {
      "cell_type": "code",
      "source": [
        "ko_remains=remains\n",
        "# 번역하지 않을때만 사용함"
      ],
      "metadata": {
        "id": "dofQELcgjBAV",
        "colab": {
          "base_uri": "https://localhost:8080/"
        },
        "outputId": "53d275f3-41c7-4a55-bbf3-ea7e8082be53"
      },
      "execution_count": null,
      "outputs": [
        {
          "output_type": "stream",
          "name": "stderr",
          "text": [
            "/usr/local/lib/python3.10/dist-packages/ipykernel/ipkernel.py:283: DeprecationWarning: `should_run_async` will not call `transform_cell` automatically in the future. Please pass the result to `transformed_cell` argument and any exception that happen during thetransform in `preprocessing_exc_tuple` in IPython 7.17 and above.\n",
            "  and should_run_async(code)\n"
          ]
        }
      ]
    },
    {
      "cell_type": "code",
      "source": [
        "#konlpy 중에서 oak tokenize 이름임\n",
        "from konlpy.tag import Okt\n",
        "target_column = ['Q1', 'Q2', 'Q3', \"reasons\"]\n",
        "tagger = Okt()\n",
        "for col in target_column:\n",
        "    ko_remains[col] = ko_remains[col].apply(lambda x: tagger.nouns(x))  #명사만 추출함"
      ],
      "metadata": {
        "id": "FCDtJIYjQ6TU",
        "colab": {
          "base_uri": "https://localhost:8080/"
        },
        "outputId": "e08bbc52-750f-4f6c-cc51-4fd34ddc1c7e"
      },
      "execution_count": null,
      "outputs": [
        {
          "output_type": "stream",
          "name": "stderr",
          "text": [
            "/usr/local/lib/python3.10/dist-packages/ipykernel/ipkernel.py:283: DeprecationWarning: `should_run_async` will not call `transform_cell` automatically in the future. Please pass the result to `transformed_cell` argument and any exception that happen during thetransform in `preprocessing_exc_tuple` in IPython 7.17 and above.\n",
            "  and should_run_async(code)\n",
            "<ipython-input-173-91bbcb7647f5>:6: SettingWithCopyWarning: \n",
            "A value is trying to be set on a copy of a slice from a DataFrame.\n",
            "Try using .loc[row_indexer,col_indexer] = value instead\n",
            "\n",
            "See the caveats in the documentation: https://pandas.pydata.org/pandas-docs/stable/user_guide/indexing.html#returning-a-view-versus-a-copy\n",
            "  ko_remains[col] = ko_remains[col].apply(lambda x: tagger.nouns(x))  #명사만 추출함\n"
          ]
        }
      ]
    },
    {
      "cell_type": "code",
      "source": [
        "ko_remains"
      ],
      "metadata": {
        "colab": {
          "base_uri": "https://localhost:8080/",
          "height": 473
        },
        "id": "ynSVsQmvRBH6",
        "outputId": "b05d49e0-3527-43fe-a014-bc3089e101b6"
      },
      "execution_count": null,
      "outputs": [
        {
          "output_type": "stream",
          "name": "stderr",
          "text": [
            "/usr/local/lib/python3.10/dist-packages/ipykernel/ipkernel.py:283: DeprecationWarning: `should_run_async` will not call `transform_cell` automatically in the future. Please pass the result to `transformed_cell` argument and any exception that happen during thetransform in `preprocessing_exc_tuple` in IPython 7.17 and above.\n",
            "  and should_run_async(code)\n"
          ]
        },
        {
          "output_type": "execute_result",
          "data": {
            "text/plain": [
              "    grade   level                Q1            Q2                      Q3  \\\n",
              "0      5.0      2          [식감, 대해]      [음식, 느낌]                 [맛, 가요]   \n",
              "1      3.0      3  [이미지, 묘사, 점, 묘사]     [표현, 하나요]  [맛, 재료, 표현, 수, 단어, 무엇]   \n",
              "2      2.0      2       [향, 대해, 표현]   [맛, 대해, 생각]         [시각, 표현, 묘사, 수]   \n",
              "4      3.0      3       [특징, 설명, 수]   [냄새, 묘사, 수]                     [맛]   \n",
              "5      2.0      4      [특징, 대해, 설명]          [느낌]                 [맛, 가요]   \n",
              "..     ...    ...               ...           ...                     ...   \n",
              "85     3.0      3              [내용]          [내용]                    [내용]   \n",
              "86     5.0      4  [맛, 냄새, 묘사, 하나요]  [음식, 묘사, 가요]                [시각, 표현]   \n",
              "87     3.0      4        [내, 글, 전개]      [방법, 구조]                     [맛]   \n",
              "88     2.0      3                []  [감정, 대해, 표현]                      []   \n",
              "89     3.0      3          [질감, 묘사]      [냄새, 표현]                 [맛, 묘사]   \n",
              "\n",
              "    satisfaction                 reasons  \n",
              "0            9.0        [감각, 부분, 표현, 설명]  \n",
              "1            8.0            [다소, 형식, 답변]  \n",
              "2            NaN                      []  \n",
              "4            9.0            [답변, 상세, 표현]  \n",
              "5            NaN                      []  \n",
              "..           ...                     ...  \n",
              "85           9.0         [양, 데이터, 수, 주의]  \n",
              "86           9.0                      []  \n",
              "87           9.0                [사용, 의존]  \n",
              "88           9.0         [내, 답변, 을해, 주어]  \n",
              "89          10.0  [내, 생각, 표현, 생각, 더, 내용]  \n",
              "\n",
              "[87 rows x 7 columns]"
            ],
            "text/html": [
              "\n",
              "  <div id=\"df-bc25575e-512e-447f-8469-d3a26cd8103c\" class=\"colab-df-container\">\n",
              "    <div>\n",
              "<style scoped>\n",
              "    .dataframe tbody tr th:only-of-type {\n",
              "        vertical-align: middle;\n",
              "    }\n",
              "\n",
              "    .dataframe tbody tr th {\n",
              "        vertical-align: top;\n",
              "    }\n",
              "\n",
              "    .dataframe thead th {\n",
              "        text-align: right;\n",
              "    }\n",
              "</style>\n",
              "<table border=\"1\" class=\"dataframe\">\n",
              "  <thead>\n",
              "    <tr style=\"text-align: right;\">\n",
              "      <th></th>\n",
              "      <th>grade</th>\n",
              "      <th>level</th>\n",
              "      <th>Q1</th>\n",
              "      <th>Q2</th>\n",
              "      <th>Q3</th>\n",
              "      <th>satisfaction</th>\n",
              "      <th>reasons</th>\n",
              "    </tr>\n",
              "  </thead>\n",
              "  <tbody>\n",
              "    <tr>\n",
              "      <th>0</th>\n",
              "      <td>5.0</td>\n",
              "      <td>2</td>\n",
              "      <td>[식감, 대해]</td>\n",
              "      <td>[음식, 느낌]</td>\n",
              "      <td>[맛, 가요]</td>\n",
              "      <td>9.0</td>\n",
              "      <td>[감각, 부분, 표현, 설명]</td>\n",
              "    </tr>\n",
              "    <tr>\n",
              "      <th>1</th>\n",
              "      <td>3.0</td>\n",
              "      <td>3</td>\n",
              "      <td>[이미지, 묘사, 점, 묘사]</td>\n",
              "      <td>[표현, 하나요]</td>\n",
              "      <td>[맛, 재료, 표현, 수, 단어, 무엇]</td>\n",
              "      <td>8.0</td>\n",
              "      <td>[다소, 형식, 답변]</td>\n",
              "    </tr>\n",
              "    <tr>\n",
              "      <th>2</th>\n",
              "      <td>2.0</td>\n",
              "      <td>2</td>\n",
              "      <td>[향, 대해, 표현]</td>\n",
              "      <td>[맛, 대해, 생각]</td>\n",
              "      <td>[시각, 표현, 묘사, 수]</td>\n",
              "      <td>NaN</td>\n",
              "      <td>[]</td>\n",
              "    </tr>\n",
              "    <tr>\n",
              "      <th>4</th>\n",
              "      <td>3.0</td>\n",
              "      <td>3</td>\n",
              "      <td>[특징, 설명, 수]</td>\n",
              "      <td>[냄새, 묘사, 수]</td>\n",
              "      <td>[맛]</td>\n",
              "      <td>9.0</td>\n",
              "      <td>[답변, 상세, 표현]</td>\n",
              "    </tr>\n",
              "    <tr>\n",
              "      <th>5</th>\n",
              "      <td>2.0</td>\n",
              "      <td>4</td>\n",
              "      <td>[특징, 대해, 설명]</td>\n",
              "      <td>[느낌]</td>\n",
              "      <td>[맛, 가요]</td>\n",
              "      <td>NaN</td>\n",
              "      <td>[]</td>\n",
              "    </tr>\n",
              "    <tr>\n",
              "      <th>...</th>\n",
              "      <td>...</td>\n",
              "      <td>...</td>\n",
              "      <td>...</td>\n",
              "      <td>...</td>\n",
              "      <td>...</td>\n",
              "      <td>...</td>\n",
              "      <td>...</td>\n",
              "    </tr>\n",
              "    <tr>\n",
              "      <th>85</th>\n",
              "      <td>3.0</td>\n",
              "      <td>3</td>\n",
              "      <td>[내용]</td>\n",
              "      <td>[내용]</td>\n",
              "      <td>[내용]</td>\n",
              "      <td>9.0</td>\n",
              "      <td>[양, 데이터, 수, 주의]</td>\n",
              "    </tr>\n",
              "    <tr>\n",
              "      <th>86</th>\n",
              "      <td>5.0</td>\n",
              "      <td>4</td>\n",
              "      <td>[맛, 냄새, 묘사, 하나요]</td>\n",
              "      <td>[음식, 묘사, 가요]</td>\n",
              "      <td>[시각, 표현]</td>\n",
              "      <td>9.0</td>\n",
              "      <td>[]</td>\n",
              "    </tr>\n",
              "    <tr>\n",
              "      <th>87</th>\n",
              "      <td>3.0</td>\n",
              "      <td>4</td>\n",
              "      <td>[내, 글, 전개]</td>\n",
              "      <td>[방법, 구조]</td>\n",
              "      <td>[맛]</td>\n",
              "      <td>9.0</td>\n",
              "      <td>[사용, 의존]</td>\n",
              "    </tr>\n",
              "    <tr>\n",
              "      <th>88</th>\n",
              "      <td>2.0</td>\n",
              "      <td>3</td>\n",
              "      <td>[]</td>\n",
              "      <td>[감정, 대해, 표현]</td>\n",
              "      <td>[]</td>\n",
              "      <td>9.0</td>\n",
              "      <td>[내, 답변, 을해, 주어]</td>\n",
              "    </tr>\n",
              "    <tr>\n",
              "      <th>89</th>\n",
              "      <td>3.0</td>\n",
              "      <td>3</td>\n",
              "      <td>[질감, 묘사]</td>\n",
              "      <td>[냄새, 표현]</td>\n",
              "      <td>[맛, 묘사]</td>\n",
              "      <td>10.0</td>\n",
              "      <td>[내, 생각, 표현, 생각, 더, 내용]</td>\n",
              "    </tr>\n",
              "  </tbody>\n",
              "</table>\n",
              "<p>87 rows × 7 columns</p>\n",
              "</div>\n",
              "    <div class=\"colab-df-buttons\">\n",
              "\n",
              "  <div class=\"colab-df-container\">\n",
              "    <button class=\"colab-df-convert\" onclick=\"convertToInteractive('df-bc25575e-512e-447f-8469-d3a26cd8103c')\"\n",
              "            title=\"Convert this dataframe to an interactive table.\"\n",
              "            style=\"display:none;\">\n",
              "\n",
              "  <svg xmlns=\"http://www.w3.org/2000/svg\" height=\"24px\" viewBox=\"0 -960 960 960\">\n",
              "    <path d=\"M120-120v-720h720v720H120Zm60-500h600v-160H180v160Zm220 220h160v-160H400v160Zm0 220h160v-160H400v160ZM180-400h160v-160H180v160Zm440 0h160v-160H620v160ZM180-180h160v-160H180v160Zm440 0h160v-160H620v160Z\"/>\n",
              "  </svg>\n",
              "    </button>\n",
              "\n",
              "  <style>\n",
              "    .colab-df-container {\n",
              "      display:flex;\n",
              "      gap: 12px;\n",
              "    }\n",
              "\n",
              "    .colab-df-convert {\n",
              "      background-color: #E8F0FE;\n",
              "      border: none;\n",
              "      border-radius: 50%;\n",
              "      cursor: pointer;\n",
              "      display: none;\n",
              "      fill: #1967D2;\n",
              "      height: 32px;\n",
              "      padding: 0 0 0 0;\n",
              "      width: 32px;\n",
              "    }\n",
              "\n",
              "    .colab-df-convert:hover {\n",
              "      background-color: #E2EBFA;\n",
              "      box-shadow: 0px 1px 2px rgba(60, 64, 67, 0.3), 0px 1px 3px 1px rgba(60, 64, 67, 0.15);\n",
              "      fill: #174EA6;\n",
              "    }\n",
              "\n",
              "    .colab-df-buttons div {\n",
              "      margin-bottom: 4px;\n",
              "    }\n",
              "\n",
              "    [theme=dark] .colab-df-convert {\n",
              "      background-color: #3B4455;\n",
              "      fill: #D2E3FC;\n",
              "    }\n",
              "\n",
              "    [theme=dark] .colab-df-convert:hover {\n",
              "      background-color: #434B5C;\n",
              "      box-shadow: 0px 1px 3px 1px rgba(0, 0, 0, 0.15);\n",
              "      filter: drop-shadow(0px 1px 2px rgba(0, 0, 0, 0.3));\n",
              "      fill: #FFFFFF;\n",
              "    }\n",
              "  </style>\n",
              "\n",
              "    <script>\n",
              "      const buttonEl =\n",
              "        document.querySelector('#df-bc25575e-512e-447f-8469-d3a26cd8103c button.colab-df-convert');\n",
              "      buttonEl.style.display =\n",
              "        google.colab.kernel.accessAllowed ? 'block' : 'none';\n",
              "\n",
              "      async function convertToInteractive(key) {\n",
              "        const element = document.querySelector('#df-bc25575e-512e-447f-8469-d3a26cd8103c');\n",
              "        const dataTable =\n",
              "          await google.colab.kernel.invokeFunction('convertToInteractive',\n",
              "                                                    [key], {});\n",
              "        if (!dataTable) return;\n",
              "\n",
              "        const docLinkHtml = 'Like what you see? Visit the ' +\n",
              "          '<a target=\"_blank\" href=https://colab.research.google.com/notebooks/data_table.ipynb>data table notebook</a>'\n",
              "          + ' to learn more about interactive tables.';\n",
              "        element.innerHTML = '';\n",
              "        dataTable['output_type'] = 'display_data';\n",
              "        await google.colab.output.renderOutput(dataTable, element);\n",
              "        const docLink = document.createElement('div');\n",
              "        docLink.innerHTML = docLinkHtml;\n",
              "        element.appendChild(docLink);\n",
              "      }\n",
              "    </script>\n",
              "  </div>\n",
              "\n",
              "\n",
              "<div id=\"df-42ad3413-bcd4-4ced-8955-2dc1ac07bf31\">\n",
              "  <button class=\"colab-df-quickchart\" onclick=\"quickchart('df-42ad3413-bcd4-4ced-8955-2dc1ac07bf31')\"\n",
              "            title=\"Suggest charts\"\n",
              "            style=\"display:none;\">\n",
              "\n",
              "<svg xmlns=\"http://www.w3.org/2000/svg\" height=\"24px\"viewBox=\"0 0 24 24\"\n",
              "     width=\"24px\">\n",
              "    <g>\n",
              "        <path d=\"M19 3H5c-1.1 0-2 .9-2 2v14c0 1.1.9 2 2 2h14c1.1 0 2-.9 2-2V5c0-1.1-.9-2-2-2zM9 17H7v-7h2v7zm4 0h-2V7h2v10zm4 0h-2v-4h2v4z\"/>\n",
              "    </g>\n",
              "</svg>\n",
              "  </button>\n",
              "\n",
              "<style>\n",
              "  .colab-df-quickchart {\n",
              "      --bg-color: #E8F0FE;\n",
              "      --fill-color: #1967D2;\n",
              "      --hover-bg-color: #E2EBFA;\n",
              "      --hover-fill-color: #174EA6;\n",
              "      --disabled-fill-color: #AAA;\n",
              "      --disabled-bg-color: #DDD;\n",
              "  }\n",
              "\n",
              "  [theme=dark] .colab-df-quickchart {\n",
              "      --bg-color: #3B4455;\n",
              "      --fill-color: #D2E3FC;\n",
              "      --hover-bg-color: #434B5C;\n",
              "      --hover-fill-color: #FFFFFF;\n",
              "      --disabled-bg-color: #3B4455;\n",
              "      --disabled-fill-color: #666;\n",
              "  }\n",
              "\n",
              "  .colab-df-quickchart {\n",
              "    background-color: var(--bg-color);\n",
              "    border: none;\n",
              "    border-radius: 50%;\n",
              "    cursor: pointer;\n",
              "    display: none;\n",
              "    fill: var(--fill-color);\n",
              "    height: 32px;\n",
              "    padding: 0;\n",
              "    width: 32px;\n",
              "  }\n",
              "\n",
              "  .colab-df-quickchart:hover {\n",
              "    background-color: var(--hover-bg-color);\n",
              "    box-shadow: 0 1px 2px rgba(60, 64, 67, 0.3), 0 1px 3px 1px rgba(60, 64, 67, 0.15);\n",
              "    fill: var(--button-hover-fill-color);\n",
              "  }\n",
              "\n",
              "  .colab-df-quickchart-complete:disabled,\n",
              "  .colab-df-quickchart-complete:disabled:hover {\n",
              "    background-color: var(--disabled-bg-color);\n",
              "    fill: var(--disabled-fill-color);\n",
              "    box-shadow: none;\n",
              "  }\n",
              "\n",
              "  .colab-df-spinner {\n",
              "    border: 2px solid var(--fill-color);\n",
              "    border-color: transparent;\n",
              "    border-bottom-color: var(--fill-color);\n",
              "    animation:\n",
              "      spin 1s steps(1) infinite;\n",
              "  }\n",
              "\n",
              "  @keyframes spin {\n",
              "    0% {\n",
              "      border-color: transparent;\n",
              "      border-bottom-color: var(--fill-color);\n",
              "      border-left-color: var(--fill-color);\n",
              "    }\n",
              "    20% {\n",
              "      border-color: transparent;\n",
              "      border-left-color: var(--fill-color);\n",
              "      border-top-color: var(--fill-color);\n",
              "    }\n",
              "    30% {\n",
              "      border-color: transparent;\n",
              "      border-left-color: var(--fill-color);\n",
              "      border-top-color: var(--fill-color);\n",
              "      border-right-color: var(--fill-color);\n",
              "    }\n",
              "    40% {\n",
              "      border-color: transparent;\n",
              "      border-right-color: var(--fill-color);\n",
              "      border-top-color: var(--fill-color);\n",
              "    }\n",
              "    60% {\n",
              "      border-color: transparent;\n",
              "      border-right-color: var(--fill-color);\n",
              "    }\n",
              "    80% {\n",
              "      border-color: transparent;\n",
              "      border-right-color: var(--fill-color);\n",
              "      border-bottom-color: var(--fill-color);\n",
              "    }\n",
              "    90% {\n",
              "      border-color: transparent;\n",
              "      border-bottom-color: var(--fill-color);\n",
              "    }\n",
              "  }\n",
              "</style>\n",
              "\n",
              "  <script>\n",
              "    async function quickchart(key) {\n",
              "      const quickchartButtonEl =\n",
              "        document.querySelector('#' + key + ' button');\n",
              "      quickchartButtonEl.disabled = true;  // To prevent multiple clicks.\n",
              "      quickchartButtonEl.classList.add('colab-df-spinner');\n",
              "      try {\n",
              "        const charts = await google.colab.kernel.invokeFunction(\n",
              "            'suggestCharts', [key], {});\n",
              "      } catch (error) {\n",
              "        console.error('Error during call to suggestCharts:', error);\n",
              "      }\n",
              "      quickchartButtonEl.classList.remove('colab-df-spinner');\n",
              "      quickchartButtonEl.classList.add('colab-df-quickchart-complete');\n",
              "    }\n",
              "    (() => {\n",
              "      let quickchartButtonEl =\n",
              "        document.querySelector('#df-42ad3413-bcd4-4ced-8955-2dc1ac07bf31 button');\n",
              "      quickchartButtonEl.style.display =\n",
              "        google.colab.kernel.accessAllowed ? 'block' : 'none';\n",
              "    })();\n",
              "  </script>\n",
              "</div>\n",
              "\n",
              "  <div id=\"id_e7ea2c5d-2d53-40de-afb8-48410a6f4d41\">\n",
              "    <style>\n",
              "      .colab-df-generate {\n",
              "        background-color: #E8F0FE;\n",
              "        border: none;\n",
              "        border-radius: 50%;\n",
              "        cursor: pointer;\n",
              "        display: none;\n",
              "        fill: #1967D2;\n",
              "        height: 32px;\n",
              "        padding: 0 0 0 0;\n",
              "        width: 32px;\n",
              "      }\n",
              "\n",
              "      .colab-df-generate:hover {\n",
              "        background-color: #E2EBFA;\n",
              "        box-shadow: 0px 1px 2px rgba(60, 64, 67, 0.3), 0px 1px 3px 1px rgba(60, 64, 67, 0.15);\n",
              "        fill: #174EA6;\n",
              "      }\n",
              "\n",
              "      [theme=dark] .colab-df-generate {\n",
              "        background-color: #3B4455;\n",
              "        fill: #D2E3FC;\n",
              "      }\n",
              "\n",
              "      [theme=dark] .colab-df-generate:hover {\n",
              "        background-color: #434B5C;\n",
              "        box-shadow: 0px 1px 3px 1px rgba(0, 0, 0, 0.15);\n",
              "        filter: drop-shadow(0px 1px 2px rgba(0, 0, 0, 0.3));\n",
              "        fill: #FFFFFF;\n",
              "      }\n",
              "    </style>\n",
              "    <button class=\"colab-df-generate\" onclick=\"generateWithVariable('remains')\"\n",
              "            title=\"Generate code using this dataframe.\"\n",
              "            style=\"display:none;\">\n",
              "\n",
              "  <svg xmlns=\"http://www.w3.org/2000/svg\" height=\"24px\"viewBox=\"0 0 24 24\"\n",
              "       width=\"24px\">\n",
              "    <path d=\"M7,19H8.4L18.45,9,17,7.55,7,17.6ZM5,21V16.75L18.45,3.32a2,2,0,0,1,2.83,0l1.4,1.43a1.91,1.91,0,0,1,.58,1.4,1.91,1.91,0,0,1-.58,1.4L9.25,21ZM18.45,9,17,7.55Zm-12,3A5.31,5.31,0,0,0,4.9,8.1,5.31,5.31,0,0,0,1,6.5,5.31,5.31,0,0,0,4.9,4.9,5.31,5.31,0,0,0,6.5,1,5.31,5.31,0,0,0,8.1,4.9,5.31,5.31,0,0,0,12,6.5,5.46,5.46,0,0,0,6.5,12Z\"/>\n",
              "  </svg>\n",
              "    </button>\n",
              "    <script>\n",
              "      (() => {\n",
              "      const buttonEl =\n",
              "        document.querySelector('#id_e7ea2c5d-2d53-40de-afb8-48410a6f4d41 button.colab-df-generate');\n",
              "      buttonEl.style.display =\n",
              "        google.colab.kernel.accessAllowed ? 'block' : 'none';\n",
              "\n",
              "      buttonEl.onclick = () => {\n",
              "        google.colab.notebook.generateWithVariable('remains');\n",
              "      }\n",
              "      })();\n",
              "    </script>\n",
              "  </div>\n",
              "\n",
              "    </div>\n",
              "  </div>\n"
            ],
            "application/vnd.google.colaboratory.intrinsic+json": {
              "type": "dataframe",
              "variable_name": "remains",
              "summary": "{\n  \"name\": \"remains\",\n  \"rows\": 87,\n  \"fields\": [\n    {\n      \"column\": \"grade \",\n      \"properties\": {\n        \"dtype\": \"number\",\n        \"std\": 1.0913461479135877,\n        \"min\": 1.0,\n        \"max\": 5.0,\n        \"num_unique_values\": 5,\n        \"samples\": [\n          3.0,\n          1.0,\n          2.0\n        ],\n        \"semantic_type\": \"\",\n        \"description\": \"\"\n      }\n    },\n    {\n      \"column\": \"level\",\n      \"properties\": {\n        \"dtype\": \"number\",\n        \"std\": 0,\n        \"min\": 1,\n        \"max\": 5,\n        \"num_unique_values\": 5,\n        \"samples\": [\n          3,\n          5,\n          4\n        ],\n        \"semantic_type\": \"\",\n        \"description\": \"\"\n      }\n    },\n    {\n      \"column\": \"Q1\",\n      \"properties\": {\n        \"dtype\": \"object\",\n        \"semantic_type\": \"\",\n        \"description\": \"\"\n      }\n    },\n    {\n      \"column\": \"Q2\",\n      \"properties\": {\n        \"dtype\": \"object\",\n        \"semantic_type\": \"\",\n        \"description\": \"\"\n      }\n    },\n    {\n      \"column\": \"Q3\",\n      \"properties\": {\n        \"dtype\": \"object\",\n        \"semantic_type\": \"\",\n        \"description\": \"\"\n      }\n    },\n    {\n      \"column\": \"satisfaction\",\n      \"properties\": {\n        \"dtype\": \"number\",\n        \"std\": 0.8609205599393684,\n        \"min\": 6.0,\n        \"max\": 10.0,\n        \"num_unique_values\": 7,\n        \"samples\": [\n          9.0,\n          8.0,\n          7.0\n        ],\n        \"semantic_type\": \"\",\n        \"description\": \"\"\n      }\n    },\n    {\n      \"column\": \"reasons\",\n      \"properties\": {\n        \"dtype\": \"object\",\n        \"semantic_type\": \"\",\n        \"description\": \"\"\n      }\n    }\n  ]\n}"
            }
          },
          "metadata": {},
          "execution_count": 174
        }
      ]
    },
    {
      "cell_type": "code",
      "source": [
        "from matplotlib import font_manager\n",
        "\n",
        "# 설치된 폰트의 경로 찾기\n",
        "for font in font_manager.findSystemFonts(fontpaths=None, fontext='ttf'):\n",
        "    if \"Nanum\" in font:\n",
        "        print(font)\n"
      ],
      "metadata": {
        "colab": {
          "base_uri": "https://localhost:8080/"
        },
        "id": "_MgYr0KwQy7g",
        "outputId": "08316aa2-feb5-4499-90e3-ce8f44697bef"
      },
      "execution_count": null,
      "outputs": [
        {
          "output_type": "stream",
          "name": "stdout",
          "text": [
            "/usr/share/fonts/truetype/nanum/NanumGothicCoding.ttf\n",
            "/usr/share/fonts/truetype/nanum/NanumBarunGothic.ttf\n",
            "/usr/share/fonts/truetype/nanum/NanumMyeongjoBold.ttf\n",
            "/usr/share/fonts/truetype/nanum/NanumBarunGothicBold.ttf\n",
            "/usr/share/fonts/truetype/nanum/NanumGothicCodingBold.ttf\n",
            "/usr/share/fonts/truetype/nanum/NanumSquareRoundR.ttf\n",
            "/usr/share/fonts/truetype/nanum/NanumGothicBold.ttf\n",
            "/usr/share/fonts/truetype/nanum/NanumMyeongjo.ttf\n",
            "/usr/share/fonts/truetype/nanum/NanumGothic.ttf\n",
            "/usr/share/fonts/truetype/nanum/NanumSquareR.ttf\n",
            "/root/.fonts/NanumGothic.ttf\n",
            "/usr/share/fonts/truetype/nanum/NanumSquareB.ttf\n",
            "/usr/share/fonts/truetype/nanum/NanumSquareRoundB.ttf\n"
          ]
        },
        {
          "output_type": "stream",
          "name": "stderr",
          "text": [
            "/usr/local/lib/python3.10/dist-packages/ipykernel/ipkernel.py:283: DeprecationWarning: `should_run_async` will not call `transform_cell` automatically in the future. Please pass the result to `transformed_cell` argument and any exception that happen during thetransform in `preprocessing_exc_tuple` in IPython 7.17 and above.\n",
            "  and should_run_async(code)\n"
          ]
        }
      ]
    },
    {
      "cell_type": "code",
      "source": [
        "# reasons로 변경해줌. 여기에 있는 키워드를 분석하기 위해서 Q1-3를 reasons로 변경함\n",
        "from collections import Counter\n",
        "#target = [\"Reasons\"]\n",
        "target = [\"Q1\", \"Q2\", \"Q3\"]\n",
        "#여기서는 Q1, Q2, Q3에 대한 워드빈도분석을 함\n",
        "stopwords={\n",
        "    \"하나요\", \"대해\", \"가요\", \"육개장\",\"대한\", \"구체\", \"가장\", \"돈까스\", \"유발\",'요소',\"추천\",\"스파게티\"\n",
        "    \"입안\", \"치킨\", \"부드러움\", \"무엇\", \"소스\", \"자연\", \"전달\", \"영어\", \"바삭\"\n",
        "}\n",
        "#삭제할 단어를 추가하기\n",
        "keywords = []\n",
        "for col in target:\n",
        "    for values in ko_remains[col]:\n",
        "        #values = eval(values)  # 실제 list로 변경해줌. 저장했다가 불러올때 사용함\n",
        "        values = [ x for x in values if len(x) > 1 and x not in stopwords]\n",
        "        #글자수가 1개가 넘고 stopwords에 없으면 빈도분석의 대상 단어로 사용하겠다.\n",
        "        keywords+=values\n",
        "results = Counter(keywords).most_common()"
      ],
      "metadata": {
        "id": "cL6L1AHWRvoC",
        "colab": {
          "base_uri": "https://localhost:8080/"
        },
        "outputId": "b7eb06fe-db3a-438e-84c0-7dbaf6d5270d"
      },
      "execution_count": null,
      "outputs": [
        {
          "output_type": "stream",
          "name": "stderr",
          "text": [
            "/usr/local/lib/python3.10/dist-packages/ipykernel/ipkernel.py:283: DeprecationWarning: `should_run_async` will not call `transform_cell` automatically in the future. Please pass the result to `transformed_cell` argument and any exception that happen during thetransform in `preprocessing_exc_tuple` in IPython 7.17 and above.\n",
            "  and should_run_async(code)\n"
          ]
        }
      ]
    },
    {
      "cell_type": "code",
      "source": [
        "import matplotlib.pyplot as plt\n",
        "from matplotlib import font_manager, rc\n",
        "\n",
        "# 나눔고딕 폰트 경로 설정 (출력된 경로 사용)\n",
        "font_path = \"/usr/share/fonts/truetype/nanum/NanumGothic.ttf\" # 확인한 폰트 경로\n",
        "font = font_manager.FontProperties(fname=font_path).get_name()\n",
        "rc('font', family=font)"
      ],
      "metadata": {
        "colab": {
          "base_uri": "https://localhost:8080/"
        },
        "id": "qy2w6yiFQ7Wg",
        "outputId": "377c3141-937e-4126-ecb8-27b381252d91"
      },
      "execution_count": null,
      "outputs": [
        {
          "output_type": "stream",
          "name": "stderr",
          "text": [
            "/usr/local/lib/python3.10/dist-packages/ipykernel/ipkernel.py:283: DeprecationWarning: `should_run_async` will not call `transform_cell` automatically in the future. Please pass the result to `transformed_cell` argument and any exception that happen during thetransform in `preprocessing_exc_tuple` in IPython 7.17 and above.\n",
            "  and should_run_async(code)\n"
          ]
        }
      ]
    },
    {
      "cell_type": "code",
      "source": [
        "results[:20]  # 빈도가 10개까지만 나오게 설정함"
      ],
      "metadata": {
        "colab": {
          "base_uri": "https://localhost:8080/"
        },
        "id": "zhY9zDSUR3XF",
        "outputId": "18b8119c-6f96-49bf-c1b4-25e2447e2791"
      },
      "execution_count": null,
      "outputs": [
        {
          "output_type": "stream",
          "name": "stderr",
          "text": [
            "/usr/local/lib/python3.10/dist-packages/ipykernel/ipkernel.py:283: DeprecationWarning: `should_run_async` will not call `transform_cell` automatically in the future. Please pass the result to `transformed_cell` argument and any exception that happen during thetransform in `preprocessing_exc_tuple` in IPython 7.17 and above.\n",
            "  and should_run_async(code)\n"
          ]
        },
        {
          "output_type": "execute_result",
          "data": {
            "text/plain": [
              "[('표현', 99),\n",
              " ('묘사', 62),\n",
              " ('냄새', 33),\n",
              " ('단어', 32),\n",
              " ('식감', 20),\n",
              " ('시각', 17),\n",
              " ('내용', 15),\n",
              " ('음식', 11),\n",
              " ('재료', 11),\n",
              " ('생각', 11),\n",
              " ('느낌', 9),\n",
              " ('색깔', 8),\n",
              " ('설명', 7),\n",
              " ('모양', 7),\n",
              " ('감정', 7),\n",
              " ('질감', 5),\n",
              " ('방법', 5),\n",
              " ('작성', 5),\n",
              " ('문장', 4),\n",
              " ('크기', 4)]"
            ]
          },
          "metadata": {},
          "execution_count": 178
        }
      ]
    },
    {
      "cell_type": "code",
      "source": [
        "import matplotlib.pyplot as plt\n",
        "x,y = list(zip(*results[:20])) #숫자 조정\n",
        "# x 단어 y는 빈도수"
      ],
      "metadata": {
        "id": "zRqxStkbSEoG",
        "colab": {
          "base_uri": "https://localhost:8080/"
        },
        "outputId": "35f003ef-4c70-4a7c-9ec2-4f11fd4df8f7"
      },
      "execution_count": null,
      "outputs": [
        {
          "output_type": "stream",
          "name": "stderr",
          "text": [
            "/usr/local/lib/python3.10/dist-packages/ipykernel/ipkernel.py:283: DeprecationWarning: `should_run_async` will not call `transform_cell` automatically in the future. Please pass the result to `transformed_cell` argument and any exception that happen during thetransform in `preprocessing_exc_tuple` in IPython 7.17 and above.\n",
            "  and should_run_async(code)\n"
          ]
        }
      ]
    },
    {
      "cell_type": "markdown",
      "source": [],
      "metadata": {
        "id": "oKBx21gWQvMW"
      }
    },
    {
      "cell_type": "code",
      "source": [
        "data = pd.DataFrame({\"word\": x, \"frequecy\":y})\n",
        "data.plot(kind=\"bar\", x=\"word\", y=\"frequecy\")\n"
      ],
      "metadata": {
        "colab": {
          "base_uri": "https://localhost:8080/",
          "height": 531
        },
        "id": "4zxpQgZpTw6F",
        "outputId": "8798d7fe-3694-43d3-82c0-32a16333514e"
      },
      "execution_count": null,
      "outputs": [
        {
          "output_type": "stream",
          "name": "stderr",
          "text": [
            "/usr/local/lib/python3.10/dist-packages/ipykernel/ipkernel.py:283: DeprecationWarning: `should_run_async` will not call `transform_cell` automatically in the future. Please pass the result to `transformed_cell` argument and any exception that happen during thetransform in `preprocessing_exc_tuple` in IPython 7.17 and above.\n",
            "  and should_run_async(code)\n"
          ]
        },
        {
          "output_type": "execute_result",
          "data": {
            "text/plain": [
              "<Axes: xlabel='word'>"
            ]
          },
          "metadata": {},
          "execution_count": 180
        },
        {
          "output_type": "display_data",
          "data": {
            "text/plain": [
              "<Figure size 640x480 with 1 Axes>"
            ],
            "image/png": "[encoded data removed]"
          },
          "metadata": {}
        }
      ]
    },
    {
      "cell_type": "code",
      "source": [
        "data = pd.DataFrame({\"word\": x, \"frequecy\":y})\n",
        "data.plot(kind=\"bar\", x=\"word\", y=\"frequecy\")\n",
        "plt.xticks(rotation=45)  # 글자표시를 가로로 다시 보이게"
      ],
      "metadata": {
        "colab": {
          "base_uri": "https://localhost:8080/",
          "height": 890
        },
        "id": "XQBghd9jT0M0",
        "outputId": "2fa2d544-7594-4dac-cbdc-cced6d9b0be6"
      },
      "execution_count": null,
      "outputs": [
        {
          "output_type": "stream",
          "name": "stderr",
          "text": [
            "/usr/local/lib/python3.10/dist-packages/ipykernel/ipkernel.py:283: DeprecationWarning: `should_run_async` will not call `transform_cell` automatically in the future. Please pass the result to `transformed_cell` argument and any exception that happen during thetransform in `preprocessing_exc_tuple` in IPython 7.17 and above.\n",
            "  and should_run_async(code)\n"
          ]
        },
        {
          "output_type": "execute_result",
          "data": {
            "text/plain": [
              "(array([ 0,  1,  2,  3,  4,  5,  6,  7,  8,  9, 10, 11, 12, 13, 14, 15, 16,\n",
              "        17, 18, 19]),\n",
              " [Text(0, 0, '표현'),\n",
              "  Text(1, 0, '묘사'),\n",
              "  Text(2, 0, '냄새'),\n",
              "  Text(3, 0, '단어'),\n",
              "  Text(4, 0, '식감'),\n",
              "  Text(5, 0, '시각'),\n",
              "  Text(6, 0, '내용'),\n",
              "  Text(7, 0, '음식'),\n",
              "  Text(8, 0, '재료'),\n",
              "  Text(9, 0, '생각'),\n",
              "  Text(10, 0, '느낌'),\n",
              "  Text(11, 0, '색깔'),\n",
              "  Text(12, 0, '설명'),\n",
              "  Text(13, 0, '모양'),\n",
              "  Text(14, 0, '감정'),\n",
              "  Text(15, 0, '질감'),\n",
              "  Text(16, 0, '방법'),\n",
              "  Text(17, 0, '작성'),\n",
              "  Text(18, 0, '문장'),\n",
              "  Text(19, 0, '크기')])"
            ]
          },
          "metadata": {},
          "execution_count": 181
        },
        {
          "output_type": "display_data",
          "data": {
            "text/plain": [
              "<Figure size 640x480 with 1 Axes>"
            ],
            "image/png": "[encoded data removed]"
          },
          "metadata": {}
        }
      ]
    },
    {
      "cell_type": "code",
      "source": [
        "!pip install tenacity"
      ],
      "metadata": {
        "colab": {
          "base_uri": "https://localhost:8080/"
        },
        "id": "SJ2nIieZlzGB",
        "outputId": "fee249e4-b611-4b54-9acd-a5f94cdbcced"
      },
      "execution_count": null,
      "outputs": [
        {
          "output_type": "stream",
          "name": "stderr",
          "text": [
            "/usr/local/lib/python3.10/dist-packages/ipykernel/ipkernel.py:283: DeprecationWarning: `should_run_async` will not call `transform_cell` automatically in the future. Please pass the result to `transformed_cell` argument and any exception that happen during thetransform in `preprocessing_exc_tuple` in IPython 7.17 and above.\n",
            "  and should_run_async(code)\n"
          ]
        },
        {
          "output_type": "stream",
          "name": "stdout",
          "text": [
            "Requirement already satisfied: tenacity in /usr/local/lib/python3.10/dist-packages (9.0.0)\n"
          ]
        }
      ]
    },
    {
      "cell_type": "code",
      "source": [
        "import requests\n",
        "from typing import Optional\n",
        "from tenacity import retry, stop_after_attempt, wait_random_exponential\n",
        "\n",
        "REST = \"https://translate.googleapis.com/translate_a/single?hl=ko&dt=t&client=gtx&ie=utf-8\"\n",
        "\n",
        "\n",
        "@retry(stop=stop_after_attempt(3), wait=wait_random_exponential(multiplier=1, min=4, max=10))\n",
        "def translateWithGoogleAPI(text: str, sl: str = 'ko', hl: str = 'ko', tl: str = 'en') -> Optional[str]:\n",
        "    with requests.get(REST, params={\"q\": text, \"sl\": sl, \"hl\": hl, \"tl\": tl}) as req:\n",
        "        result = req.json()[0][0][0]\n",
        "    return result"
      ],
      "metadata": {
        "id": "hNvzmghkl5pI",
        "colab": {
          "base_uri": "https://localhost:8080/"
        },
        "outputId": "3d0899f0-f7c1-48c6-a644-9eef8d97dda0"
      },
      "execution_count": null,
      "outputs": [
        {
          "output_type": "stream",
          "name": "stderr",
          "text": [
            "/usr/local/lib/python3.10/dist-packages/ipykernel/ipkernel.py:283: DeprecationWarning: `should_run_async` will not call `transform_cell` automatically in the future. Please pass the result to `transformed_cell` argument and any exception that happen during thetransform in `preprocessing_exc_tuple` in IPython 7.17 and above.\n",
            "  and should_run_async(code)\n"
          ]
        }
      ]
    },
    {
      "cell_type": "code",
      "source": [
        "results"
      ],
      "metadata": {
        "colab": {
          "base_uri": "https://localhost:8080/"
        },
        "id": "reEdfJDXpVdu",
        "outputId": "202585a7-59c5-444b-8636-a9d02f0a3197"
      },
      "execution_count": null,
      "outputs": [
        {
          "output_type": "stream",
          "name": "stderr",
          "text": [
            "/usr/local/lib/python3.10/dist-packages/ipykernel/ipkernel.py:283: DeprecationWarning: `should_run_async` will not call `transform_cell` automatically in the future. Please pass the result to `transformed_cell` argument and any exception that happen during thetransform in `preprocessing_exc_tuple` in IPython 7.17 and above.\n",
            "  and should_run_async(code)\n"
          ]
        },
        {
          "output_type": "execute_result",
          "data": {
            "text/plain": [
              "[('표현', 99),\n",
              " ('묘사', 62),\n",
              " ('냄새', 33),\n",
              " ('단어', 32),\n",
              " ('식감', 20),\n",
              " ('시각', 17),\n",
              " ('내용', 15),\n",
              " ('음식', 11),\n",
              " ('재료', 11),\n",
              " ('생각', 11),\n",
              " ('느낌', 9),\n",
              " ('색깔', 8),\n",
              " ('설명', 7),\n",
              " ('모양', 7),\n",
              " ('감정', 7),\n",
              " ('질감', 5),\n",
              " ('방법', 5),\n",
              " ('작성', 5),\n",
              " ('문장', 4),\n",
              " ('크기', 4),\n",
              " ('흥미', 3),\n",
              " ('종류', 3),\n",
              " ('주제', 3),\n",
              " ('특징', 2),\n",
              " ('부분', 2),\n",
              " ('조합', 2),\n",
              " ('비유', 2),\n",
              " ('모습', 2),\n",
              " ('무슨', 2),\n",
              " ('스파게티', 2),\n",
              " ('전개', 2),\n",
              " ('시작', 2),\n",
              " ('사용', 2),\n",
              " ('이미지', 1),\n",
              " ('창의', 1),\n",
              " ('이유', 1),\n",
              " ('적성', 1),\n",
              " ('문법', 1),\n",
              " ('오류', 1),\n",
              " ('효과', 1),\n",
              " ('상큼', 1),\n",
              " ('생김새', 1),\n",
              " ('사람', 1),\n",
              " ('인사말', 1),\n",
              " ('중심', 1),\n",
              " ('조각', 1),\n",
              " ('제문', 1),\n",
              " ('각각', 1),\n",
              " ('색감', 1),\n",
              " ('감각', 1),\n",
              " ('효율', 1),\n",
              " ('패티', 1),\n",
              " ('구조', 1),\n",
              " ('체계', 1),\n",
              " ('향기', 1),\n",
              " ('제일', 1),\n",
              " ('위해', 1),\n",
              " ('형용사', 1),\n",
              " ('이건', 1),\n",
              " ('겉모습', 1)]"
            ]
          },
          "metadata": {},
          "execution_count": 184
        }
      ]
    },
    {
      "cell_type": "code",
      "source": [
        "top_k = 20  # 단어 10개를 선택함, 선택하고자 하는 단어수를 설정해줌\n",
        "words, freqs = list(zip(*results))\n",
        "stopwords = {\"feel\", \"time\"}    # 지워야할 단어를 선택해줌\n",
        "x, y = [], []\n",
        "for word, freq in zip(words, freqs):\n",
        "    word = translateWithGoogleAPI(word, sl=\"ko\", hl=\"ko\", tl=\"en\")\n",
        "    if word not in stopwords:\n",
        "        x.append(word)\n",
        "        y.append(freq)\n",
        "    if len(x) == top_k:\n",
        "        break\n",
        "data = pd.DataFrame({\"word\":x, \"frequecy\":y})\n",
        "data.plot(kind=\"bar\", x=\"word\", y=\"frequecy\")\n",
        "plt.xticks(rotation=48)  # 글자표시를 가로로 다시 ."
      ],
      "metadata": {
        "colab": {
          "base_uri": "https://localhost:8080/",
          "height": 927
        },
        "id": "9xA-e528pP8i",
        "outputId": "e31eca37-7996-4923-dcea-34a7215533ba"
      },
      "execution_count": null,
      "outputs": [
        {
          "output_type": "stream",
          "name": "stderr",
          "text": [
            "/usr/local/lib/python3.10/dist-packages/ipykernel/ipkernel.py:283: DeprecationWarning: `should_run_async` will not call `transform_cell` automatically in the future. Please pass the result to `transformed_cell` argument and any exception that happen during thetransform in `preprocessing_exc_tuple` in IPython 7.17 and above.\n",
            "  and should_run_async(code)\n"
          ]
        },
        {
          "output_type": "execute_result",
          "data": {
            "text/plain": [
              "(array([ 0,  1,  2,  3,  4,  5,  6,  7,  8,  9, 10, 11, 12, 13, 14, 15, 16,\n",
              "        17, 18, 19]),\n",
              " [Text(0, 0, 'expression'),\n",
              "  Text(1, 0, 'depiction'),\n",
              "  Text(2, 0, 'smell'),\n",
              "  Text(3, 0, 'word'),\n",
              "  Text(4, 0, 'Texture'),\n",
              "  Text(5, 0, 'detail'),\n",
              "  Text(6, 0, 'food'),\n",
              "  Text(7, 0, 'ingredient'),\n",
              "  Text(8, 0, 'thought'),\n",
              "  Text(9, 0, 'color'),\n",
              "  Text(10, 0, 'explanation'),\n",
              "  Text(11, 0, 'shape'),\n",
              "  Text(12, 0, 'emotion'),\n",
              "  Text(13, 0, 'texture'),\n",
              "  Text(14, 0, 'method'),\n",
              "  Text(15, 0, 'write'),\n",
              "  Text(16, 0, 'sentence'),\n",
              "  Text(17, 0, 'size'),\n",
              "  Text(18, 0, 'interest'),\n",
              "  Text(19, 0, 'type')])"
            ]
          },
          "metadata": {},
          "execution_count": 185
        },
        {
          "output_type": "display_data",
          "data": {
            "text/plain": [
              "<Figure size 640x480 with 1 Axes>"
            ],
            "image/png": "[encoded data removed]"
          },
          "metadata": {}
        }
      ]
    },
    {
      "cell_type": "markdown",
      "source": [
        "## LDA"
      ],
      "metadata": {
        "id": "heCNjvgJT4KU"
      }
    },
    {
      "cell_type": "code",
      "source": [
        "stopwords = [\"하나요\", \"대해\", \"가요\", \"육개장\",\"대한\", \"구체\", \"가장\", \"돈까스\", \"바싹\",\n",
        "    \"입안\", \"치킨\", \"부드러움\", \"무엇\", \"소스\", \"자연\", \"전달\",\"가요\", \"육개장\",\"대한\", \"구체\", \"가장\", \"돈까스\", \"유발\",'요소',\"추천\",\"스파게티\"\n",
        "    \"입안\", \"치킨\", \"부드러움\", \"무엇\", \"소스\", \"자연\", \"전달\", \"영어\", \"바삭\" ,\"이것\", \"직업\", \"파스타\", \"고기\", \"무슨\", \"스파게티\", \"위해\", \"상큼\", \"인사말\",\n",
        "             \"각각\", \"제일\", \"겉모습\", \"사람\", \"제문\", \"부분\", \"패티\", \"이건\", \"부분\", \"체계\", \"중심\", \"조각\",\"시작\", \"사용\", \"적성\"]  # 삭제할 단어를 계속추가해줌\n",
        "reasons = ko_remains[[\"Q1\", \"Q2\", \"Q3\"]].values.flatten()\n",
        "reasons = [ [w for w in r if len(w)>1] for r in reasons if len(r) != 0]\n",
        "reasons = [[w for w in r if w.strip() not in stopwords ] for r in reasons]\n",
        "reasons2 = [r for r in reasons if r] # [] 빈칸의 경우는 삭제함\n",
        "reasons2"
      ],
      "metadata": {
        "colab": {
          "base_uri": "https://localhost:8080/"
        },
        "id": "eUGvm-C8T7Xi",
        "outputId": "4f778a48-c67c-471f-8b6f-0483e6691eb2"
      },
      "execution_count": null,
      "outputs": [
        {
          "output_type": "stream",
          "name": "stderr",
          "text": [
            "/usr/local/lib/python3.10/dist-packages/ipykernel/ipkernel.py:283: DeprecationWarning: `should_run_async` will not call `transform_cell` automatically in the future. Please pass the result to `transformed_cell` argument and any exception that happen during thetransform in `preprocessing_exc_tuple` in IPython 7.17 and above.\n",
            "  and should_run_async(code)\n"
          ]
        },
        {
          "output_type": "execute_result",
          "data": {
            "text/plain": [
              "[['식감'],\n",
              " ['음식', '느낌'],\n",
              " ['이미지', '묘사', '묘사'],\n",
              " ['표현'],\n",
              " ['재료', '표현', '단어'],\n",
              " ['표현'],\n",
              " ['생각'],\n",
              " ['시각', '표현', '묘사'],\n",
              " ['특징', '설명'],\n",
              " ['냄새', '묘사'],\n",
              " ['특징', '설명'],\n",
              " ['느낌'],\n",
              " ['설명', '표현'],\n",
              " ['냄새', '표현'],\n",
              " ['재료', '표현', '단어'],\n",
              " ['생각'],\n",
              " ['시각', '표현', '묘사'],\n",
              " ['흥미'],\n",
              " ['식감', '표현'],\n",
              " ['감정', '표현'],\n",
              " ['종류'],\n",
              " ['냄새', '묘사'],\n",
              " ['표현'],\n",
              " ['느낌'],\n",
              " ['표현', '표현'],\n",
              " ['냄새', '표현'],\n",
              " ['재료', '표현', '단어'],\n",
              " ['표현'],\n",
              " ['생각'],\n",
              " ['시각', '표현', '묘사'],\n",
              " ['묘사', '창의', '표현'],\n",
              " ['식감', '표현'],\n",
              " ['감정', '표현'],\n",
              " ['묘사', '흥미', '문장'],\n",
              " ['냄새', '묘사'],\n",
              " ['이유'],\n",
              " ['느낌'],\n",
              " ['식감', '표현'],\n",
              " ['냄새', '표현'],\n",
              " ['재료', '표현', '단어'],\n",
              " ['식감', '설명'],\n",
              " ['생각'],\n",
              " ['시각', '표현', '묘사'],\n",
              " ['질감', '묘사'],\n",
              " ['식감', '표현'],\n",
              " ['감정', '표현'],\n",
              " ['흥미', '문장'],\n",
              " ['냄새', '묘사'],\n",
              " ['설명'],\n",
              " ['느낌'],\n",
              " ['묘사', '묘사'],\n",
              " ['냄새', '표현'],\n",
              " ['재료', '표현', '단어'],\n",
              " ['질감', '설명'],\n",
              " ['생각'],\n",
              " ['시각', '표현', '묘사'],\n",
              " ['조합', '음식'],\n",
              " ['식감', '표현'],\n",
              " ['표현'],\n",
              " ['문장', '문법', '오류'],\n",
              " ['냄새', '묘사'],\n",
              " ['식감', '설명'],\n",
              " ['느낌'],\n",
              " ['조합'],\n",
              " ['냄새', '표현'],\n",
              " ['재료', '표현', '단어'],\n",
              " ['식감', '비유', '표현'],\n",
              " ['생각'],\n",
              " ['시각', '표현', '묘사'],\n",
              " ['질감', '효과', '묘사', '방법'],\n",
              " ['식감', '표현'],\n",
              " ['표현'],\n",
              " ['식감', '표현'],\n",
              " ['냄새', '묘사'],\n",
              " ['묘사'],\n",
              " ['표현', '단어'],\n",
              " ['표현', '단어'],\n",
              " ['단어'],\n",
              " ['단어'],\n",
              " ['식감', '표현', '문장'],\n",
              " ['내용'],\n",
              " ['향기', '묘사'],\n",
              " ['표현'],\n",
              " ['표현'],\n",
              " ['표현', '단어'],\n",
              " ['시각', '모습', '표현', '단어'],\n",
              " ['단어', '표현'],\n",
              " ['표현'],\n",
              " ['묘사'],\n",
              " ['표현'],\n",
              " ['표현'],\n",
              " ['냄새', '표현'],\n",
              " ['식감', '표현'],\n",
              " ['묘사'],\n",
              " ['내용'],\n",
              " ['내용'],\n",
              " ['내용'],\n",
              " ['식감', '묘사', '단어'],\n",
              " ['냄새', '표현'],\n",
              " ['묘사', '단어'],\n",
              " ['표현'],\n",
              " ['작성'],\n",
              " ['음식'],\n",
              " ['내용'],\n",
              " ['내용', '전개'],\n",
              " ['재료'],\n",
              " ['묘사', '단어'],\n",
              " ['냄새', '묘사', '단어'],\n",
              " ['내용'],\n",
              " ['내용'],\n",
              " ['내용'],\n",
              " ['묘사'],\n",
              " ['묘사'],\n",
              " ['식감', '묘사'],\n",
              " ['표현'],\n",
              " ['모양'],\n",
              " ['냄새', '표현'],\n",
              " ['생김새'],\n",
              " ['표현'],\n",
              " ['표현', '단어'],\n",
              " ['묘사'],\n",
              " ['표현', '단어'],\n",
              " ['음식', '작성'],\n",
              " ['표현'],\n",
              " ['표현'],\n",
              " ['식감', '묘사', '단어'],\n",
              " ['묘사', '작성'],\n",
              " ['묘사'],\n",
              " ['표현', '단어'],\n",
              " ['식감', '표현'],\n",
              " ['비유'],\n",
              " ['묘사', '단어'],\n",
              " ['재료', '묘사'],\n",
              " ['단어'],\n",
              " ['음식'],\n",
              " ['냄새', '표현', '단어'],\n",
              " ['표현', '단어'],\n",
              " ['종류'],\n",
              " ['생각'],\n",
              " ['내용'],\n",
              " ['시각', '묘사'],\n",
              " ['냄새', '표현'],\n",
              " ['묘사'],\n",
              " ['시각', '모습', '묘사'],\n",
              " ['묘사'],\n",
              " ['표현', '형용사'],\n",
              " ['표현', '단어'],\n",
              " ['색감', '표현', '단어'],\n",
              " ['냄새', '표현', '단어'],\n",
              " ['표현'],\n",
              " ['음식'],\n",
              " ['내용'],\n",
              " ['표현', '단어'],\n",
              " ['표현'],\n",
              " ['내용'],\n",
              " ['색깔', '크기'],\n",
              " ['느낌'],\n",
              " ['모양', '시각', '묘사', '방법'],\n",
              " ['냄새', '표현'],\n",
              " ['재료', '표현', '단어'],\n",
              " ['냄새', '표현'],\n",
              " ['생각'],\n",
              " ['시각', '표현', '묘사'],\n",
              " ['묘사'],\n",
              " ['식감', '표현'],\n",
              " ['주제', '감정', '표현'],\n",
              " ['색깔', '크기'],\n",
              " ['냄새', '묘사'],\n",
              " ['색깔', '크기'],\n",
              " ['느낌'],\n",
              " ['시각', '묘사', '방법'],\n",
              " ['표현'],\n",
              " ['재료', '표현', '단어'],\n",
              " ['냄새', '표현'],\n",
              " ['생각'],\n",
              " ['시각', '표현', '묘사'],\n",
              " ['식감', '표현'],\n",
              " ['주제', '감정', '표현'],\n",
              " ['모양', '색깔'],\n",
              " ['냄새', '묘사'],\n",
              " ['색깔', '크기'],\n",
              " ['느낌'],\n",
              " ['시각', '묘사', '방법'],\n",
              " ['냄새', '표현'],\n",
              " ['재료', '표현', '단어'],\n",
              " ['냄새', '표현'],\n",
              " ['생각'],\n",
              " ['시각', '표현', '묘사'],\n",
              " ['식감', '표현'],\n",
              " ['주제', '감정', '표현'],\n",
              " ['모양', '색깔'],\n",
              " ['냄새', '묘사'],\n",
              " ['묘사'],\n",
              " ['음식', '음식'],\n",
              " ['생각', '작성'],\n",
              " ['감각', '효율', '표현'],\n",
              " ['묘사'],\n",
              " ['묘사', '작성'],\n",
              " ['종류'],\n",
              " ['음식'],\n",
              " ['묘사'],\n",
              " ['냄새'],\n",
              " ['시각', '표현'],\n",
              " ['모양', '색깔'],\n",
              " ['냄새', '표현'],\n",
              " ['묘사'],\n",
              " ['모양'],\n",
              " ['음식', '질감'],\n",
              " ['모양'],\n",
              " ['냄새'],\n",
              " ['묘사'],\n",
              " ['냄새'],\n",
              " ['냄새', '표현'],\n",
              " ['색깔'],\n",
              " ['묘사'],\n",
              " ['표현'],\n",
              " ['표현'],\n",
              " ['내용'],\n",
              " ['내용'],\n",
              " ['내용'],\n",
              " ['냄새', '묘사'],\n",
              " ['음식', '묘사'],\n",
              " ['시각', '표현'],\n",
              " ['전개'],\n",
              " ['방법', '구조'],\n",
              " ['감정', '표현'],\n",
              " ['질감', '묘사'],\n",
              " ['냄새', '표현'],\n",
              " ['묘사']]"
            ]
          },
          "metadata": {},
          "execution_count": 226
        }
      ]
    },
    {
      "cell_type": "code",
      "source": [
        "#영어에서 삭제하고 싶은 단어 입력하기\n",
        "import matplotlib.pyplot as plt\n",
        "from gensim.models import LdaModel\n",
        "from gensim.corpora import Dictionary\n",
        "\n",
        "stopwords = {\"th\", \"This is\", \"part time job\", \"jemun\", \"most\",\"Refreshing\", \"for\", \"each\", \"pasta\", \"patty\", \"start\"}\n",
        "reasons2_en = [[translateWithGoogleAPI(word) for word in words] for words in reasons2]\n",
        "reasons2_en = [[word for word in words if word not in stopwords] for words in reasons2_en]\n"
      ],
      "metadata": {
        "colab": {
          "base_uri": "https://localhost:8080/"
        },
        "id": "EzGPHDeHZC4I",
        "outputId": "c22a8c02-0140-4204-cbee-37004d86429b",
        "collapsed": true
      },
      "execution_count": null,
      "outputs": [
        {
          "output_type": "stream",
          "name": "stderr",
          "text": [
            "/usr/local/lib/python3.10/dist-packages/ipykernel/ipkernel.py:283: DeprecationWarning: `should_run_async` will not call `transform_cell` automatically in the future. Please pass the result to `transformed_cell` argument and any exception that happen during thetransform in `preprocessing_exc_tuple` in IPython 7.17 and above.\n",
            "  and should_run_async(code)\n"
          ]
        }
      ]
    },
    {
      "cell_type": "code",
      "source": [
        "#원래 한글어로 표시됨\n",
        "dictionary = Dictionary(reasons2)\n",
        "corpus = [dictionary.doc2bow(doc) for doc in reasons2]\n",
        "corpus  # requency vector (0번째 단어는 id가 0인 단어가 1번)"
      ],
      "metadata": {
        "id": "qkrt_lLD4CJl",
        "colab": {
          "base_uri": "https://localhost:8080/"
        },
        "outputId": "2949d637-00f8-4f78-c50b-fe4890f67b07"
      },
      "execution_count": null,
      "outputs": [
        {
          "output_type": "stream",
          "name": "stderr",
          "text": [
            "/usr/local/lib/python3.10/dist-packages/ipykernel/ipkernel.py:283: DeprecationWarning: `should_run_async` will not call `transform_cell` automatically in the future. Please pass the result to `transformed_cell` argument and any exception that happen during thetransform in `preprocessing_exc_tuple` in IPython 7.17 and above.\n",
            "  and should_run_async(code)\n"
          ]
        },
        {
          "output_type": "execute_result",
          "data": {
            "text/plain": [
              "[[(0, 1)],\n",
              " [(1, 1), (2, 1)],\n",
              " [(3, 2), (4, 1)],\n",
              " [(5, 1)],\n",
              " [(5, 1), (6, 1), (7, 1)],\n",
              " [(5, 1)],\n",
              " [(8, 1)],\n",
              " [(3, 1), (5, 1), (9, 1)],\n",
              " [(10, 1), (11, 1)],\n",
              " [(3, 1), (12, 1)],\n",
              " [(10, 1), (11, 1)],\n",
              " [(1, 1)],\n",
              " [(5, 1), (10, 1)],\n",
              " [(5, 1), (12, 1)],\n",
              " [(5, 1), (6, 1), (7, 1)],\n",
              " [(8, 1)],\n",
              " [(3, 1), (5, 1), (9, 1)],\n",
              " [(13, 1)],\n",
              " [(0, 1), (5, 1)],\n",
              " [(5, 1), (14, 1)],\n",
              " [(15, 1)],\n",
              " [(3, 1), (12, 1)],\n",
              " [(5, 1)],\n",
              " [(1, 1)],\n",
              " [(5, 2)],\n",
              " [(5, 1), (12, 1)],\n",
              " [(5, 1), (6, 1), (7, 1)],\n",
              " [(5, 1)],\n",
              " [(8, 1)],\n",
              " [(3, 1), (5, 1), (9, 1)],\n",
              " [(3, 1), (5, 1), (16, 1)],\n",
              " [(0, 1), (5, 1)],\n",
              " [(5, 1), (14, 1)],\n",
              " [(3, 1), (13, 1), (17, 1)],\n",
              " [(3, 1), (12, 1)],\n",
              " [(18, 1)],\n",
              " [(1, 1)],\n",
              " [(0, 1), (5, 1)],\n",
              " [(5, 1), (12, 1)],\n",
              " [(5, 1), (6, 1), (7, 1)],\n",
              " [(0, 1), (10, 1)],\n",
              " [(8, 1)],\n",
              " [(3, 1), (5, 1), (9, 1)],\n",
              " [(3, 1), (19, 1)],\n",
              " [(0, 1), (5, 1)],\n",
              " [(5, 1), (14, 1)],\n",
              " [(13, 1), (17, 1)],\n",
              " [(3, 1), (12, 1)],\n",
              " [(10, 1)],\n",
              " [(1, 1)],\n",
              " [(3, 2)],\n",
              " [(5, 1), (12, 1)],\n",
              " [(5, 1), (6, 1), (7, 1)],\n",
              " [(10, 1), (19, 1)],\n",
              " [(8, 1)],\n",
              " [(3, 1), (5, 1), (9, 1)],\n",
              " [(2, 1), (20, 1)],\n",
              " [(0, 1), (5, 1)],\n",
              " [(5, 1)],\n",
              " [(17, 1), (21, 1), (22, 1)],\n",
              " [(3, 1), (12, 1)],\n",
              " [(0, 1), (10, 1)],\n",
              " [(1, 1)],\n",
              " [(20, 1)],\n",
              " [(5, 1), (12, 1)],\n",
              " [(5, 1), (6, 1), (7, 1)],\n",
              " [(0, 1), (5, 1), (23, 1)],\n",
              " [(8, 1)],\n",
              " [(3, 1), (5, 1), (9, 1)],\n",
              " [(3, 1), (19, 1), (24, 1), (25, 1)],\n",
              " [(0, 1), (5, 1)],\n",
              " [(5, 1)],\n",
              " [(0, 1), (5, 1)],\n",
              " [(3, 1), (12, 1)],\n",
              " [(3, 1)],\n",
              " [(5, 1), (6, 1)],\n",
              " [(5, 1), (6, 1)],\n",
              " [(6, 1)],\n",
              " [(6, 1)],\n",
              " [(0, 1), (5, 1), (17, 1)],\n",
              " [(26, 1)],\n",
              " [(3, 1), (27, 1)],\n",
              " [(5, 1)],\n",
              " [(5, 1)],\n",
              " [(5, 1), (6, 1)],\n",
              " [(5, 1), (6, 1), (9, 1), (28, 1)],\n",
              " [(5, 1), (6, 1)],\n",
              " [(5, 1)],\n",
              " [(3, 1)],\n",
              " [(5, 1)],\n",
              " [(5, 1)],\n",
              " [(5, 1), (12, 1)],\n",
              " [(0, 1), (5, 1)],\n",
              " [(3, 1)],\n",
              " [(26, 1)],\n",
              " [(26, 1)],\n",
              " [(26, 1)],\n",
              " [(0, 1), (3, 1), (6, 1)],\n",
              " [(5, 1), (12, 1)],\n",
              " [(3, 1), (6, 1)],\n",
              " [(5, 1)],\n",
              " [(29, 1)],\n",
              " [(2, 1)],\n",
              " [(26, 1)],\n",
              " [(26, 1), (30, 1)],\n",
              " [(7, 1)],\n",
              " [(3, 1), (6, 1)],\n",
              " [(3, 1), (6, 1), (12, 1)],\n",
              " [(26, 1)],\n",
              " [(26, 1)],\n",
              " [(26, 1)],\n",
              " [(3, 1)],\n",
              " [(3, 1)],\n",
              " [(0, 1), (3, 1)],\n",
              " [(5, 1)],\n",
              " [(31, 1)],\n",
              " [(5, 1), (12, 1)],\n",
              " [(32, 1)],\n",
              " [(5, 1)],\n",
              " [(5, 1), (6, 1)],\n",
              " [(3, 1)],\n",
              " [(5, 1), (6, 1)],\n",
              " [(2, 1), (29, 1)],\n",
              " [(5, 1)],\n",
              " [(5, 1)],\n",
              " [(0, 1), (3, 1), (6, 1)],\n",
              " [(3, 1), (29, 1)],\n",
              " [(3, 1)],\n",
              " [(5, 1), (6, 1)],\n",
              " [(0, 1), (5, 1)],\n",
              " [(23, 1)],\n",
              " [(3, 1), (6, 1)],\n",
              " [(3, 1), (7, 1)],\n",
              " [(6, 1)],\n",
              " [(2, 1)],\n",
              " [(5, 1), (6, 1), (12, 1)],\n",
              " [(5, 1), (6, 1)],\n",
              " [(15, 1)],\n",
              " [(8, 1)],\n",
              " [(26, 1)],\n",
              " [(3, 1), (9, 1)],\n",
              " [(5, 1), (12, 1)],\n",
              " [(3, 1)],\n",
              " [(3, 1), (9, 1), (28, 1)],\n",
              " [(3, 1)],\n",
              " [(5, 1), (33, 1)],\n",
              " [(5, 1), (6, 1)],\n",
              " [(5, 1), (6, 1), (34, 1)],\n",
              " [(5, 1), (6, 1), (12, 1)],\n",
              " [(5, 1)],\n",
              " [(2, 1)],\n",
              " [(26, 1)],\n",
              " [(5, 1), (6, 1)],\n",
              " [(5, 1)],\n",
              " [(26, 1)],\n",
              " [(35, 1), (36, 1)],\n",
              " [(1, 1)],\n",
              " [(3, 1), (9, 1), (24, 1), (31, 1)],\n",
              " [(5, 1), (12, 1)],\n",
              " [(5, 1), (6, 1), (7, 1)],\n",
              " [(5, 1), (12, 1)],\n",
              " [(8, 1)],\n",
              " [(3, 1), (5, 1), (9, 1)],\n",
              " [(3, 1)],\n",
              " [(0, 1), (5, 1)],\n",
              " [(5, 1), (14, 1), (37, 1)],\n",
              " [(35, 1), (36, 1)],\n",
              " [(3, 1), (12, 1)],\n",
              " [(35, 1), (36, 1)],\n",
              " [(1, 1)],\n",
              " [(3, 1), (9, 1), (24, 1)],\n",
              " [(5, 1)],\n",
              " [(5, 1), (6, 1), (7, 1)],\n",
              " [(5, 1), (12, 1)],\n",
              " [(8, 1)],\n",
              " [(3, 1), (5, 1), (9, 1)],\n",
              " [(0, 1), (5, 1)],\n",
              " [(5, 1), (14, 1), (37, 1)],\n",
              " [(31, 1), (35, 1)],\n",
              " [(3, 1), (12, 1)],\n",
              " [(35, 1), (36, 1)],\n",
              " [(1, 1)],\n",
              " [(3, 1), (9, 1), (24, 1)],\n",
              " [(5, 1), (12, 1)],\n",
              " [(5, 1), (6, 1), (7, 1)],\n",
              " [(5, 1), (12, 1)],\n",
              " [(8, 1)],\n",
              " [(3, 1), (5, 1), (9, 1)],\n",
              " [(0, 1), (5, 1)],\n",
              " [(5, 1), (14, 1), (37, 1)],\n",
              " [(31, 1), (35, 1)],\n",
              " [(3, 1), (12, 1)],\n",
              " [(3, 1)],\n",
              " [(2, 2)],\n",
              " [(8, 1), (29, 1)],\n",
              " [(5, 1), (38, 1), (39, 1)],\n",
              " [(3, 1)],\n",
              " [(3, 1), (29, 1)],\n",
              " [(15, 1)],\n",
              " [(2, 1)],\n",
              " [(3, 1)],\n",
              " [(12, 1)],\n",
              " [(5, 1), (9, 1)],\n",
              " [(31, 1), (35, 1)],\n",
              " [(5, 1), (12, 1)],\n",
              " [(3, 1)],\n",
              " [(31, 1)],\n",
              " [(2, 1), (19, 1)],\n",
              " [(31, 1)],\n",
              " [(12, 1)],\n",
              " [(3, 1)],\n",
              " [(12, 1)],\n",
              " [(5, 1), (12, 1)],\n",
              " [(35, 1)],\n",
              " [(3, 1)],\n",
              " [(5, 1)],\n",
              " [(5, 1)],\n",
              " [(26, 1)],\n",
              " [(26, 1)],\n",
              " [(26, 1)],\n",
              " [(3, 1), (12, 1)],\n",
              " [(2, 1), (3, 1)],\n",
              " [(5, 1), (9, 1)],\n",
              " [(30, 1)],\n",
              " [(24, 1), (40, 1)],\n",
              " [(5, 1), (14, 1)],\n",
              " [(3, 1), (19, 1)],\n",
              " [(5, 1), (12, 1)],\n",
              " [(3, 1)]]"
            ]
          },
          "metadata": {},
          "execution_count": 228
        }
      ]
    },
    {
      "cell_type": "code",
      "source": [
        "#mapped_corpus\n",
        "#index와 해당 word match"
      ],
      "metadata": {
        "id": "K84kuXUvZTZd",
        "colab": {
          "base_uri": "https://localhost:8080/"
        },
        "outputId": "1b9e4e36-826f-42d3-fa5c-6f48be8e2a92"
      },
      "execution_count": null,
      "outputs": [
        {
          "output_type": "stream",
          "name": "stderr",
          "text": [
            "/usr/local/lib/python3.10/dist-packages/ipykernel/ipkernel.py:283: DeprecationWarning: `should_run_async` will not call `transform_cell` automatically in the future. Please pass the result to `transformed_cell` argument and any exception that happen during thetransform in `preprocessing_exc_tuple` in IPython 7.17 and above.\n",
            "  and should_run_async(code)\n"
          ]
        }
      ]
    },
    {
      "cell_type": "code",
      "source": [
        "lda_model = LdaModel(corpus, num_topics=3, id2word=dictionary, passes=15) # training 횟수 passes를 10으로 설정함"
      ],
      "metadata": {
        "id": "gOsLrFVSWNoH",
        "colab": {
          "base_uri": "https://localhost:8080/"
        },
        "outputId": "8ce390a4-e79c-483e-d13e-c6d6e601b013"
      },
      "execution_count": null,
      "outputs": [
        {
          "output_type": "stream",
          "name": "stderr",
          "text": [
            "/usr/local/lib/python3.10/dist-packages/ipykernel/ipkernel.py:283: DeprecationWarning: `should_run_async` will not call `transform_cell` automatically in the future. Please pass the result to `transformed_cell` argument and any exception that happen during thetransform in `preprocessing_exc_tuple` in IPython 7.17 and above.\n",
            "  and should_run_async(code)\n"
          ]
        }
      ]
    },
    {
      "cell_type": "code",
      "source": [
        "dict(dictionary)"
      ],
      "metadata": {
        "colab": {
          "base_uri": "https://localhost:8080/"
        },
        "id": "YqCAXg0ftjpS",
        "outputId": "efc7735a-368c-494a-cf27-a98d927c8116"
      },
      "execution_count": null,
      "outputs": [
        {
          "output_type": "stream",
          "name": "stderr",
          "text": [
            "/usr/local/lib/python3.10/dist-packages/ipykernel/ipkernel.py:283: DeprecationWarning: `should_run_async` will not call `transform_cell` automatically in the future. Please pass the result to `transformed_cell` argument and any exception that happen during thetransform in `preprocessing_exc_tuple` in IPython 7.17 and above.\n",
            "  and should_run_async(code)\n"
          ]
        },
        {
          "output_type": "execute_result",
          "data": {
            "text/plain": [
              "{0: '식감',\n",
              " 1: '느낌',\n",
              " 2: '음식',\n",
              " 3: '묘사',\n",
              " 4: '이미지',\n",
              " 5: '표현',\n",
              " 6: '단어',\n",
              " 7: '재료',\n",
              " 8: '생각',\n",
              " 9: '시각',\n",
              " 10: '설명',\n",
              " 11: '특징',\n",
              " 12: '냄새',\n",
              " 13: '흥미',\n",
              " 14: '감정',\n",
              " 15: '종류',\n",
              " 16: '창의',\n",
              " 17: '문장',\n",
              " 18: '이유',\n",
              " 19: '질감',\n",
              " 20: '조합',\n",
              " 21: '문법',\n",
              " 22: '오류',\n",
              " 23: '비유',\n",
              " 24: '방법',\n",
              " 25: '효과',\n",
              " 26: '내용',\n",
              " 27: '향기',\n",
              " 28: '모습',\n",
              " 29: '작성',\n",
              " 30: '전개',\n",
              " 31: '모양',\n",
              " 32: '생김새',\n",
              " 33: '형용사',\n",
              " 34: '색감',\n",
              " 35: '색깔',\n",
              " 36: '크기',\n",
              " 37: '주제',\n",
              " 38: '감각',\n",
              " 39: '효율',\n",
              " 40: '구조'}"
            ]
          },
          "metadata": {},
          "execution_count": 231
        }
      ]
    },
    {
      "cell_type": "code",
      "source": [
        "import pyLDAvis;\n",
        "import pyLDAvis.gensim_models;\n",
        "\n",
        "pyLDAvis.enable_notebook()\n",
        "visualization = pyLDAvis.gensim_models.prepare(lda_model, corpus, dictionary)\n",
        "pyLDAvis.display(visualization)"
      ],
      "metadata": {
        "colab": {
          "base_uri": "https://localhost:8080/",
          "height": 915
        },
        "id": "5OGj5NkiZr_L",
        "outputId": "4940e036-5f46-44d8-abcb-71a1c443fae5"
      },
      "execution_count": null,
      "outputs": [
        {
          "output_type": "stream",
          "name": "stderr",
          "text": [
            "/usr/local/lib/python3.10/dist-packages/ipykernel/ipkernel.py:283: DeprecationWarning: `should_run_async` will not call `transform_cell` automatically in the future. Please pass the result to `transformed_cell` argument and any exception that happen during thetransform in `preprocessing_exc_tuple` in IPython 7.17 and above.\n",
            "  and should_run_async(code)\n"
          ]
        },
        {
          "output_type": "execute_result",
          "data": {
            "text/plain": [
              "<IPython.core.display.HTML object>"
            ],
            "text/html": [
              "\n",
              "<link rel=\"stylesheet\" type=\"text/css\" href=\"https://cdn.jsdelivr.net/gh/bmabey/pyLDAvis@3.4.0/pyLDAvis/js/ldavis.v1.0.0.css\">\n",
              "\n",
              "\n",
              "<div id=\"ldavis_el208731365522674700327864595577\" style=\"background-color:white;\"></div>\n",
              "<script type=\"text/javascript\">\n",
              "\n",
              "var ldavis_el208731365522674700327864595577_data = {\"mdsDat\": {\"x\": [-0.12324811161705503, -0.17011361852632323, 0.29336173014337824], \"y\": [0.18929907057285242, -0.1701576061447789, -0.01914146442807352], \"topics\": [1, 2, 3], \"cluster\": [1, 1, 1], \"Freq\": [40.59230223933003, 38.544756284377044, 20.86294147629292]}, \"tinfo\": {\"Term\": [\"\\ubb18\\uc0ac\", \"\\uc74c\\uc2dd\", \"\\ub0c4\\uc0c8\", \"\\ud45c\\ud604\", \"\\uc124\\uba85\", \"\\ubaa8\\uc591\", \"\\uc2dc\\uac01\", \"\\uc791\\uc131\", \"\\uc9c8\\uac10\", \"\\ubc29\\ubc95\", \"\\ub0b4\\uc6a9\", \"\\uc2dd\\uac10\", \"\\uc7ac\\ub8cc\", \"\\ubb38\\uc7a5\", \"\\uc0dd\\uac01\", \"\\ub2e8\\uc5b4\", \"\\uac10\\uc815\", \"\\ud2b9\\uc9d5\", \"\\uc0c9\\uae54\", \"\\uc870\\ud569\", \"\\ub290\\ub08c\", \"\\uc624\\ub958\", \"\\ubb38\\ubc95\", \"\\ud6a8\\uacfc\", \"\\uac10\\uac01\", \"\\ud6a8\\uc728\", \"\\uad6c\\uc870\", \"\\uc8fc\\uc81c\", \"\\ud06c\\uae30\", \"\\uc885\\ub958\", \"\\ub0c4\\uc0c8\", \"\\ub0b4\\uc6a9\", \"\\uc0dd\\uac01\", \"\\uc0c9\\uae54\", \"\\ud06c\\uae30\", \"\\uc2dd\\uac10\", \"\\ub290\\ub08c\", \"\\ube44\\uc720\", \"\\uc804\\uac1c\", \"\\ud45c\\ud604\", \"\\uc0c9\\uac10\", \"\\ud615\\uc6a9\\uc0ac\", \"\\ub2e8\\uc5b4\", \"\\ubaa8\\uc2b5\", \"\\uc774\\uc720\", \"\\uc0dd\\uae40\\uc0c8\", \"\\ucc3d\\uc758\", \"\\ud5a5\\uae30\", \"\\uc774\\ubbf8\\uc9c0\", \"\\uad6c\\uc870\", \"\\uac10\\uac01\", \"\\ud6a8\\uc728\", \"\\ud6a8\\uacfc\", \"\\ubb38\\ubc95\", \"\\uc624\\ub958\", \"\\uc870\\ud569\", \"\\ud2b9\\uc9d5\", \"\\uc885\\ub958\", \"\\uc8fc\\uc81c\", \"\\ud765\\ubbf8\", \"\\ubb18\\uc0ac\", \"\\uc791\\uc131\", \"\\ubaa8\\uc591\", \"\\ubc29\\ubc95\", \"\\uc2dc\\uac01\", \"\\ubb38\\uc7a5\", \"\\uc7ac\\ub8cc\", \"\\uac10\\uc815\", \"\\uc124\\uba85\", \"\\ubb18\\uc0ac\", \"\\uc2dc\\uac01\", \"\\uc7ac\\ub8cc\", \"\\uac10\\uc815\", \"\\uc8fc\\uc81c\", \"\\uc885\\ub958\", \"\\ud765\\ubbf8\", \"\\ubaa8\\uc2b5\", \"\\uc774\\ubbf8\\uc9c0\", \"\\ucc3d\\uc758\", \"\\ud5a5\\uae30\", \"\\uc0dd\\uae40\\uc0c8\", \"\\uc774\\uc720\", \"\\ub2e8\\uc5b4\", \"\\ud45c\\ud604\", \"\\ud615\\uc6a9\\uc0ac\", \"\\uc0c9\\uac10\", \"\\uc870\\ud569\", \"\\ud6a8\\uacfc\", \"\\uad6c\\uc870\", \"\\ud6a8\\uc728\", \"\\uac10\\uac01\", \"\\ubb38\\ubc95\", \"\\uc624\\ub958\", \"\\uc804\\uac1c\", \"\\ube44\\uc720\", \"\\ud2b9\\uc9d5\", \"\\ubb38\\uc7a5\", \"\\ud06c\\uae30\", \"\\ubc29\\ubc95\", \"\\uc9c8\\uac10\", \"\\uc2dd\\uac10\", \"\\ub0c4\\uc0c8\", \"\\uc791\\uc131\", \"\\uc74c\\uc2dd\", \"\\ubaa8\\uc591\", \"\\uc0dd\\uac01\", \"\\ub0b4\\uc6a9\", \"\\ub290\\ub08c\", \"\\uc0c9\\uae54\", \"\\uc74c\\uc2dd\", \"\\uc124\\uba85\", \"\\ubaa8\\uc591\", \"\\uc791\\uc131\", \"\\uc9c8\\uac10\", \"\\ubc29\\ubc95\", \"\\ubb38\\uc7a5\", \"\\ud2b9\\uc9d5\", \"\\uc870\\ud569\", \"\\uc624\\ub958\", \"\\ubb38\\ubc95\", \"\\ud6a8\\uacfc\", \"\\uac10\\uac01\", \"\\ud6a8\\uc728\", \"\\uad6c\\uc870\", \"\\ud615\\uc6a9\\uc0ac\", \"\\uc0c9\\uac10\", \"\\uc774\\uc720\", \"\\uc0dd\\uae40\\uc0c8\", \"\\ud5a5\\uae30\", \"\\ucc3d\\uc758\", \"\\uc774\\ubbf8\\uc9c0\", \"\\uc2dd\\uac10\", \"\\ub290\\ub08c\", \"\\uc804\\uac1c\", \"\\ube44\\uc720\", \"\\ubaa8\\uc2b5\", \"\\ud765\\ubbf8\", \"\\uc885\\ub958\", \"\\uc8fc\\uc81c\", \"\\uc0c9\\uae54\", \"\\ud45c\\ud604\", \"\\ubb18\\uc0ac\", \"\\uc0dd\\uac01\", \"\\uc2dc\\uac01\", \"\\ub0b4\\uc6a9\", \"\\ub2e8\\uc5b4\", \"\\ub0c4\\uc0c8\"], \"Freq\": [57.0, 14.0, 27.0, 83.0, 9.0, 9.0, 16.0, 6.0, 6.0, 6.0, 13.0, 18.0, 11.0, 5.0, 9.0, 28.0, 7.0, 3.0, 7.0, 3.0, 8.0, 2.0, 2.0, 2.0, 2.0, 2.0, 2.0, 3.0, 4.0, 3.0, 26.79535653576511, 12.32507420757265, 9.093055665922613, 6.600876092718851, 3.4830454365335375, 14.341601559982044, 6.7822323163514975, 1.871443961898299, 1.8708005091835538, 56.85346705688196, 1.069870722662281, 1.068331659522835, 13.55617321068114, 0.47970763002091693, 0.2701672458276609, 0.2700432288316075, 0.2690988592615985, 0.2690959192035024, 0.2688001379042636, 0.30019089000953464, 0.27455249520827546, 0.27455148337009955, 0.2684805306796746, 0.268489923592553, 0.26848354710291605, 0.26926281522867157, 0.26868308922772366, 0.27051373358341413, 0.2690693059503469, 0.26980766144947954, 0.590608492351636, 0.31594629861206086, 0.32465652618232016, 0.30195179389623145, 0.2921953256520622, 0.27384737763865774, 0.2730062728364525, 0.2714365681824335, 0.27067809046750035, 56.47691625343424, 15.805472020698607, 10.354999238697477, 6.698876666799229, 3.0452354950753406, 3.038757169780859, 2.9551425404573166, 1.8901820008576407, 1.216749427062471, 1.2163594513132687, 1.2153688490987187, 1.2106305494788105, 1.2102534085580965, 14.459174216035333, 26.34837778930321, 0.3064645236380741, 0.3060215045157701, 0.4988361235959381, 0.31154950865347036, 0.30560897717526975, 0.3054766769234253, 0.30545553933865544, 0.3051350674488081, 0.30513292831072675, 0.3072154336177808, 0.3069316896410928, 0.3053663481576367, 0.4893168503642279, 0.3062048902855232, 0.3822473696234653, 0.3686030405262171, 0.35116119748592006, 0.3309389462753863, 0.31455311231571975, 0.315704113629793, 0.3098324333925495, 0.30927473471513894, 0.30926469164313, 0.3089784459625841, 0.30739997959801874, 13.454556686845418, 8.711496574410935, 8.62630519839991, 6.255888239831771, 6.255231998904656, 6.188561060618495, 4.902323191636982, 2.771932474983271, 2.519578323365303, 1.5839597770380252, 1.5839476883893677, 1.575619865427926, 1.5745697229491047, 1.5745438187019818, 1.536501312363502, 0.4008438899351799, 0.3991509296391161, 0.404918941998497, 0.40461205516780835, 0.3998631001907013, 0.39857401065660014, 0.3985088575502, 3.321343972972469, 1.466858136461995, 0.4032121661039676, 0.4026323427058652, 0.40018823774095386, 0.5144952025410083, 0.4047753304224016, 0.398500222801159, 0.5482022798837257, 0.6371774421733705, 0.5961655633862724, 0.4306041804866982, 0.41795745229925024, 0.41130763581848795, 0.40595436615508945, 0.40521268046132775], \"Total\": [57.0, 14.0, 27.0, 83.0, 9.0, 9.0, 16.0, 6.0, 6.0, 6.0, 13.0, 18.0, 11.0, 5.0, 9.0, 28.0, 7.0, 3.0, 7.0, 3.0, 8.0, 2.0, 2.0, 2.0, 2.0, 2.0, 2.0, 3.0, 4.0, 3.0, 27.531508162501822, 13.045646535034267, 9.83293458112445, 7.4564783522005955, 4.189686342608631, 18.01410673044043, 8.558068898776076, 2.581007994245257, 2.581228108905302, 83.83902228835854, 1.7750431568171672, 1.7756400730960888, 28.421301792871564, 2.7700778686195116, 1.8853395963842545, 1.8852858334782263, 1.8840323212314671, 1.8843278684929223, 1.8840584225169346, 2.1423011795483067, 2.1545777574960354, 2.1545719789955067, 2.155649904761071, 2.1575726794307286, 2.157576252451668, 3.287677262189913, 3.3459819123686314, 3.714046233786675, 3.7128050238268466, 3.739445404447804, 57.663690309172146, 6.886387650759552, 9.26079415797478, 6.872760224138192, 16.51562479864992, 5.6654874196398675, 11.027672916912275, 7.3704193248601495, 9.287807861447575, 57.663690309172146, 16.51562479864992, 11.027672916912275, 7.3704193248601495, 3.7128050238268466, 3.714046233786675, 3.739445404447804, 2.7700778686195116, 1.8840584225169346, 1.8840323212314671, 1.8843278684929223, 1.8852858334782263, 1.8853395963842545, 28.421301792871564, 83.83902228835854, 1.7756400730960888, 1.7750431568171672, 3.287677262189913, 2.155649904761071, 2.1423011795483067, 2.1545719789955067, 2.1545777574960354, 2.1575726794307286, 2.157576252451668, 2.581228108905302, 2.581007994245257, 3.3459819123686314, 5.6654874196398675, 4.189686342608631, 6.872760224138192, 6.892660263285386, 18.01410673044043, 27.531508162501822, 6.886387650759552, 14.039676212355584, 9.26079415797478, 9.83293458112445, 13.045646535034267, 8.558068898776076, 7.4564783522005955, 14.039676212355584, 9.287807861447575, 9.26079415797478, 6.886387650759552, 6.892660263285386, 6.872760224138192, 5.6654874196398675, 3.3459819123686314, 3.287677262189913, 2.157576252451668, 2.1575726794307286, 2.155649904761071, 2.1545777574960354, 2.1545719789955067, 2.1423011795483067, 1.7756400730960888, 1.7750431568171672, 1.8853395963842545, 1.8852858334782263, 1.8843278684929223, 1.8840323212314671, 1.8840584225169346, 18.01410673044043, 8.558068898776076, 2.581228108905302, 2.581007994245257, 2.7700778686195116, 3.739445404447804, 3.714046233786675, 3.7128050238268466, 7.4564783522005955, 83.83902228835854, 57.663690309172146, 9.83293458112445, 16.51562479864992, 13.045646535034267, 28.421301792871564, 27.531508162501822], \"Category\": [\"Default\", \"Default\", \"Default\", \"Default\", \"Default\", \"Default\", \"Default\", \"Default\", \"Default\", \"Default\", \"Default\", \"Default\", \"Default\", \"Default\", \"Default\", \"Default\", \"Default\", \"Default\", \"Default\", \"Default\", \"Default\", \"Default\", \"Default\", \"Default\", \"Default\", \"Default\", \"Default\", \"Default\", \"Default\", \"Default\", \"Topic1\", \"Topic1\", \"Topic1\", \"Topic1\", \"Topic1\", \"Topic1\", \"Topic1\", \"Topic1\", \"Topic1\", \"Topic1\", \"Topic1\", \"Topic1\", \"Topic1\", \"Topic1\", \"Topic1\", \"Topic1\", \"Topic1\", \"Topic1\", \"Topic1\", \"Topic1\", \"Topic1\", \"Topic1\", \"Topic1\", \"Topic1\", \"Topic1\", \"Topic1\", \"Topic1\", \"Topic1\", \"Topic1\", \"Topic1\", \"Topic1\", \"Topic1\", \"Topic1\", \"Topic1\", \"Topic1\", \"Topic1\", \"Topic1\", \"Topic1\", \"Topic1\", \"Topic2\", \"Topic2\", \"Topic2\", \"Topic2\", \"Topic2\", \"Topic2\", \"Topic2\", \"Topic2\", \"Topic2\", \"Topic2\", \"Topic2\", \"Topic2\", \"Topic2\", \"Topic2\", \"Topic2\", \"Topic2\", \"Topic2\", \"Topic2\", \"Topic2\", \"Topic2\", \"Topic2\", \"Topic2\", \"Topic2\", \"Topic2\", \"Topic2\", \"Topic2\", \"Topic2\", \"Topic2\", \"Topic2\", \"Topic2\", \"Topic2\", \"Topic2\", \"Topic2\", \"Topic2\", \"Topic2\", \"Topic2\", \"Topic2\", \"Topic2\", \"Topic2\", \"Topic2\", \"Topic3\", \"Topic3\", \"Topic3\", \"Topic3\", \"Topic3\", \"Topic3\", \"Topic3\", \"Topic3\", \"Topic3\", \"Topic3\", \"Topic3\", \"Topic3\", \"Topic3\", \"Topic3\", \"Topic3\", \"Topic3\", \"Topic3\", \"Topic3\", \"Topic3\", \"Topic3\", \"Topic3\", \"Topic3\", \"Topic3\", \"Topic3\", \"Topic3\", \"Topic3\", \"Topic3\", \"Topic3\", \"Topic3\", \"Topic3\", \"Topic3\", \"Topic3\", \"Topic3\", \"Topic3\", \"Topic3\", \"Topic3\", \"Topic3\", \"Topic3\"], \"logprob\": [30.0, 29.0, 28.0, 27.0, 26.0, 25.0, 24.0, 23.0, 22.0, 21.0, 20.0, 19.0, 18.0, 17.0, 16.0, 15.0, 14.0, 13.0, 12.0, 11.0, 10.0, 9.0, 8.0, 7.0, 6.0, 5.0, 4.0, 3.0, 2.0, 1.0, -1.8116, -2.5882, -2.8923, -3.2126, -3.8519, -2.4367, -3.1855, -4.4731, -4.4735, -1.0593, -5.0323, -5.0337, -2.493, -5.8344, -6.4085, -6.409, -6.4125, -6.4125, -6.4136, -6.3032, -6.3924, -6.3924, -6.4148, -6.4148, -6.4148, -6.4119, -6.414, -6.4073, -6.4126, -6.4099, -5.6264, -6.252, -6.2248, -6.2973, -6.3302, -6.395, -6.3981, -6.4038, -6.4066, -1.0142, -2.2877, -2.7106, -3.1461, -3.9345, -3.9366, -3.9645, -4.4114, -4.8519, -4.8522, -4.853, -4.8569, -4.8572, -2.3767, -1.7767, -6.2307, -6.2322, -5.7435, -6.2143, -6.2335, -6.2339, -6.234, -6.2351, -6.2351, -6.2283, -6.2292, -6.2343, -5.7628, -6.2316, -6.0098, -6.0461, -6.0946, -6.1539, -6.2047, -6.201, -6.2198, -6.2216, -6.2216, -6.2225, -6.2277, -1.8349, -2.2696, -2.2794, -2.6007, -2.6008, -2.6115, -2.8445, -3.4147, -3.5101, -3.9743, -3.9743, -3.9796, -3.9802, -3.9803, -4.0047, -5.3484, -5.3526, -5.3383, -5.339, -5.3509, -5.3541, -5.3542, -3.2338, -4.0511, -5.3425, -5.344, -5.35, -5.0988, -5.3386, -5.3543, -5.0353, -4.8849, -4.9515, -5.2768, -5.3066, -5.3226, -5.3357, -5.3376], \"loglift\": [30.0, 29.0, 28.0, 27.0, 26.0, 25.0, 24.0, 23.0, 22.0, 21.0, 20.0, 19.0, 18.0, 17.0, 16.0, 15.0, 14.0, 13.0, 12.0, 11.0, 10.0, 9.0, 8.0, 7.0, 6.0, 5.0, 4.0, 3.0, 2.0, 1.0, 0.8745, 0.8448, 0.8234, 0.7797, 0.7169, 0.6736, 0.669, 0.5801, 0.5797, 0.5132, 0.3953, 0.3935, 0.1613, -0.8519, -1.0412, -1.0417, -1.0445, -1.0447, -1.0456, -1.0636, -1.1586, -1.1586, -1.1815, -1.1823, -1.1824, -1.6007, -1.6204, -1.718, -1.723, -1.7274, -3.6796, -2.1801, -2.4492, -2.2235, -3.133, -2.128, -2.7971, -2.3999, -2.6339, 0.9326, 0.9094, 0.8904, 0.8578, 0.7551, 0.7527, 0.718, 0.5711, 0.5161, 0.5158, 0.5148, 0.5104, 0.5101, 0.2775, -0.2041, -0.8035, -0.8046, -0.9323, -0.9809, -0.994, -1.0001, -1.0002, -1.0026, -1.0026, -1.1751, -1.176, -1.4407, -1.4958, -1.6628, -1.9359, -1.9751, -2.9843, -3.4678, -2.1328, -2.8415, -2.4442, -2.5059, -2.7887, -2.368, -2.2353, 1.5246, 1.5031, 1.4962, 1.4712, 1.4702, 1.4623, 1.4225, 1.379, 1.3011, 1.2581, 1.2581, 1.2538, 1.2536, 1.2536, 1.2348, 0.0789, 0.075, 0.029, 0.0283, 0.017, 0.0139, 0.0137, -0.1236, -0.1966, -0.2894, -0.2907, -0.3675, -0.4163, -0.6493, -0.6646, -1.043, -3.3124, -3.0047, -1.5611, -2.1095, -1.8897, -2.6815, -2.6515]}, \"token.table\": {\"Topic\": [3, 2, 3, 1, 1, 1, 3, 1, 2, 2, 3, 1, 2, 3, 3, 3, 3, 1, 1, 1, 3, 1, 2, 3, 2, 1, 3, 3, 3, 2, 2, 3, 2, 1, 3, 2, 2, 3, 2, 1, 3, 1, 2, 3, 2, 1, 3, 3, 2, 3], \"Freq\": [0.9282561249143871, 0.9497424354662239, 0.933575549083948, 0.9198470898145087, 0.9806945497004868, 0.8179415336327917, 0.11684879051897024, 0.4925882741764976, 0.4925882741764976, 0.7220013641698507, 0.9718388991779715, 0.017341935534100517, 0.9711483899096289, 0.017341935534100517, 0.9269676146101814, 0.8825365991754034, 0.8730116873460937, 0.7748910520460607, 0.5633665841641291, 0.9387809726469766, 0.13411156752099665, 0.9152913533337879, 0.5304235475822077, 0.9690122937790061, 0.9687795766169216, 0.7771687050317432, 0.1665361510782307, 0.9269660795197328, 0.9259472799350872, 0.53076910357381, 0.5304084218661836, 0.8712840903370019, 0.9068096302225093, 0.7748249730815923, 0.912498326554629, 0.8077443874308841, 0.8080144205654658, 0.8704911849434606, 0.5307764568212748, 0.7160440554917782, 0.8965977935834956, 0.6798743406614695, 0.3101181203017229, 0.011927620011604727, 0.530693207228207, 0.563177197423999, 0.927794441751745, 0.9282586144708099, 0.8022580023314991, 0.26741933411049973], \"Term\": [\"\\uac10\\uac01\", \"\\uac10\\uc815\", \"\\uad6c\\uc870\", \"\\ub0b4\\uc6a9\", \"\\ub0c4\\uc0c8\", \"\\ub290\\ub08c\", \"\\ub290\\ub08c\", \"\\ub2e8\\uc5b4\", \"\\ub2e8\\uc5b4\", \"\\ubaa8\\uc2b5\", \"\\ubaa8\\uc591\", \"\\ubb18\\uc0ac\", \"\\ubb18\\uc0ac\", \"\\ubb18\\uc0ac\", \"\\ubb38\\ubc95\", \"\\ubb38\\uc7a5\", \"\\ubc29\\ubc95\", \"\\ube44\\uc720\", \"\\uc0c9\\uac10\", \"\\uc0c9\\uae54\", \"\\uc0c9\\uae54\", \"\\uc0dd\\uac01\", \"\\uc0dd\\uae40\\uc0c8\", \"\\uc124\\uba85\", \"\\uc2dc\\uac01\", \"\\uc2dd\\uac10\", \"\\uc2dd\\uac10\", \"\\uc624\\ub958\", \"\\uc74c\\uc2dd\", \"\\uc774\\ubbf8\\uc9c0\", \"\\uc774\\uc720\", \"\\uc791\\uc131\", \"\\uc7ac\\ub8cc\", \"\\uc804\\uac1c\", \"\\uc870\\ud569\", \"\\uc885\\ub958\", \"\\uc8fc\\uc81c\", \"\\uc9c8\\uac10\", \"\\ucc3d\\uc758\", \"\\ud06c\\uae30\", \"\\ud2b9\\uc9d5\", \"\\ud45c\\ud604\", \"\\ud45c\\ud604\", \"\\ud45c\\ud604\", \"\\ud5a5\\uae30\", \"\\ud615\\uc6a9\\uc0ac\", \"\\ud6a8\\uacfc\", \"\\ud6a8\\uc728\", \"\\ud765\\ubbf8\", \"\\ud765\\ubbf8\"]}, \"R\": 30, \"lambda.step\": 0.01, \"plot.opts\": {\"xlab\": \"PC1\", \"ylab\": \"PC2\"}, \"topic.order\": [1, 2, 3]};\n",
              "\n",
              "function LDAvis_load_lib(url, callback){\n",
              "  var s = document.createElement('script');\n",
              "  s.src = url;\n",
              "  s.async = true;\n",
              "  s.onreadystatechange = s.onload = callback;\n",
              "  s.onerror = function(){console.warn(\"failed to load library \" + url);};\n",
              "  document.getElementsByTagName(\"head\")[0].appendChild(s);\n",
              "}\n",
              "\n",
              "if(typeof(LDAvis) !== \"undefined\"){\n",
              "   // already loaded: just create the visualization\n",
              "   !function(LDAvis){\n",
              "       new LDAvis(\"#\" + \"ldavis_el208731365522674700327864595577\", ldavis_el208731365522674700327864595577_data);\n",
              "   }(LDAvis);\n",
              "}else if(typeof define === \"function\" && define.amd){\n",
              "   // require.js is available: use it to load d3/LDAvis\n",
              "   require.config({paths: {d3: \"https://d3js.org/d3.v5\"}});\n",
              "   require([\"d3\"], function(d3){\n",
              "      window.d3 = d3;\n",
              "      LDAvis_load_lib(\"https://cdn.jsdelivr.net/gh/bmabey/pyLDAvis@3.4.0/pyLDAvis/js/ldavis.v3.0.0.js\", function(){\n",
              "        new LDAvis(\"#\" + \"ldavis_el208731365522674700327864595577\", ldavis_el208731365522674700327864595577_data);\n",
              "      });\n",
              "    });\n",
              "}else{\n",
              "    // require.js not available: dynamically load d3 & LDAvis\n",
              "    LDAvis_load_lib(\"https://d3js.org/d3.v5.js\", function(){\n",
              "         LDAvis_load_lib(\"https://cdn.jsdelivr.net/gh/bmabey/pyLDAvis@3.4.0/pyLDAvis/js/ldavis.v3.0.0.js\", function(){\n",
              "                 new LDAvis(\"#\" + \"ldavis_el208731365522674700327864595577\", ldavis_el208731365522674700327864595577_data);\n",
              "            })\n",
              "         });\n",
              "}\n",
              "</script>"
            ]
          },
          "metadata": {},
          "execution_count": 232
        }
      ]
    },
    {
      "cell_type": "code",
      "source": [
        "!pip install pyLDAvis\n"
      ],
      "metadata": {
        "colab": {
          "base_uri": "https://localhost:8080/"
        },
        "id": "6oQ-FZFpZp31",
        "outputId": "2ecb276f-980a-4e82-acce-7328b7042291",
        "collapsed": true
      },
      "execution_count": null,
      "outputs": [
        {
          "output_type": "stream",
          "name": "stderr",
          "text": [
            "/usr/local/lib/python3.10/dist-packages/ipykernel/ipkernel.py:283: DeprecationWarning: `should_run_async` will not call `transform_cell` automatically in the future. Please pass the result to `transformed_cell` argument and any exception that happen during thetransform in `preprocessing_exc_tuple` in IPython 7.17 and above.\n",
            "  and should_run_async(code)\n"
          ]
        },
        {
          "output_type": "stream",
          "name": "stdout",
          "text": [
            "Requirement already satisfied: pyLDAvis in /usr/local/lib/python3.10/dist-packages (3.4.1)\n",
            "Requirement already satisfied: numpy>=1.24.2 in /usr/local/lib/python3.10/dist-packages (from pyLDAvis) (1.26.4)\n",
            "Requirement already satisfied: scipy in /usr/local/lib/python3.10/dist-packages (from pyLDAvis) (1.13.1)\n",
            "Requirement already satisfied: pandas>=2.0.0 in /usr/local/lib/python3.10/dist-packages (from pyLDAvis) (2.2.2)\n",
            "Requirement already satisfied: joblib>=1.2.0 in /usr/local/lib/python3.10/dist-packages (from pyLDAvis) (1.4.2)\n",
            "Requirement already satisfied: jinja2 in /usr/local/lib/python3.10/dist-packages (from pyLDAvis) (3.1.4)\n",
            "Requirement already satisfied: numexpr in /usr/local/lib/python3.10/dist-packages (from pyLDAvis) (2.10.2)\n",
            "Requirement already satisfied: funcy in /usr/local/lib/python3.10/dist-packages (from pyLDAvis) (2.0)\n",
            "Requirement already satisfied: scikit-learn>=1.0.0 in /usr/local/lib/python3.10/dist-packages (from pyLDAvis) (1.6.0)\n",
            "Requirement already satisfied: gensim in /usr/local/lib/python3.10/dist-packages (from pyLDAvis) (4.3.3)\n",
            "Requirement already satisfied: setuptools in /usr/local/lib/python3.10/dist-packages (from pyLDAvis) (75.1.0)\n",
            "Requirement already satisfied: python-dateutil>=2.8.2 in /usr/local/lib/python3.10/dist-packages (from pandas>=2.0.0->pyLDAvis) (2.8.2)\n",
            "Requirement already satisfied: pytz>=2020.1 in /usr/local/lib/python3.10/dist-packages (from pandas>=2.0.0->pyLDAvis) (2024.2)\n",
            "Requirement already satisfied: tzdata>=2022.7 in /usr/local/lib/python3.10/dist-packages (from pandas>=2.0.0->pyLDAvis) (2024.2)\n",
            "Requirement already satisfied: threadpoolctl>=3.1.0 in /usr/local/lib/python3.10/dist-packages (from scikit-learn>=1.0.0->pyLDAvis) (3.5.0)\n",
            "Requirement already satisfied: smart-open>=1.8.1 in /usr/local/lib/python3.10/dist-packages (from gensim->pyLDAvis) (7.1.0)\n",
            "Requirement already satisfied: MarkupSafe>=2.0 in /usr/local/lib/python3.10/dist-packages (from jinja2->pyLDAvis) (3.0.2)\n",
            "Requirement already satisfied: six>=1.5 in /usr/local/lib/python3.10/dist-packages (from python-dateutil>=2.8.2->pandas>=2.0.0->pyLDAvis) (1.17.0)\n",
            "Requirement already satisfied: wrapt in /usr/local/lib/python3.10/dist-packages (from smart-open>=1.8.1->gensim->pyLDAvis) (1.17.0)\n"
          ]
        }
      ]
    },
    {
      "cell_type": "code",
      "source": [],
      "metadata": {
        "id": "6JUHG-biihD_"
      },
      "execution_count": null,
      "outputs": []
    },
    {
      "cell_type": "code",
      "source": [
        "lda_model = LdaModel(corpus, num_topics=5, id2word=dictionary, passes=15) # training 횟수 passes를 10으로 설정함, 토픽을 5개로 설정함"
      ],
      "metadata": {
        "colab": {
          "base_uri": "https://localhost:8080/"
        },
        "id": "yu18lZMCZwXU",
        "outputId": "b10b013d-7741-4ab6-eca6-12dd4214b3d8"
      },
      "execution_count": null,
      "outputs": [
        {
          "output_type": "stream",
          "name": "stderr",
          "text": [
            "/usr/local/lib/python3.10/dist-packages/ipykernel/ipkernel.py:283: DeprecationWarning: `should_run_async` will not call `transform_cell` automatically in the future. Please pass the result to `transformed_cell` argument and any exception that happen during thetransform in `preprocessing_exc_tuple` in IPython 7.17 and above.\n",
            "  and should_run_async(code)\n"
          ]
        }
      ]
    },
    {
      "cell_type": "code",
      "source": [
        "for n, topic in lda_model.print_topics():\n",
        "    print(n)\n",
        "    topic = [freq_word.split(\"*\") for freq_word in topic.split(\" + \")]\n",
        "    print(topic)\n",
        "    topic = [[float(f), t.replace('\"', \"\").replace('\"', \"\")] for f, t in topic]\n",
        "    print(topic)\n",
        "    y,x = list(zip(*topic))\n",
        "\n",
        "    pd.DataFrame({\"word\":x, \"frequency\":y}).sort_values(by=\"frequency\",ascending=True).plot(kind=\"barh\", x=\"word\", y=\"frequency\")\n",
        "    plt.xticks(rotation=45)\n",
        "    plt.figure(figsize=(5, 1))"
      ],
      "metadata": {
        "colab": {
          "base_uri": "https://localhost:8080/",
          "height": 1000
        },
        "id": "ZR0jtjD-ZysO",
        "outputId": "3aff321a-20f5-4d06-81ae-26dc012c3a90"
      },
      "execution_count": null,
      "outputs": [
        {
          "output_type": "stream",
          "name": "stderr",
          "text": [
            "/usr/local/lib/python3.10/dist-packages/ipykernel/ipkernel.py:283: DeprecationWarning: `should_run_async` will not call `transform_cell` automatically in the future. Please pass the result to `transformed_cell` argument and any exception that happen during thetransform in `preprocessing_exc_tuple` in IPython 7.17 and above.\n",
            "  and should_run_async(code)\n"
          ]
        },
        {
          "output_type": "stream",
          "name": "stdout",
          "text": [
            "0\n",
            "[['0.393', '\"냄새\"'], ['0.230', '\"표현\"'], ['0.132', '\"묘사\"'], ['0.097', '\"색깔\"'], ['0.050', '\"크기\"'], ['0.014', '\"형용사\"'], ['0.003', '\"단어\"'], ['0.002', '\"모양\"'], ['0.002', '\"재료\"'], ['0.002', '\"내용\"']]\n",
            "[[0.393, '냄새'], [0.23, '표현'], [0.132, '묘사'], [0.097, '색깔'], [0.05, '크기'], [0.014, '형용사'], [0.003, '단어'], [0.002, '모양'], [0.002, '재료'], [0.002, '내용']]\n",
            "1\n",
            "[['0.329', '\"표현\"'], ['0.251', '\"묘사\"'], ['0.115', '\"식감\"'], ['0.098', '\"시각\"'], ['0.041', '\"감정\"'], ['0.041', '\"모양\"'], ['0.024', '\"방법\"'], ['0.018', '\"주제\"'], ['0.012', '\"모습\"'], ['0.007', '\"효율\"']]\n",
            "[[0.329, '표현'], [0.251, '묘사'], [0.115, '식감'], [0.098, '시각'], [0.041, '감정'], [0.041, '모양'], [0.024, '방법'], [0.018, '주제'], [0.012, '모습'], [0.007, '효율']]\n",
            "2\n",
            "[['0.291', '\"음식\"'], ['0.142', '\"묘사\"'], ['0.134', '\"질감\"'], ['0.083', '\"종류\"'], ['0.031', '\"이미지\"'], ['0.031', '\"오류\"'], ['0.031', '\"문법\"'], ['0.031', '\"이유\"'], ['0.031', '\"생김새\"'], ['0.031', '\"문장\"']]\n",
            "[[0.291, '음식'], [0.142, '묘사'], [0.134, '질감'], [0.083, '종류'], [0.031, '이미지'], [0.031, '오류'], [0.031, '문법'], [0.031, '이유'], [0.031, '생김새'], [0.031, '문장']]\n",
            "3\n",
            "[['0.419', '\"내용\"'], ['0.088', '\"흥미\"'], ['0.088', '\"문장\"'], ['0.061', '\"전개\"'], ['0.061', '\"조합\"'], ['0.033', '\"비유\"'], ['0.033', '\"방법\"'], ['0.033', '\"구조\"'], ['0.006', '\"묘사\"'], ['0.006', '\"모습\"']]\n",
            "[[0.419, '내용'], [0.088, '흥미'], [0.088, '문장'], [0.061, '전개'], [0.061, '조합'], [0.033, '비유'], [0.033, '방법'], [0.033, '구조'], [0.006, '묘사'], [0.006, '모습']]\n",
            "4\n",
            "[['0.292', '\"단어\"'], ['0.202', '\"표현\"'], ['0.102', '\"생각\"'], ['0.102', '\"재료\"'], ['0.084', '\"느낌\"'], ['0.065', '\"설명\"'], ['0.047', '\"작성\"'], ['0.020', '\"특징\"'], ['0.018', '\"묘사\"'], ['0.011', '\"색감\"']]\n",
            "[[0.292, '단어'], [0.202, '표현'], [0.102, '생각'], [0.102, '재료'], [0.084, '느낌'], [0.065, '설명'], [0.047, '작성'], [0.02, '특징'], [0.018, '묘사'], [0.011, '색감']]\n"
          ]
        },
        {
          "output_type": "display_data",
          "data": {
            "text/plain": [
              "<Figure size 640x480 with 1 Axes>"
            ],
            "image/png": "[encoded data removed]"
          },
          "metadata": {}
        },
        {
          "output_type": "display_data",
          "data": {
            "text/plain": [
              "<Figure size 500x100 with 0 Axes>"
            ]
          },
          "metadata": {}
        },
        {
          "output_type": "display_data",
          "data": {
            "text/plain": [
              "<Figure size 640x480 with 1 Axes>"
            ],
            "image/png": "[encoded data removed]"
          },
          "metadata": {}
        },
        {
          "output_type": "display_data",
          "data": {
            "text/plain": [
              "<Figure size 500x100 with 0 Axes>"
            ]
          },
          "metadata": {}
        },
        {
          "output_type": "display_data",
          "data": {
            "text/plain": [
              "<Figure size 640x480 with 1 Axes>"
            ],
            "image/png": "[encoded data removed]"
          },
          "metadata": {}
        },
        {
          "output_type": "display_data",
          "data": {
            "text/plain": [
              "<Figure size 500x100 with 0 Axes>"
            ]
          },
          "metadata": {}
        },
        {
          "output_type": "display_data",
          "data": {
            "text/plain": [
              "<Figure size 640x480 with 1 Axes>"
            ],
            "image/png": "[encoded data removed]"
          },
          "metadata": {}
        },
        {
          "output_type": "display_data",
          "data": {
            "text/plain": [
              "<Figure size 500x100 with 0 Axes>"
            ]
          },
          "metadata": {}
        },
        {
          "output_type": "display_data",
          "data": {
            "text/plain": [
              "<Figure size 640x480 with 1 Axes>"
            ],
            "image/png": "[encoded data removed]"
          },
          "metadata": {}
        },
        {
          "output_type": "display_data",
          "data": {
            "text/plain": [
              "<Figure size 500x100 with 0 Axes>"
            ]
          },
          "metadata": {}
        }
      ]
    },
    {
      "cell_type": "code",
      "source": [
        "# 한글을 영어로 번역\n",
        "dictionary = Dictionary(reasons2_en)\n",
        "corpus = [dictionary.doc2bow(doc) for doc in reasons2_en]\n",
        "corpus  # requency vector (0번째 단어는 id가 0인 단어가 1번)"
      ],
      "metadata": {
        "colab": {
          "base_uri": "https://localhost:8080/"
        },
        "id": "qk2c74aj4EOE",
        "outputId": "a7beb503-74fe-4831-937b-5fa0d1657f79"
      },
      "execution_count": null,
      "outputs": [
        {
          "output_type": "stream",
          "name": "stderr",
          "text": [
            "/usr/local/lib/python3.10/dist-packages/ipykernel/ipkernel.py:283: DeprecationWarning: `should_run_async` will not call `transform_cell` automatically in the future. Please pass the result to `transformed_cell` argument and any exception that happen during thetransform in `preprocessing_exc_tuple` in IPython 7.17 and above.\n",
            "  and should_run_async(code)\n"
          ]
        },
        {
          "output_type": "execute_result",
          "data": {
            "text/plain": [
              "[[(0, 1)],\n",
              " [(1, 1), (2, 1)],\n",
              " [(3, 2), (4, 1)],\n",
              " [(5, 1)],\n",
              " [(5, 1), (6, 1), (7, 1)],\n",
              " [(5, 1)],\n",
              " [(8, 1)],\n",
              " [(3, 1), (5, 1), (9, 1)],\n",
              " [(10, 1), (11, 1)],\n",
              " [(3, 1), (12, 1)],\n",
              " [(10, 1), (11, 1)],\n",
              " [(1, 1)],\n",
              " [(5, 1), (11, 1)],\n",
              " [(5, 1), (12, 1)],\n",
              " [(5, 1), (6, 1), (7, 1)],\n",
              " [(8, 1)],\n",
              " [(3, 1), (5, 1), (9, 1)],\n",
              " [(13, 1)],\n",
              " [(0, 1), (5, 1)],\n",
              " [(5, 1), (14, 1)],\n",
              " [(15, 1)],\n",
              " [(3, 1), (12, 1)],\n",
              " [(5, 1)],\n",
              " [(1, 1)],\n",
              " [(5, 2)],\n",
              " [(5, 1), (12, 1)],\n",
              " [(5, 1), (6, 1), (7, 1)],\n",
              " [(5, 1)],\n",
              " [(8, 1)],\n",
              " [(3, 1), (5, 1), (9, 1)],\n",
              " [(3, 1), (5, 1), (16, 1)],\n",
              " [(0, 1), (5, 1)],\n",
              " [(5, 1), (14, 1)],\n",
              " [(3, 1), (13, 1), (17, 1)],\n",
              " [(3, 1), (12, 1)],\n",
              " [(18, 1)],\n",
              " [(1, 1)],\n",
              " [(0, 1), (5, 1)],\n",
              " [(5, 1), (12, 1)],\n",
              " [(5, 1), (6, 1), (7, 1)],\n",
              " [(0, 1), (11, 1)],\n",
              " [(8, 1)],\n",
              " [(3, 1), (5, 1), (9, 1)],\n",
              " [(3, 1), (19, 1)],\n",
              " [(0, 1), (5, 1)],\n",
              " [(5, 1), (14, 1)],\n",
              " [(13, 1), (17, 1)],\n",
              " [(3, 1), (12, 1)],\n",
              " [(11, 1)],\n",
              " [(1, 1)],\n",
              " [(3, 2)],\n",
              " [(5, 1), (12, 1)],\n",
              " [(5, 1), (6, 1), (7, 1)],\n",
              " [(11, 1), (19, 1)],\n",
              " [(8, 1)],\n",
              " [(3, 1), (5, 1), (9, 1)],\n",
              " [(2, 1), (20, 1)],\n",
              " [(0, 1), (5, 1)],\n",
              " [(5, 1)],\n",
              " [(17, 1), (21, 1), (22, 1)],\n",
              " [(3, 1), (12, 1)],\n",
              " [(0, 1), (11, 1)],\n",
              " [(1, 1)],\n",
              " [(20, 1)],\n",
              " [(5, 1), (12, 1)],\n",
              " [(5, 1), (6, 1), (7, 1)],\n",
              " [(0, 1), (5, 1), (23, 1)],\n",
              " [(8, 1)],\n",
              " [(3, 1), (5, 1), (9, 1)],\n",
              " [(3, 1), (19, 1), (24, 1), (25, 1)],\n",
              " [(0, 1), (5, 1)],\n",
              " [(5, 1)],\n",
              " [(0, 1), (5, 1)],\n",
              " [(3, 1), (12, 1)],\n",
              " [(3, 1)],\n",
              " [(5, 1), (7, 1)],\n",
              " [(5, 1), (7, 1)],\n",
              " [(7, 1)],\n",
              " [(7, 1)],\n",
              " [(0, 1), (5, 1), (17, 1)],\n",
              " [(26, 1)],\n",
              " [(3, 1), (27, 1)],\n",
              " [(5, 1)],\n",
              " [(5, 1)],\n",
              " [(5, 1), (7, 1)],\n",
              " [(5, 1), (7, 1), (9, 1), (28, 1)],\n",
              " [(5, 1), (7, 1)],\n",
              " [(5, 1)],\n",
              " [(3, 1)],\n",
              " [(5, 1)],\n",
              " [(5, 1)],\n",
              " [(5, 1), (12, 1)],\n",
              " [(0, 1), (5, 1)],\n",
              " [(3, 1)],\n",
              " [(26, 1)],\n",
              " [(26, 1)],\n",
              " [(26, 1)],\n",
              " [(0, 1), (3, 1), (7, 1)],\n",
              " [(5, 1), (12, 1)],\n",
              " [(3, 1), (7, 1)],\n",
              " [(5, 1)],\n",
              " [(29, 1)],\n",
              " [(2, 1)],\n",
              " [(26, 1)],\n",
              " [(26, 1), (30, 1)],\n",
              " [(6, 1)],\n",
              " [(3, 1), (7, 1)],\n",
              " [(3, 1), (7, 1), (12, 1)],\n",
              " [(26, 1)],\n",
              " [(26, 1)],\n",
              " [(26, 1)],\n",
              " [(3, 1)],\n",
              " [(3, 1)],\n",
              " [(0, 1), (3, 1)],\n",
              " [(5, 1)],\n",
              " [(31, 1)],\n",
              " [(5, 1), (12, 1)],\n",
              " [(32, 1)],\n",
              " [(5, 1)],\n",
              " [(5, 1), (7, 1)],\n",
              " [(3, 1)],\n",
              " [(5, 1), (7, 1)],\n",
              " [(2, 1), (29, 1)],\n",
              " [(5, 1)],\n",
              " [(5, 1)],\n",
              " [(0, 1), (3, 1), (7, 1)],\n",
              " [(3, 1), (29, 1)],\n",
              " [(3, 1)],\n",
              " [(5, 1), (7, 1)],\n",
              " [(0, 1), (5, 1)],\n",
              " [(23, 1)],\n",
              " [(3, 1), (7, 1)],\n",
              " [(3, 1), (6, 1)],\n",
              " [(7, 1)],\n",
              " [(2, 1)],\n",
              " [(5, 1), (7, 1), (12, 1)],\n",
              " [(5, 1), (7, 1)],\n",
              " [(15, 1)],\n",
              " [(8, 1)],\n",
              " [(26, 1)],\n",
              " [(3, 1), (9, 1)],\n",
              " [(5, 1), (12, 1)],\n",
              " [(3, 1)],\n",
              " [(3, 1), (9, 1), (28, 1)],\n",
              " [(3, 1)],\n",
              " [(5, 1), (33, 1)],\n",
              " [(5, 1), (7, 1)],\n",
              " [(5, 1), (7, 1), (34, 1)],\n",
              " [(5, 1), (7, 1), (12, 1)],\n",
              " [(5, 1)],\n",
              " [(2, 1)],\n",
              " [(26, 1)],\n",
              " [(5, 1), (7, 1)],\n",
              " [(5, 1)],\n",
              " [(26, 1)],\n",
              " [(34, 1), (35, 1)],\n",
              " [(1, 1)],\n",
              " [(3, 1), (9, 1), (25, 1), (31, 1)],\n",
              " [(5, 1), (12, 1)],\n",
              " [(5, 1), (6, 1), (7, 1)],\n",
              " [(5, 1), (12, 1)],\n",
              " [(8, 1)],\n",
              " [(3, 1), (5, 1), (9, 1)],\n",
              " [(3, 1)],\n",
              " [(0, 1), (5, 1)],\n",
              " [(5, 1), (14, 1), (36, 1)],\n",
              " [(34, 1), (35, 1)],\n",
              " [(3, 1), (12, 1)],\n",
              " [(34, 1), (35, 1)],\n",
              " [(1, 1)],\n",
              " [(3, 1), (9, 1), (25, 1)],\n",
              " [(5, 1)],\n",
              " [(5, 1), (6, 1), (7, 1)],\n",
              " [(5, 1), (12, 1)],\n",
              " [(8, 1)],\n",
              " [(3, 1), (5, 1), (9, 1)],\n",
              " [(0, 1), (5, 1)],\n",
              " [(5, 1), (14, 1), (36, 1)],\n",
              " [(31, 1), (34, 1)],\n",
              " [(3, 1), (12, 1)],\n",
              " [(34, 1), (35, 1)],\n",
              " [(1, 1)],\n",
              " [(3, 1), (9, 1), (25, 1)],\n",
              " [(5, 1), (12, 1)],\n",
              " [(5, 1), (6, 1), (7, 1)],\n",
              " [(5, 1), (12, 1)],\n",
              " [(8, 1)],\n",
              " [(3, 1), (5, 1), (9, 1)],\n",
              " [(0, 1), (5, 1)],\n",
              " [(5, 1), (14, 1), (36, 1)],\n",
              " [(31, 1), (34, 1)],\n",
              " [(3, 1), (12, 1)],\n",
              " [(3, 1)],\n",
              " [(2, 2)],\n",
              " [(8, 1), (29, 1)],\n",
              " [(5, 1), (37, 1), (38, 1)],\n",
              " [(3, 1)],\n",
              " [(3, 1), (29, 1)],\n",
              " [(15, 1)],\n",
              " [(2, 1)],\n",
              " [(3, 1)],\n",
              " [(12, 1)],\n",
              " [(5, 1), (9, 1)],\n",
              " [(31, 1), (34, 1)],\n",
              " [(5, 1), (12, 1)],\n",
              " [(3, 1)],\n",
              " [(31, 1)],\n",
              " [(2, 1), (19, 1)],\n",
              " [(31, 1)],\n",
              " [(12, 1)],\n",
              " [(3, 1)],\n",
              " [(12, 1)],\n",
              " [(5, 1), (12, 1)],\n",
              " [(34, 1)],\n",
              " [(3, 1)],\n",
              " [(5, 1)],\n",
              " [(5, 1)],\n",
              " [(26, 1)],\n",
              " [(26, 1)],\n",
              " [(26, 1)],\n",
              " [(3, 1), (12, 1)],\n",
              " [(2, 1), (3, 1)],\n",
              " [(5, 1), (9, 1)],\n",
              " [(30, 1)],\n",
              " [(25, 1), (39, 1)],\n",
              " [(5, 1), (14, 1)],\n",
              " [(3, 1), (19, 1)],\n",
              " [(5, 1), (12, 1)],\n",
              " [(3, 1)]]"
            ]
          },
          "metadata": {},
          "execution_count": 236
        }
      ]
    },
    {
      "cell_type": "code",
      "source": [
        "import requests\n",
        "from typing import Optional\n",
        "from tenacity import retry, stop_after_attempt, wait_random_exponential\n",
        "\n",
        "REST = \"https://translate.googleapis.com/translate_a/single?hl=ko&dt=t&client=gtx&ie=utf-8\"\n",
        "\n",
        "\n",
        "@retry(stop=stop_after_attempt(3), wait=wait_random_exponential(multiplier=1, min=4, max=10))\n",
        "def translateWithGoogleAPI(text: str, sl: str = 'ko', hl: str = 'ko', tl: str = 'en') -> Optional[str]:\n",
        "    with requests.get(REST, params={\"q\": text, \"sl\": sl, \"hl\": hl, \"tl\": tl}) as req:\n",
        "        result = req.json()[0][0][0]\n",
        "    return result\n"
      ],
      "metadata": {
        "colab": {
          "base_uri": "https://localhost:8080/"
        },
        "id": "qhdCnFXqoTva",
        "outputId": "e2108bad-4bda-48de-8230-c4528034fa7d"
      },
      "execution_count": null,
      "outputs": [
        {
          "output_type": "stream",
          "name": "stderr",
          "text": [
            "/usr/local/lib/python3.10/dist-packages/ipykernel/ipkernel.py:283: DeprecationWarning: `should_run_async` will not call `transform_cell` automatically in the future. Please pass the result to `transformed_cell` argument and any exception that happen during thetransform in `preprocessing_exc_tuple` in IPython 7.17 and above.\n",
            "  and should_run_async(code)\n"
          ]
        }
      ]
    },
    {
      "cell_type": "code",
      "source": [
        "results"
      ],
      "metadata": {
        "colab": {
          "base_uri": "https://localhost:8080/"
        },
        "id": "3Evgrs-Voll0",
        "outputId": "b3be6cde-bdf5-4d08-8366-74014476d0e4"
      },
      "execution_count": null,
      "outputs": [
        {
          "output_type": "stream",
          "name": "stderr",
          "text": [
            "/usr/local/lib/python3.10/dist-packages/ipykernel/ipkernel.py:283: DeprecationWarning: `should_run_async` will not call `transform_cell` automatically in the future. Please pass the result to `transformed_cell` argument and any exception that happen during thetransform in `preprocessing_exc_tuple` in IPython 7.17 and above.\n",
            "  and should_run_async(code)\n"
          ]
        },
        {
          "output_type": "execute_result",
          "data": {
            "text/plain": [
              "[('표현', 99),\n",
              " ('묘사', 62),\n",
              " ('냄새', 33),\n",
              " ('단어', 32),\n",
              " ('식감', 20),\n",
              " ('시각', 17),\n",
              " ('내용', 15),\n",
              " ('음식', 11),\n",
              " ('재료', 11),\n",
              " ('생각', 11),\n",
              " ('느낌', 9),\n",
              " ('색깔', 8),\n",
              " ('설명', 7),\n",
              " ('모양', 7),\n",
              " ('감정', 7),\n",
              " ('질감', 5),\n",
              " ('방법', 5),\n",
              " ('작성', 5),\n",
              " ('문장', 4),\n",
              " ('크기', 4),\n",
              " ('흥미', 3),\n",
              " ('종류', 3),\n",
              " ('주제', 3),\n",
              " ('특징', 2),\n",
              " ('부분', 2),\n",
              " ('조합', 2),\n",
              " ('비유', 2),\n",
              " ('모습', 2),\n",
              " ('무슨', 2),\n",
              " ('스파게티', 2),\n",
              " ('전개', 2),\n",
              " ('시작', 2),\n",
              " ('사용', 2),\n",
              " ('이미지', 1),\n",
              " ('창의', 1),\n",
              " ('이유', 1),\n",
              " ('적성', 1),\n",
              " ('문법', 1),\n",
              " ('오류', 1),\n",
              " ('효과', 1),\n",
              " ('상큼', 1),\n",
              " ('생김새', 1),\n",
              " ('사람', 1),\n",
              " ('인사말', 1),\n",
              " ('중심', 1),\n",
              " ('조각', 1),\n",
              " ('제문', 1),\n",
              " ('각각', 1),\n",
              " ('색감', 1),\n",
              " ('감각', 1),\n",
              " ('효율', 1),\n",
              " ('패티', 1),\n",
              " ('구조', 1),\n",
              " ('체계', 1),\n",
              " ('향기', 1),\n",
              " ('제일', 1),\n",
              " ('위해', 1),\n",
              " ('형용사', 1),\n",
              " ('이건', 1),\n",
              " ('겉모습', 1)]"
            ]
          },
          "metadata": {},
          "execution_count": 240
        }
      ]
    },
    {
      "cell_type": "code",
      "source": [
        "lda_model = LdaModel(corpus, num_topics=5, id2word=dictionary, passes=15)"
      ],
      "metadata": {
        "colab": {
          "base_uri": "https://localhost:8080/"
        },
        "id": "DCWxgNEpo0zz",
        "outputId": "8d47cb5a-5640-4a0b-e391-b7f212a564b5"
      },
      "execution_count": null,
      "outputs": [
        {
          "output_type": "stream",
          "name": "stderr",
          "text": [
            "/usr/local/lib/python3.10/dist-packages/ipykernel/ipkernel.py:283: DeprecationWarning: `should_run_async` will not call `transform_cell` automatically in the future. Please pass the result to `transformed_cell` argument and any exception that happen during thetransform in `preprocessing_exc_tuple` in IPython 7.17 and above.\n",
            "  and should_run_async(code)\n"
          ]
        }
      ]
    },
    {
      "cell_type": "code",
      "source": [
        "for n, topic in lda_model.print_topics():\n",
        "    print(n)\n",
        "    topic = [freq_word.split(\"*\") for freq_word in topic.split(\" + \")]\n",
        "    print(topic)\n",
        "    topic = [[float(f), t.replace('\"', \"\").replace('\"', \"\")] for f, t in topic]\n",
        "    print(topic)\n",
        "    y,x = list(zip(*topic))\n",
        "\n",
        "    pd.DataFrame({\"word\":x, \"frequency\":y}).sort_values(by=\"frequency\",ascending=True).plot(kind=\"barh\", x=\"word\", y=\"frequency\")\n",
        "    plt.xticks(rotation=45)\n",
        "    plt.figure(figsize=(5, 1))"
      ],
      "metadata": {
        "colab": {
          "base_uri": "https://localhost:8080/",
          "height": 1000
        },
        "id": "5XWWw2OXo-TB",
        "outputId": "4bd33110-3dd1-49d7-b51e-67c4619f8e94"
      },
      "execution_count": null,
      "outputs": [
        {
          "output_type": "stream",
          "name": "stderr",
          "text": [
            "/usr/local/lib/python3.10/dist-packages/ipykernel/ipkernel.py:283: DeprecationWarning: `should_run_async` will not call `transform_cell` automatically in the future. Please pass the result to `transformed_cell` argument and any exception that happen during thetransform in `preprocessing_exc_tuple` in IPython 7.17 and above.\n",
            "  and should_run_async(code)\n"
          ]
        },
        {
          "output_type": "stream",
          "name": "stdout",
          "text": [
            "0\n",
            "[['0.291', '\"expression\"'], ['0.199', '\"ingredient\"'], ['0.165', '\"word\"'], ['0.127', '\"emotion\"'], ['0.057', '\"subject\"'], ['0.021', '\"Appearance\"'], ['0.021', '\"reason\"'], ['0.004', '\"detail\"'], ['0.004', '\"smell\"'], ['0.004', '\"depiction\"']]\n",
            "[[0.291, 'expression'], [0.199, 'ingredient'], [0.165, 'word'], [0.127, 'emotion'], [0.057, 'subject'], [0.021, 'Appearance'], [0.021, 'reason'], [0.004, 'detail'], [0.004, 'smell'], [0.004, 'depiction']]\n",
            "1\n",
            "[['0.464', '\"expression\"'], ['0.169', '\"smell\"'], ['0.141', '\"Texture\"'], ['0.070', '\"color\"'], ['0.047', '\"shape\"'], ['0.032', '\"size\"'], ['0.017', '\"metaphor\"'], ['0.009', '\"adjective\"'], ['0.002', '\"emotion\"'], ['0.002', '\"food\"']]\n",
            "[[0.464, 'expression'], [0.169, 'smell'], [0.141, 'Texture'], [0.07, 'color'], [0.047, 'shape'], [0.032, 'size'], [0.017, 'metaphor'], [0.009, 'adjective'], [0.002, 'emotion'], [0.002, 'food']]\n",
            "2\n",
            "[['0.323', '\"word\"'], ['0.156', '\"food\"'], ['0.156', '\"expression\"'], ['0.129', '\"feel\"'], ['0.031', '\"mixture\"'], ['0.021', '\"texture\"'], ['0.020', '\"method\"'], ['0.017', '\"error\"'], ['0.017', '\"grammar\"'], ['0.017', '\"structure\"']]\n",
            "[[0.323, 'word'], [0.156, 'food'], [0.156, 'expression'], [0.129, 'feel'], [0.031, 'mixture'], [0.021, 'texture'], [0.02, 'method'], [0.017, 'error'], [0.017, 'grammar'], [0.017, 'structure']]\n",
            "3\n",
            "[['0.259', '\"detail\"'], ['0.191', '\"thought\"'], ['0.123', '\"explanation\"'], ['0.055', '\"write\"'], ['0.055', '\"sentence\"'], ['0.055', '\"interest\"'], ['0.054', '\"type\"'], ['0.037', '\"characteristic\"'], ['0.031', '\"Texture\"'], ['0.020', '\"texture\"']]\n",
            "[[0.259, 'detail'], [0.191, 'thought'], [0.123, 'explanation'], [0.055, 'write'], [0.055, 'sentence'], [0.055, 'interest'], [0.054, 'type'], [0.037, 'characteristic'], [0.031, 'Texture'], [0.02, 'texture']]\n",
            "4\n",
            "[['0.491', '\"depiction\"'], ['0.136', '\"time\"'], ['0.090', '\"expression\"'], ['0.088', '\"smell\"'], ['0.031', '\"method\"'], ['0.023', '\"texture\"'], ['0.017', '\"deployment\"'], ['0.017', '\"write\"'], ['0.017', '\"figure\"'], ['0.009', '\"image\"']]\n",
            "[[0.491, 'depiction'], [0.136, 'time'], [0.09, 'expression'], [0.088, 'smell'], [0.031, 'method'], [0.023, 'texture'], [0.017, 'deployment'], [0.017, 'write'], [0.017, 'figure'], [0.009, 'image']]\n"
          ]
        },
        {
          "output_type": "display_data",
          "data": {
            "text/plain": [
              "<Figure size 640x480 with 1 Axes>"
            ],
            "image/png": "[encoded data removed]"
          },
          "metadata": {}
        },
        {
          "output_type": "display_data",
          "data": {
            "text/plain": [
              "<Figure size 500x100 with 0 Axes>"
            ]
          },
          "metadata": {}
        },
        {
          "output_type": "display_data",
          "data": {
            "text/plain": [
              "<Figure size 640x480 with 1 Axes>"
            ],
            "image/png": "[encoded data removed]"
          },
          "metadata": {}
        },
        {
          "output_type": "display_data",
          "data": {
            "text/plain": [
              "<Figure size 500x100 with 0 Axes>"
            ]
          },
          "metadata": {}
        },
        {
          "output_type": "display_data",
          "data": {
            "text/plain": [
              "<Figure size 640x480 with 1 Axes>"
            ],
            "image/png": "[encoded data removed]"
          },
          "metadata": {}
        },
        {
          "output_type": "display_data",
          "data": {
            "text/plain": [
              "<Figure size 500x100 with 0 Axes>"
            ]
          },
          "metadata": {}
        },
        {
          "output_type": "display_data",
          "data": {
            "text/plain": [
              "<Figure size 640x480 with 1 Axes>"
            ],
            "image/png": "[encoded data removed]"
          },
          "metadata": {}
        },
        {
          "output_type": "display_data",
          "data": {
            "text/plain": [
              "<Figure size 500x100 with 0 Axes>"
            ]
          },
          "metadata": {}
        },
        {
          "output_type": "display_data",
          "data": {
            "text/plain": [
              "<Figure size 640x480 with 1 Axes>"
            ],
            "image/png": "[encoded data removed]"
          },
          "metadata": {}
        },
        {
          "output_type": "display_data",
          "data": {
            "text/plain": [
              "<Figure size 500x100 with 0 Axes>"
            ]
          },
          "metadata": {}
        }
      ]
    },
    {
      "cell_type": "code",
      "source": [],
      "metadata": {
        "id": "LAhlIHpXo-yx"
      },
      "execution_count": null,
      "outputs": []
    }
  ]
}